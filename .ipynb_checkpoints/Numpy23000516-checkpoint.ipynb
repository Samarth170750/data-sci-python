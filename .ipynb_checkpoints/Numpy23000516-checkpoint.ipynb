{
 "cells": [
  {
   "cell_type": "code",
   "execution_count": 2,
   "id": "d3d9b462-def6-4ba2-b616-64c126aca78c",
   "metadata": {},
   "outputs": [],
   "source": [
    "import numpy as np"
   ]
  },
  {
   "cell_type": "code",
   "execution_count": 3,
   "id": "5bd11e7c-ef62-41a7-a921-77867566999a",
   "metadata": {},
   "outputs": [
    {
     "data": {
      "text/plain": [
       "[0, 1, 2, 3, 4, 5, 6, 7, 8, 9]"
      ]
     },
     "execution_count": 3,
     "metadata": {},
     "output_type": "execute_result"
    }
   ],
   "source": [
    "list(range(0,10))"
   ]
  },
  {
   "cell_type": "code",
   "execution_count": 17,
   "id": "f0a5e1ae-7dd1-4a3e-9523-36bf48bf692e",
   "metadata": {},
   "outputs": [],
   "source": [
    "l1=[x for x in range(0,10)]"
   ]
  },
  {
   "cell_type": "code",
   "execution_count": 4,
   "id": "7266d415-213e-4473-aa63-ed7959dcebdc",
   "metadata": {},
   "outputs": [
    {
     "data": {
      "text/plain": [
       "[0, 1, 2, 3, 4, 5, 6, 7, 8, 9]"
      ]
     },
     "execution_count": 4,
     "metadata": {},
     "output_type": "execute_result"
    }
   ],
   "source": [
    "l1"
   ]
  },
  {
   "cell_type": "code",
   "execution_count": 5,
   "id": "bbe26969-ce72-4457-8ae7-aedc1a8f9637",
   "metadata": {},
   "outputs": [],
   "source": [
    "l2=[str(x) for x in l1]"
   ]
  },
  {
   "cell_type": "code",
   "execution_count": 6,
   "id": "d8a4b35d-6da0-4854-a1be-d4a603b08372",
   "metadata": {},
   "outputs": [
    {
     "data": {
      "text/plain": [
       "['0', '1', '2', '3', '4', '5', '6', '7', '8', '9']"
      ]
     },
     "execution_count": 6,
     "metadata": {},
     "output_type": "execute_result"
    }
   ],
   "source": [
    "l2"
   ]
  },
  {
   "cell_type": "code",
   "execution_count": 18,
   "id": "9d7d2482-0432-401b-b410-49a192e4505a",
   "metadata": {},
   "outputs": [],
   "source": [
    "l3=[x**2 for x in l1]"
   ]
  },
  {
   "cell_type": "code",
   "execution_count": 8,
   "id": "defb17bb-62eb-4cab-99cb-17809dd322d4",
   "metadata": {},
   "outputs": [
    {
     "data": {
      "text/plain": [
       "[0, 1, 4, 9, 16, 25, 36, 49, 64, 81]"
      ]
     },
     "execution_count": 8,
     "metadata": {},
     "output_type": "execute_result"
    }
   ],
   "source": [
    "l3"
   ]
  },
  {
   "cell_type": "code",
   "execution_count": 9,
   "id": "2c2f7e6e-7b56-4a8f-a267-003ef1944112",
   "metadata": {},
   "outputs": [
    {
     "data": {
      "text/plain": [
       "list"
      ]
     },
     "execution_count": 9,
     "metadata": {},
     "output_type": "execute_result"
    }
   ],
   "source": [
    "type(l3)\n"
   ]
  },
  {
   "cell_type": "code",
   "execution_count": 13,
   "id": "c7299a5f-cd53-4191-9e0f-4e982c9cc2c5",
   "metadata": {},
   "outputs": [],
   "source": [
    "import array"
   ]
  },
  {
   "cell_type": "code",
   "execution_count": 14,
   "id": "da9275d0-0234-4050-a369-f537a2e2a1ce",
   "metadata": {},
   "outputs": [
    {
     "name": "stdout",
     "output_type": "stream",
     "text": [
      "Help on built-in module array:\n",
      "\n",
      "NAME\n",
      "    array\n",
      "\n",
      "DESCRIPTION\n",
      "    This module defines an object type which can efficiently represent\n",
      "    an array of basic values: characters, integers, floating-point\n",
      "    numbers.  Arrays are sequence types and behave very much like lists,\n",
      "    except that the type of objects stored in them is constrained.\n",
      "\n",
      "CLASSES\n",
      "    builtins.object\n",
      "        array\n",
      "\n",
      "    ArrayType = class array(builtins.object)\n",
      "     |  array(typecode [, initializer]) -> array\n",
      "     |\n",
      "     |  Return a new array whose items are restricted by typecode, and\n",
      "     |  initialized from the optional initializer value, which must be a list,\n",
      "     |  string or iterable over elements of the appropriate type.\n",
      "     |\n",
      "     |  Arrays represent basic values and behave very much like lists, except\n",
      "     |  the type of objects stored in them is constrained. The type is specified\n",
      "     |  at object creation time by using a type code, which is a single character.\n",
      "     |  The following type codes are defined:\n",
      "     |\n",
      "     |      Type code   C Type             Minimum size in bytes\n",
      "     |      'b'         signed integer     1\n",
      "     |      'B'         unsigned integer   1\n",
      "     |      'u'         Unicode character  2 (see note)\n",
      "     |      'h'         signed integer     2\n",
      "     |      'H'         unsigned integer   2\n",
      "     |      'i'         signed integer     2\n",
      "     |      'I'         unsigned integer   2\n",
      "     |      'l'         signed integer     4\n",
      "     |      'L'         unsigned integer   4\n",
      "     |      'q'         signed integer     8 (see note)\n",
      "     |      'Q'         unsigned integer   8 (see note)\n",
      "     |      'f'         floating-point     4\n",
      "     |      'd'         floating-point     8\n",
      "     |\n",
      "     |  NOTE: The 'u' typecode corresponds to Python's unicode character. On\n",
      "     |  narrow builds this is 2-bytes on wide builds this is 4-bytes.\n",
      "     |\n",
      "     |  NOTE: The 'q' and 'Q' type codes are only available if the platform\n",
      "     |  C compiler used to build Python supports 'long long', or, on Windows,\n",
      "     |  '__int64'.\n",
      "     |\n",
      "     |  Methods:\n",
      "     |\n",
      "     |  append() -- append a new item to the end of the array\n",
      "     |  buffer_info() -- return information giving the current memory info\n",
      "     |  byteswap() -- byteswap all the items of the array\n",
      "     |  count() -- return number of occurrences of an object\n",
      "     |  extend() -- extend array by appending multiple elements from an iterable\n",
      "     |  fromfile() -- read items from a file object\n",
      "     |  fromlist() -- append items from the list\n",
      "     |  frombytes() -- append items from the string\n",
      "     |  index() -- return index of first occurrence of an object\n",
      "     |  insert() -- insert a new item into the array at a provided position\n",
      "     |  pop() -- remove and return item (default last)\n",
      "     |  remove() -- remove first occurrence of an object\n",
      "     |  reverse() -- reverse the order of the items in the array\n",
      "     |  tofile() -- write all items to a file object\n",
      "     |  tolist() -- return the array converted to an ordinary list\n",
      "     |  tobytes() -- return the array converted to a string\n",
      "     |\n",
      "     |  Attributes:\n",
      "     |\n",
      "     |  typecode -- the typecode character used to create the array\n",
      "     |  itemsize -- the length in bytes of one array item\n",
      "     |\n",
      "     |  Methods defined here:\n",
      "     |\n",
      "     |  __add__(self, value, /)\n",
      "     |      Return self+value.\n",
      "     |\n",
      "     |  __buffer__(self, flags, /)\n",
      "     |      Return a buffer object that exposes the underlying memory of the object.\n",
      "     |\n",
      "     |  __contains__(self, key, /)\n",
      "     |      Return bool(key in self).\n",
      "     |\n",
      "     |  __copy__(self, /)\n",
      "     |      Return a copy of the array.\n",
      "     |\n",
      "     |  __deepcopy__(self, unused, /)\n",
      "     |      Return a copy of the array.\n",
      "     |\n",
      "     |  __delitem__(self, key, /)\n",
      "     |      Delete self[key].\n",
      "     |\n",
      "     |  __eq__(self, value, /)\n",
      "     |      Return self==value.\n",
      "     |\n",
      "     |  __ge__(self, value, /)\n",
      "     |      Return self>=value.\n",
      "     |\n",
      "     |  __getattribute__(self, name, /)\n",
      "     |      Return getattr(self, name).\n",
      "     |\n",
      "     |  __getitem__(self, key, /)\n",
      "     |      Return self[key].\n",
      "     |\n",
      "     |  __gt__(self, value, /)\n",
      "     |      Return self>value.\n",
      "     |\n",
      "     |  __iadd__(self, value, /)\n",
      "     |      Implement self+=value.\n",
      "     |\n",
      "     |  __imul__(self, value, /)\n",
      "     |      Implement self*=value.\n",
      "     |\n",
      "     |  __iter__(self, /)\n",
      "     |      Implement iter(self).\n",
      "     |\n",
      "     |  __le__(self, value, /)\n",
      "     |      Return self<=value.\n",
      "     |\n",
      "     |  __len__(self, /)\n",
      "     |      Return len(self).\n",
      "     |\n",
      "     |  __lt__(self, value, /)\n",
      "     |      Return self<value.\n",
      "     |\n",
      "     |  __mul__(self, value, /)\n",
      "     |      Return self*value.\n",
      "     |\n",
      "     |  __ne__(self, value, /)\n",
      "     |      Return self!=value.\n",
      "     |\n",
      "     |  __reduce_ex__(self, value, /)\n",
      "     |      Return state information for pickling.\n",
      "     |\n",
      "     |  __release_buffer__(self, buffer, /)\n",
      "     |      Release the buffer object that exposes the underlying memory of the object.\n",
      "     |\n",
      "     |  __repr__(self, /)\n",
      "     |      Return repr(self).\n",
      "     |\n",
      "     |  __rmul__(self, value, /)\n",
      "     |      Return value*self.\n",
      "     |\n",
      "     |  __setitem__(self, key, value, /)\n",
      "     |      Set self[key] to value.\n",
      "     |\n",
      "     |  __sizeof__(self, /)\n",
      "     |      Size of the array in memory, in bytes.\n",
      "     |\n",
      "     |  append(self, v, /)\n",
      "     |      Append new value v to the end of the array.\n",
      "     |\n",
      "     |  buffer_info(self, /)\n",
      "     |      Return a tuple (address, length) giving the current memory address and the length in items of the buffer used to hold array's contents.\n",
      "     |\n",
      "     |      The length should be multiplied by the itemsize attribute to calculate\n",
      "     |      the buffer length in bytes.\n",
      "     |\n",
      "     |  byteswap(self, /)\n",
      "     |      Byteswap all items of the array.\n",
      "     |\n",
      "     |      If the items in the array are not 1, 2, 4, or 8 bytes in size, RuntimeError is\n",
      "     |      raised.\n",
      "     |\n",
      "     |  count(self, v, /)\n",
      "     |      Return number of occurrences of v in the array.\n",
      "     |\n",
      "     |  extend(self, bb, /)\n",
      "     |      Append items to the end of the array.\n",
      "     |\n",
      "     |  frombytes(self, buffer, /)\n",
      "     |      Appends items from the string, interpreting it as an array of machine values, as if it had been read from a file using the fromfile() method.\n",
      "     |\n",
      "     |  fromfile(self, f, n, /)\n",
      "     |      Read n objects from the file object f and append them to the end of the array.\n",
      "     |\n",
      "     |  fromlist(self, list, /)\n",
      "     |      Append items to array from list.\n",
      "     |\n",
      "     |  fromunicode(self, ustr, /)\n",
      "     |      Extends this array with data from the unicode string ustr.\n",
      "     |\n",
      "     |      The array must be a unicode type array; otherwise a ValueError is raised.\n",
      "     |      Use array.frombytes(ustr.encode(...)) to append Unicode data to an array of\n",
      "     |      some other type.\n",
      "     |\n",
      "     |  index(self, v, start=0, stop=9223372036854775807, /)\n",
      "     |      Return index of first occurrence of v in the array.\n",
      "     |\n",
      "     |      Raise ValueError if the value is not present.\n",
      "     |\n",
      "     |  insert(self, i, v, /)\n",
      "     |      Insert a new item v into the array before position i.\n",
      "     |\n",
      "     |  pop(self, i=-1, /)\n",
      "     |      Return the i-th element and delete it from the array.\n",
      "     |\n",
      "     |      i defaults to -1.\n",
      "     |\n",
      "     |  remove(self, v, /)\n",
      "     |      Remove the first occurrence of v in the array.\n",
      "     |\n",
      "     |  reverse(self, /)\n",
      "     |      Reverse the order of the items in the array.\n",
      "     |\n",
      "     |  tobytes(self, /)\n",
      "     |      Convert the array to an array of machine values and return the bytes representation.\n",
      "     |\n",
      "     |  tofile(self, f, /)\n",
      "     |      Write all items (as machine values) to the file object f.\n",
      "     |\n",
      "     |  tolist(self, /)\n",
      "     |      Convert array to an ordinary list with the same items.\n",
      "     |\n",
      "     |  tounicode(self, /)\n",
      "     |      Extends this array with data from the unicode string ustr.\n",
      "     |\n",
      "     |      Convert the array to a unicode string.  The array must be a unicode type array;\n",
      "     |      otherwise a ValueError is raised.  Use array.tobytes().decode() to obtain a\n",
      "     |      unicode string from an array of some other type.\n",
      "     |\n",
      "     |  ----------------------------------------------------------------------\n",
      "     |  Class methods defined here:\n",
      "     |\n",
      "     |  __class_getitem__(...)\n",
      "     |      See PEP 585\n",
      "     |\n",
      "     |  ----------------------------------------------------------------------\n",
      "     |  Static methods defined here:\n",
      "     |\n",
      "     |  __new__(*args, **kwargs)\n",
      "     |      Create and return a new object.  See help(type) for accurate signature.\n",
      "     |\n",
      "     |  ----------------------------------------------------------------------\n",
      "     |  Data descriptors defined here:\n",
      "     |\n",
      "     |  itemsize\n",
      "     |      the size, in bytes, of one array item\n",
      "     |\n",
      "     |  typecode\n",
      "     |      the typecode character used to create the array\n",
      "     |\n",
      "     |  ----------------------------------------------------------------------\n",
      "     |  Data and other attributes defined here:\n",
      "     |\n",
      "     |  __hash__ = None\n",
      "\n",
      "    class array(builtins.object)\n",
      "     |  array(typecode [, initializer]) -> array\n",
      "     |\n",
      "     |  Return a new array whose items are restricted by typecode, and\n",
      "     |  initialized from the optional initializer value, which must be a list,\n",
      "     |  string or iterable over elements of the appropriate type.\n",
      "     |\n",
      "     |  Arrays represent basic values and behave very much like lists, except\n",
      "     |  the type of objects stored in them is constrained. The type is specified\n",
      "     |  at object creation time by using a type code, which is a single character.\n",
      "     |  The following type codes are defined:\n",
      "     |\n",
      "     |      Type code   C Type             Minimum size in bytes\n",
      "     |      'b'         signed integer     1\n",
      "     |      'B'         unsigned integer   1\n",
      "     |      'u'         Unicode character  2 (see note)\n",
      "     |      'h'         signed integer     2\n",
      "     |      'H'         unsigned integer   2\n",
      "     |      'i'         signed integer     2\n",
      "     |      'I'         unsigned integer   2\n",
      "     |      'l'         signed integer     4\n",
      "     |      'L'         unsigned integer   4\n",
      "     |      'q'         signed integer     8 (see note)\n",
      "     |      'Q'         unsigned integer   8 (see note)\n",
      "     |      'f'         floating-point     4\n",
      "     |      'd'         floating-point     8\n",
      "     |\n",
      "     |  NOTE: The 'u' typecode corresponds to Python's unicode character. On\n",
      "     |  narrow builds this is 2-bytes on wide builds this is 4-bytes.\n",
      "     |\n",
      "     |  NOTE: The 'q' and 'Q' type codes are only available if the platform\n",
      "     |  C compiler used to build Python supports 'long long', or, on Windows,\n",
      "     |  '__int64'.\n",
      "     |\n",
      "     |  Methods:\n",
      "     |\n",
      "     |  append() -- append a new item to the end of the array\n",
      "     |  buffer_info() -- return information giving the current memory info\n",
      "     |  byteswap() -- byteswap all the items of the array\n",
      "     |  count() -- return number of occurrences of an object\n",
      "     |  extend() -- extend array by appending multiple elements from an iterable\n",
      "     |  fromfile() -- read items from a file object\n",
      "     |  fromlist() -- append items from the list\n",
      "     |  frombytes() -- append items from the string\n",
      "     |  index() -- return index of first occurrence of an object\n",
      "     |  insert() -- insert a new item into the array at a provided position\n",
      "     |  pop() -- remove and return item (default last)\n",
      "     |  remove() -- remove first occurrence of an object\n",
      "     |  reverse() -- reverse the order of the items in the array\n",
      "     |  tofile() -- write all items to a file object\n",
      "     |  tolist() -- return the array converted to an ordinary list\n",
      "     |  tobytes() -- return the array converted to a string\n",
      "     |\n",
      "     |  Attributes:\n",
      "     |\n",
      "     |  typecode -- the typecode character used to create the array\n",
      "     |  itemsize -- the length in bytes of one array item\n",
      "     |\n",
      "     |  Methods defined here:\n",
      "     |\n",
      "     |  __add__(self, value, /)\n",
      "     |      Return self+value.\n",
      "     |\n",
      "     |  __buffer__(self, flags, /)\n",
      "     |      Return a buffer object that exposes the underlying memory of the object.\n",
      "     |\n",
      "     |  __contains__(self, key, /)\n",
      "     |      Return bool(key in self).\n",
      "     |\n",
      "     |  __copy__(self, /)\n",
      "     |      Return a copy of the array.\n",
      "     |\n",
      "     |  __deepcopy__(self, unused, /)\n",
      "     |      Return a copy of the array.\n",
      "     |\n",
      "     |  __delitem__(self, key, /)\n",
      "     |      Delete self[key].\n",
      "     |\n",
      "     |  __eq__(self, value, /)\n",
      "     |      Return self==value.\n",
      "     |\n",
      "     |  __ge__(self, value, /)\n",
      "     |      Return self>=value.\n",
      "     |\n",
      "     |  __getattribute__(self, name, /)\n",
      "     |      Return getattr(self, name).\n",
      "     |\n",
      "     |  __getitem__(self, key, /)\n",
      "     |      Return self[key].\n",
      "     |\n",
      "     |  __gt__(self, value, /)\n",
      "     |      Return self>value.\n",
      "     |\n",
      "     |  __iadd__(self, value, /)\n",
      "     |      Implement self+=value.\n",
      "     |\n",
      "     |  __imul__(self, value, /)\n",
      "     |      Implement self*=value.\n",
      "     |\n",
      "     |  __iter__(self, /)\n",
      "     |      Implement iter(self).\n",
      "     |\n",
      "     |  __le__(self, value, /)\n",
      "     |      Return self<=value.\n",
      "     |\n",
      "     |  __len__(self, /)\n",
      "     |      Return len(self).\n",
      "     |\n",
      "     |  __lt__(self, value, /)\n",
      "     |      Return self<value.\n",
      "     |\n",
      "     |  __mul__(self, value, /)\n",
      "     |      Return self*value.\n",
      "     |\n",
      "     |  __ne__(self, value, /)\n",
      "     |      Return self!=value.\n",
      "     |\n",
      "     |  __reduce_ex__(self, value, /)\n",
      "     |      Return state information for pickling.\n",
      "     |\n",
      "     |  __release_buffer__(self, buffer, /)\n",
      "     |      Release the buffer object that exposes the underlying memory of the object.\n",
      "     |\n",
      "     |  __repr__(self, /)\n",
      "     |      Return repr(self).\n",
      "     |\n",
      "     |  __rmul__(self, value, /)\n",
      "     |      Return value*self.\n",
      "     |\n",
      "     |  __setitem__(self, key, value, /)\n",
      "     |      Set self[key] to value.\n",
      "     |\n",
      "     |  __sizeof__(self, /)\n",
      "     |      Size of the array in memory, in bytes.\n",
      "     |\n",
      "     |  append(self, v, /)\n",
      "     |      Append new value v to the end of the array.\n",
      "     |\n",
      "     |  buffer_info(self, /)\n",
      "     |      Return a tuple (address, length) giving the current memory address and the length in items of the buffer used to hold array's contents.\n",
      "     |\n",
      "     |      The length should be multiplied by the itemsize attribute to calculate\n",
      "     |      the buffer length in bytes.\n",
      "     |\n",
      "     |  byteswap(self, /)\n",
      "     |      Byteswap all items of the array.\n",
      "     |\n",
      "     |      If the items in the array are not 1, 2, 4, or 8 bytes in size, RuntimeError is\n",
      "     |      raised.\n",
      "     |\n",
      "     |  count(self, v, /)\n",
      "     |      Return number of occurrences of v in the array.\n",
      "     |\n",
      "     |  extend(self, bb, /)\n",
      "     |      Append items to the end of the array.\n",
      "     |\n",
      "     |  frombytes(self, buffer, /)\n",
      "     |      Appends items from the string, interpreting it as an array of machine values, as if it had been read from a file using the fromfile() method.\n",
      "     |\n",
      "     |  fromfile(self, f, n, /)\n",
      "     |      Read n objects from the file object f and append them to the end of the array.\n",
      "     |\n",
      "     |  fromlist(self, list, /)\n",
      "     |      Append items to array from list.\n",
      "     |\n",
      "     |  fromunicode(self, ustr, /)\n",
      "     |      Extends this array with data from the unicode string ustr.\n",
      "     |\n",
      "     |      The array must be a unicode type array; otherwise a ValueError is raised.\n",
      "     |      Use array.frombytes(ustr.encode(...)) to append Unicode data to an array of\n",
      "     |      some other type.\n",
      "     |\n",
      "     |  index(self, v, start=0, stop=9223372036854775807, /)\n",
      "     |      Return index of first occurrence of v in the array.\n",
      "     |\n",
      "     |      Raise ValueError if the value is not present.\n",
      "     |\n",
      "     |  insert(self, i, v, /)\n",
      "     |      Insert a new item v into the array before position i.\n",
      "     |\n",
      "     |  pop(self, i=-1, /)\n",
      "     |      Return the i-th element and delete it from the array.\n",
      "     |\n",
      "     |      i defaults to -1.\n",
      "     |\n",
      "     |  remove(self, v, /)\n",
      "     |      Remove the first occurrence of v in the array.\n",
      "     |\n",
      "     |  reverse(self, /)\n",
      "     |      Reverse the order of the items in the array.\n",
      "     |\n",
      "     |  tobytes(self, /)\n",
      "     |      Convert the array to an array of machine values and return the bytes representation.\n",
      "     |\n",
      "     |  tofile(self, f, /)\n",
      "     |      Write all items (as machine values) to the file object f.\n",
      "     |\n",
      "     |  tolist(self, /)\n",
      "     |      Convert array to an ordinary list with the same items.\n",
      "     |\n",
      "     |  tounicode(self, /)\n",
      "     |      Extends this array with data from the unicode string ustr.\n",
      "     |\n",
      "     |      Convert the array to a unicode string.  The array must be a unicode type array;\n",
      "     |      otherwise a ValueError is raised.  Use array.tobytes().decode() to obtain a\n",
      "     |      unicode string from an array of some other type.\n",
      "     |\n",
      "     |  ----------------------------------------------------------------------\n",
      "     |  Class methods defined here:\n",
      "     |\n",
      "     |  __class_getitem__(...)\n",
      "     |      See PEP 585\n",
      "     |\n",
      "     |  ----------------------------------------------------------------------\n",
      "     |  Static methods defined here:\n",
      "     |\n",
      "     |  __new__(*args, **kwargs)\n",
      "     |      Create and return a new object.  See help(type) for accurate signature.\n",
      "     |\n",
      "     |  ----------------------------------------------------------------------\n",
      "     |  Data descriptors defined here:\n",
      "     |\n",
      "     |  itemsize\n",
      "     |      the size, in bytes, of one array item\n",
      "     |\n",
      "     |  typecode\n",
      "     |      the typecode character used to create the array\n",
      "     |\n",
      "     |  ----------------------------------------------------------------------\n",
      "     |  Data and other attributes defined here:\n",
      "     |\n",
      "     |  __hash__ = None\n",
      "\n",
      "DATA\n",
      "    typecodes = 'bBuhHiIlLqQfd'\n",
      "\n",
      "FILE\n",
      "    (built-in)\n",
      "\n",
      "\n"
     ]
    }
   ],
   "source": [
    "help(array)"
   ]
  },
  {
   "cell_type": "code",
   "execution_count": 24,
   "id": "c6949fc1-9a78-42e1-9a03-aa73f0883640",
   "metadata": {},
   "outputs": [
    {
     "data": {
      "text/plain": [
       "\u001b[1;31mInit signature:\u001b[0m \u001b[0marray\u001b[0m\u001b[1;33m.\u001b[0m\u001b[0marray\u001b[0m\u001b[1;33m(\u001b[0m\u001b[0mself\u001b[0m\u001b[1;33m,\u001b[0m \u001b[1;33m/\u001b[0m\u001b[1;33m,\u001b[0m \u001b[1;33m*\u001b[0m\u001b[0margs\u001b[0m\u001b[1;33m,\u001b[0m \u001b[1;33m**\u001b[0m\u001b[0mkwargs\u001b[0m\u001b[1;33m)\u001b[0m\u001b[1;33m\u001b[0m\u001b[1;33m\u001b[0m\u001b[0m\n",
       "\u001b[1;31mDocstring:\u001b[0m     \n",
       "array(typecode [, initializer]) -> array\n",
       "\n",
       "Return a new array whose items are restricted by typecode, and\n",
       "initialized from the optional initializer value, which must be a list,\n",
       "string or iterable over elements of the appropriate type.\n",
       "\n",
       "Arrays represent basic values and behave very much like lists, except\n",
       "the type of objects stored in them is constrained. The type is specified\n",
       "at object creation time by using a type code, which is a single character.\n",
       "The following type codes are defined:\n",
       "\n",
       "    Type code   C Type             Minimum size in bytes\n",
       "    'b'         signed integer     1\n",
       "    'B'         unsigned integer   1\n",
       "    'u'         Unicode character  2 (see note)\n",
       "    'h'         signed integer     2\n",
       "    'H'         unsigned integer   2\n",
       "    'i'         signed integer     2\n",
       "    'I'         unsigned integer   2\n",
       "    'l'         signed integer     4\n",
       "    'L'         unsigned integer   4\n",
       "    'q'         signed integer     8 (see note)\n",
       "    'Q'         unsigned integer   8 (see note)\n",
       "    'f'         floating-point     4\n",
       "    'd'         floating-point     8\n",
       "\n",
       "NOTE: The 'u' typecode corresponds to Python's unicode character. On\n",
       "narrow builds this is 2-bytes on wide builds this is 4-bytes.\n",
       "\n",
       "NOTE: The 'q' and 'Q' type codes are only available if the platform\n",
       "C compiler used to build Python supports 'long long', or, on Windows,\n",
       "'__int64'.\n",
       "\n",
       "Methods:\n",
       "\n",
       "append() -- append a new item to the end of the array\n",
       "buffer_info() -- return information giving the current memory info\n",
       "byteswap() -- byteswap all the items of the array\n",
       "count() -- return number of occurrences of an object\n",
       "extend() -- extend array by appending multiple elements from an iterable\n",
       "fromfile() -- read items from a file object\n",
       "fromlist() -- append items from the list\n",
       "frombytes() -- append items from the string\n",
       "index() -- return index of first occurrence of an object\n",
       "insert() -- insert a new item into the array at a provided position\n",
       "pop() -- remove and return item (default last)\n",
       "remove() -- remove first occurrence of an object\n",
       "reverse() -- reverse the order of the items in the array\n",
       "tofile() -- write all items to a file object\n",
       "tolist() -- return the array converted to an ordinary list\n",
       "tobytes() -- return the array converted to a string\n",
       "\n",
       "Attributes:\n",
       "\n",
       "typecode -- the typecode character used to create the array\n",
       "itemsize -- the length in bytes of one array item\n",
       "\u001b[1;31mType:\u001b[0m           type\n",
       "\u001b[1;31mSubclasses:\u001b[0m     "
      ]
     },
     "metadata": {},
     "output_type": "display_data"
    }
   ],
   "source": [
    "arr=array.array?"
   ]
  },
  {
   "cell_type": "code",
   "execution_count": 21,
   "id": "7a9c679c-3bc0-445e-b83a-ca8538bd02ff",
   "metadata": {},
   "outputs": [
    {
     "data": {
      "text/plain": [
       "array('f', [0.0, 1.0, 4.0, 9.0, 16.0, 25.0, 36.0, 49.0, 64.0, 81.0])"
      ]
     },
     "execution_count": 21,
     "metadata": {},
     "output_type": "execute_result"
    }
   ],
   "source": [
    "arr"
   ]
  },
  {
   "cell_type": "code",
   "execution_count": 16,
   "id": "48517af3-d32b-4b20-97f6-35fb63e5a429",
   "metadata": {},
   "outputs": [],
   "source": [
    "arr.reverse()"
   ]
  },
  {
   "cell_type": "code",
   "execution_count": 17,
   "id": "b6065639-92a4-485f-ae3b-a26e6ccbcecd",
   "metadata": {},
   "outputs": [
    {
     "data": {
      "text/plain": [
       "array('i', [81, 64, 49, 36, 25, 16, 9, 4, 1, 0])"
      ]
     },
     "execution_count": 17,
     "metadata": {},
     "output_type": "execute_result"
    }
   ],
   "source": [
    "arr"
   ]
  },
  {
   "cell_type": "code",
   "execution_count": 19,
   "id": "7878cbee-d490-4284-9489-b897985b4a40",
   "metadata": {},
   "outputs": [
    {
     "data": {
      "text/plain": [
       "array.array"
      ]
     },
     "execution_count": 19,
     "metadata": {},
     "output_type": "execute_result"
    }
   ],
   "source": [
    "type(arr)"
   ]
  },
  {
   "cell_type": "code",
   "execution_count": 20,
   "id": "51a69c55-090e-4289-a6c9-b583873a2194",
   "metadata": {},
   "outputs": [],
   "source": [
    "arr1=array.array('i',[x for x in range(0,10)])# 'i'=integer"
   ]
  },
  {
   "cell_type": "code",
   "execution_count": 21,
   "id": "e1753248-203d-4a1d-8082-528505ade34d",
   "metadata": {},
   "outputs": [
    {
     "data": {
      "text/plain": [
       "array('i', [0, 1, 2, 3, 4, 5, 6, 7, 8, 9])"
      ]
     },
     "execution_count": 21,
     "metadata": {},
     "output_type": "execute_result"
    }
   ],
   "source": [
    "arr1"
   ]
  },
  {
   "cell_type": "code",
   "execution_count": 22,
   "id": "bbcd7e58-9a88-4ac4-95e7-96d734146e00",
   "metadata": {},
   "outputs": [
    {
     "data": {
      "text/plain": [
       "array([ 0,  1,  4,  9, 16, 25, 36, 49, 64, 81])"
      ]
     },
     "execution_count": 22,
     "metadata": {},
     "output_type": "execute_result"
    }
   ],
   "source": [
    "np.array(l3)"
   ]
  },
  {
   "cell_type": "code",
   "execution_count": 23,
   "id": "7f99b44a-724b-4a8e-bbcf-aaed6ad5d1ae",
   "metadata": {},
   "outputs": [
    {
     "data": {
      "text/plain": [
       "array([ 3,  4,  5,  6,  7,  8,  9, 10, 11, 12])"
      ]
     },
     "execution_count": 23,
     "metadata": {},
     "output_type": "execute_result"
    }
   ],
   "source": [
    "np.array([x+3 for x in l1])"
   ]
  },
  {
   "cell_type": "code",
   "execution_count": 24,
   "id": "ba6551db-52be-47fd-a9ed-0058a2aa74b4",
   "metadata": {},
   "outputs": [
    {
     "data": {
      "text/plain": [
       "array([1., 2., 3., 4., 5.])"
      ]
     },
     "execution_count": 24,
     "metadata": {},
     "output_type": "execute_result"
    }
   ],
   "source": [
    "np.array([1,2,3,4,5],dtype='float')"
   ]
  },
  {
   "cell_type": "code",
   "execution_count": 25,
   "id": "b1641f3b-b769-4e8d-afa4-9b83cfe93c7e",
   "metadata": {},
   "outputs": [
    {
     "data": {
      "text/plain": [
       "array(['1', '2', '3', '4', '5'], dtype='<U1')"
      ]
     },
     "execution_count": 25,
     "metadata": {},
     "output_type": "execute_result"
    }
   ],
   "source": [
    "np.array([1,2,3,4,5],dtype='str')"
   ]
  },
  {
   "cell_type": "code",
   "execution_count": 26,
   "id": "39c57232-6afe-40c5-9d0e-a9a8763d3ed5",
   "metadata": {},
   "outputs": [
    {
     "data": {
      "text/plain": [
       "array([1., 2., 3., 4., 5.])"
      ]
     },
     "execution_count": 26,
     "metadata": {},
     "output_type": "execute_result"
    }
   ],
   "source": [
    "np.array([1,2,3,4,5],dtype=float)"
   ]
  },
  {
   "cell_type": "code",
   "execution_count": 27,
   "id": "968f20e0-b746-4131-b87d-79c57758fc40",
   "metadata": {},
   "outputs": [
    {
     "data": {
      "text/plain": [
       "array([1., 2., 3., 4., 5.], dtype=float32)"
      ]
     },
     "execution_count": 27,
     "metadata": {},
     "output_type": "execute_result"
    }
   ],
   "source": [
    "np.array([1,2,3,4,5],dtype=np.float32)\n",
    "array.dtype()"
   ]
  },
  {
   "cell_type": "code",
   "execution_count": 28,
   "id": "ec6a5616-11f7-420d-a850-e0dfd7adc62e",
   "metadata": {},
   "outputs": [],
   "source": [
    "m=[[1,2,3],[4,5,6],[7,8,9]] #2D list"
   ]
  },
  {
   "cell_type": "code",
   "execution_count": 29,
   "id": "c816308b-a1af-43bb-9593-c542a5f52a0e",
   "metadata": {},
   "outputs": [
    {
     "data": {
      "text/plain": [
       "[[1, 2, 3], [4, 5, 6], [7, 8, 9]]"
      ]
     },
     "execution_count": 29,
     "metadata": {},
     "output_type": "execute_result"
    }
   ],
   "source": [
    "m"
   ]
  },
  {
   "cell_type": "code",
   "execution_count": 30,
   "id": "67b97455-8263-403c-ab46-7011a50cccd6",
   "metadata": {},
   "outputs": [
    {
     "data": {
      "text/plain": [
       "array([[1, 2, 3],\n",
       "       [4, 5, 6],\n",
       "       [7, 8, 9]])"
      ]
     },
     "execution_count": 30,
     "metadata": {},
     "output_type": "execute_result"
    }
   ],
   "source": [
    "np.array([range(x,x+3) for x in [1,4,7]])"
   ]
  },
  {
   "cell_type": "code",
   "execution_count": 31,
   "id": "fd7feefc-1e83-4312-afac-7fdd9b3c43df",
   "metadata": {},
   "outputs": [
    {
     "data": {
      "text/plain": [
       "[range(1, 4), range(4, 7), range(7, 10)]"
      ]
     },
     "execution_count": 31,
     "metadata": {},
     "output_type": "execute_result"
    }
   ],
   "source": [
    "[range(x,x+3) for x in [1,4,7]]"
   ]
  },
  {
   "cell_type": "code",
   "execution_count": 32,
   "id": "eea7b4b7-4a81-420e-8d16-30fc680b53b7",
   "metadata": {},
   "outputs": [
    {
     "data": {
      "text/plain": [
       "array([0, 0, 0, 0, 0, 0, 0, 0, 0, 0])"
      ]
     },
     "execution_count": 32,
     "metadata": {},
     "output_type": "execute_result"
    }
   ],
   "source": [
    "np.zeros(10,dtype=int)"
   ]
  },
  {
   "cell_type": "code",
   "execution_count": 33,
   "id": "125019bd-7ed7-4b91-96d2-cc1f64464e8a",
   "metadata": {},
   "outputs": [
    {
     "data": {
      "text/plain": [
       "array([[0., 0., 0., 0.],\n",
       "       [0., 0., 0., 0.],\n",
       "       [0., 0., 0., 0.]])"
      ]
     },
     "execution_count": 33,
     "metadata": {},
     "output_type": "execute_result"
    }
   ],
   "source": [
    "np.zeros([3,4])"
   ]
  },
  {
   "cell_type": "code",
   "execution_count": 34,
   "id": "5c7f705a-b3b5-44e1-ba72-9286e9797b1a",
   "metadata": {},
   "outputs": [
    {
     "data": {
      "text/plain": [
       "array([[0., 0., 0., 0.],\n",
       "       [0., 0., 0., 0.],\n",
       "       [0., 0., 0., 0.]])"
      ]
     },
     "execution_count": 34,
     "metadata": {},
     "output_type": "execute_result"
    }
   ],
   "source": [
    "np.zeros((3,4))"
   ]
  },
  {
   "cell_type": "code",
   "execution_count": 35,
   "id": "9d41d99c-bfcc-4ece-8fa6-c69adbfcd9c4",
   "metadata": {},
   "outputs": [
    {
     "data": {
      "text/plain": [
       "array([[1., 1.],\n",
       "       [1., 1.]])"
      ]
     },
     "execution_count": 35,
     "metadata": {},
     "output_type": "execute_result"
    }
   ],
   "source": [
    "np.ones((2,2))"
   ]
  },
  {
   "cell_type": "code",
   "execution_count": 36,
   "id": "1cb78e39-9a2f-43e0-b5ac-e2f2e667f9f3",
   "metadata": {},
   "outputs": [],
   "source": [
    "arr3=np.ones([10,10])"
   ]
  },
  {
   "cell_type": "code",
   "execution_count": 37,
   "id": "de38f794-5462-4448-8779-6be0e48cf22b",
   "metadata": {},
   "outputs": [
    {
     "data": {
      "text/plain": [
       "array([[1., 1., 1., 1., 1., 1., 1., 1., 1., 1.],\n",
       "       [1., 1., 1., 1., 1., 1., 1., 1., 1., 1.],\n",
       "       [1., 1., 1., 1., 1., 1., 1., 1., 1., 1.],\n",
       "       [1., 1., 1., 1., 1., 1., 1., 1., 1., 1.],\n",
       "       [1., 1., 1., 1., 1., 1., 1., 1., 1., 1.],\n",
       "       [1., 1., 1., 1., 1., 1., 1., 1., 1., 1.],\n",
       "       [1., 1., 1., 1., 1., 1., 1., 1., 1., 1.],\n",
       "       [1., 1., 1., 1., 1., 1., 1., 1., 1., 1.],\n",
       "       [1., 1., 1., 1., 1., 1., 1., 1., 1., 1.],\n",
       "       [1., 1., 1., 1., 1., 1., 1., 1., 1., 1.]])"
      ]
     },
     "execution_count": 37,
     "metadata": {},
     "output_type": "execute_result"
    }
   ],
   "source": [
    "arr3"
   ]
  },
  {
   "cell_type": "code",
   "execution_count": 39,
   "id": "7d98582f-7eff-47f2-9261-e75255bc8fbe",
   "metadata": {},
   "outputs": [],
   "source": [
    "arr3[1:9,1:9]=0#1:9= [1][1] se le kar [8][1] and 1:9= [1][1] se le kar [1][8]"
   ]
  },
  {
   "cell_type": "code",
   "execution_count": 40,
   "id": "7318d57f-dda5-441c-8f69-b8a6931e0473",
   "metadata": {},
   "outputs": [
    {
     "data": {
      "text/plain": [
       "array([[1., 1., 1., 1., 1., 1., 1., 1., 1., 1.],\n",
       "       [1., 0., 0., 0., 0., 0., 0., 0., 0., 1.],\n",
       "       [1., 0., 0., 0., 0., 0., 0., 0., 0., 1.],\n",
       "       [1., 0., 0., 0., 0., 0., 0., 0., 0., 1.],\n",
       "       [1., 0., 0., 0., 0., 0., 0., 0., 0., 1.],\n",
       "       [1., 0., 0., 0., 0., 0., 0., 0., 0., 1.],\n",
       "       [1., 0., 0., 0., 0., 0., 0., 0., 0., 1.],\n",
       "       [1., 0., 0., 0., 0., 0., 0., 0., 0., 1.],\n",
       "       [1., 0., 0., 0., 0., 0., 0., 0., 0., 1.],\n",
       "       [1., 1., 1., 1., 1., 1., 1., 1., 1., 1.]])"
      ]
     },
     "execution_count": 40,
     "metadata": {},
     "output_type": "execute_result"
    }
   ],
   "source": [
    "arr3"
   ]
  },
  {
   "cell_type": "code",
   "execution_count": 7,
   "id": "7004f802-ee85-40ee-be1f-dd6924a18b2f",
   "metadata": {},
   "outputs": [],
   "source": [
    "arr4=np.arange(0,6).reshape(1,2,3)"
   ]
  },
  {
   "cell_type": "code",
   "execution_count": 8,
   "id": "1de0aab8-e9be-4335-b624-608d229dff1a",
   "metadata": {},
   "outputs": [
    {
     "data": {
      "text/plain": [
       "array([[[0, 1, 2],\n",
       "        [3, 4, 5]]])"
      ]
     },
     "execution_count": 8,
     "metadata": {},
     "output_type": "execute_result"
    }
   ],
   "source": [
    "arr4"
   ]
  },
  {
   "cell_type": "code",
   "execution_count": 43,
   "id": "dcf92741-cd11-4590-b133-d963e542ebd4",
   "metadata": {},
   "outputs": [],
   "source": [
    "arr4[:]=0"
   ]
  },
  {
   "cell_type": "code",
   "execution_count": 44,
   "id": "0f596638-140c-4d3f-a6c1-7a48cf2b667d",
   "metadata": {},
   "outputs": [
    {
     "data": {
      "text/plain": [
       "array([[0, 0, 0],\n",
       "       [0, 0, 0],\n",
       "       [0, 0, 0]])"
      ]
     },
     "execution_count": 44,
     "metadata": {},
     "output_type": "execute_result"
    }
   ],
   "source": [
    "arr4"
   ]
  },
  {
   "cell_type": "code",
   "execution_count": 45,
   "id": "ea8a8049-3f3a-4bf4-8a25-e6e71ddbfe32",
   "metadata": {},
   "outputs": [
    {
     "data": {
      "text/plain": [
       "array([[3.14, 3.14, 3.14, 3.14],\n",
       "       [3.14, 3.14, 3.14, 3.14],\n",
       "       [3.14, 3.14, 3.14, 3.14]])"
      ]
     },
     "execution_count": 45,
     "metadata": {},
     "output_type": "execute_result"
    }
   ],
   "source": [
    "np.full((3,4), 3.14)"
   ]
  },
  {
   "cell_type": "code",
   "execution_count": 46,
   "id": "27c19204-44ee-49a7-8576-defb41d9c2f3",
   "metadata": {},
   "outputs": [
    {
     "data": {
      "text/plain": [
       "array([[1., 0., 0.],\n",
       "       [0., 1., 0.],\n",
       "       [0., 0., 1.]])"
      ]
     },
     "execution_count": 46,
     "metadata": {},
     "output_type": "execute_result"
    }
   ],
   "source": [
    "np.eye(3,3)#indentity matrix"
   ]
  },
  {
   "cell_type": "code",
   "execution_count": 47,
   "id": "06d417ee-0c5b-4bd6-a2e0-1327dfc0b908",
   "metadata": {},
   "outputs": [
    {
     "data": {
      "text/plain": [
       "array([[1., 0., 0.],\n",
       "       [0., 1., 0.],\n",
       "       [0., 0., 1.]])"
      ]
     },
     "execution_count": 47,
     "metadata": {},
     "output_type": "execute_result"
    }
   ],
   "source": [
    "np.transpose(np.eye(3,3))"
   ]
  },
  {
   "cell_type": "code",
   "execution_count": 3,
   "id": "271f10cc-1aa6-4658-b674-04744ece5489",
   "metadata": {},
   "outputs": [
    {
     "data": {
      "text/plain": [
       "array([[64, 64, 64, 64, 64, 64],\n",
       "       [64, 64, 64, 64, 64, 64],\n",
       "       [64, 64, 64, 64, 64, 64],\n",
       "       [64, 64, 64, 64, 64, 64],\n",
       "       [64, 64, 64, 64, 64, 64],\n",
       "       [64, 64, 64, 64, 64, 64]])"
      ]
     },
     "execution_count": 3,
     "metadata": {},
     "output_type": "execute_result"
    }
   ],
   "source": [
    "np.full((6,6),64)"
   ]
  },
  {
   "cell_type": "code",
   "execution_count": 4,
   "id": "0d73d48c-0f3f-4232-9e59-cd81f025ffba",
   "metadata": {},
   "outputs": [
    {
     "data": {
      "text/plain": [
       "array([0.   , 0.025, 0.05 , 0.075, 0.1  ])"
      ]
     },
     "execution_count": 4,
     "metadata": {},
     "output_type": "execute_result"
    }
   ],
   "source": [
    "np.linspace(0,0.1,5)"
   ]
  },
  {
   "cell_type": "code",
   "execution_count": 5,
   "id": "bc66dec9-d2ae-4156-b8ba-8b2a245b805e",
   "metadata": {},
   "outputs": [
    {
     "data": {
      "text/plain": [
       "array([0.        , 0.01010101, 0.02020202, 0.03030303, 0.04040404,\n",
       "       0.05050505, 0.06060606, 0.07070707, 0.08080808, 0.09090909,\n",
       "       0.1010101 , 0.11111111, 0.12121212, 0.13131313, 0.14141414,\n",
       "       0.15151515, 0.16161616, 0.17171717, 0.18181818, 0.19191919,\n",
       "       0.2020202 , 0.21212121, 0.22222222, 0.23232323, 0.24242424,\n",
       "       0.25252525, 0.26262626, 0.27272727, 0.28282828, 0.29292929,\n",
       "       0.3030303 , 0.31313131, 0.32323232, 0.33333333, 0.34343434,\n",
       "       0.35353535, 0.36363636, 0.37373737, 0.38383838, 0.39393939,\n",
       "       0.4040404 , 0.41414141, 0.42424242, 0.43434343, 0.44444444,\n",
       "       0.45454545, 0.46464646, 0.47474747, 0.48484848, 0.49494949,\n",
       "       0.50505051, 0.51515152, 0.52525253, 0.53535354, 0.54545455,\n",
       "       0.55555556, 0.56565657, 0.57575758, 0.58585859, 0.5959596 ,\n",
       "       0.60606061, 0.61616162, 0.62626263, 0.63636364, 0.64646465,\n",
       "       0.65656566, 0.66666667, 0.67676768, 0.68686869, 0.6969697 ,\n",
       "       0.70707071, 0.71717172, 0.72727273, 0.73737374, 0.74747475,\n",
       "       0.75757576, 0.76767677, 0.77777778, 0.78787879, 0.7979798 ,\n",
       "       0.80808081, 0.81818182, 0.82828283, 0.83838384, 0.84848485,\n",
       "       0.85858586, 0.86868687, 0.87878788, 0.88888889, 0.8989899 ,\n",
       "       0.90909091, 0.91919192, 0.92929293, 0.93939394, 0.94949495,\n",
       "       0.95959596, 0.96969697, 0.97979798, 0.98989899, 1.        ])"
      ]
     },
     "execution_count": 5,
     "metadata": {},
     "output_type": "execute_result"
    }
   ],
   "source": [
    "np.linspace(0,1,100)"
   ]
  },
  {
   "cell_type": "code",
   "execution_count": 6,
   "id": "add09044-f730-4ca7-9183-b11a65be11a8",
   "metadata": {},
   "outputs": [
    {
     "data": {
      "text/plain": [
       "\u001b[1;31mSignature:\u001b[0m      \n",
       "\u001b[0mnp\u001b[0m\u001b[1;33m.\u001b[0m\u001b[0mlinspace\u001b[0m\u001b[1;33m(\u001b[0m\u001b[1;33m\n",
       "\u001b[0m    \u001b[0mstart\u001b[0m\u001b[1;33m,\u001b[0m\u001b[1;33m\n",
       "\u001b[0m    \u001b[0mstop\u001b[0m\u001b[1;33m,\u001b[0m\u001b[1;33m\n",
       "\u001b[0m    \u001b[0mnum\u001b[0m\u001b[1;33m=\u001b[0m\u001b[1;36m50\u001b[0m\u001b[1;33m,\u001b[0m\u001b[1;33m\n",
       "\u001b[0m    \u001b[0mendpoint\u001b[0m\u001b[1;33m=\u001b[0m\u001b[1;32mTrue\u001b[0m\u001b[1;33m,\u001b[0m\u001b[1;33m\n",
       "\u001b[0m    \u001b[0mretstep\u001b[0m\u001b[1;33m=\u001b[0m\u001b[1;32mFalse\u001b[0m\u001b[1;33m,\u001b[0m\u001b[1;33m\n",
       "\u001b[0m    \u001b[0mdtype\u001b[0m\u001b[1;33m=\u001b[0m\u001b[1;32mNone\u001b[0m\u001b[1;33m,\u001b[0m\u001b[1;33m\n",
       "\u001b[0m    \u001b[0maxis\u001b[0m\u001b[1;33m=\u001b[0m\u001b[1;36m0\u001b[0m\u001b[1;33m,\u001b[0m\u001b[1;33m\n",
       "\u001b[0m    \u001b[1;33m*\u001b[0m\u001b[1;33m,\u001b[0m\u001b[1;33m\n",
       "\u001b[0m    \u001b[0mdevice\u001b[0m\u001b[1;33m=\u001b[0m\u001b[1;32mNone\u001b[0m\u001b[1;33m,\u001b[0m\u001b[1;33m\n",
       "\u001b[0m\u001b[1;33m)\u001b[0m\u001b[1;33m\u001b[0m\u001b[1;33m\u001b[0m\u001b[0m\n",
       "\u001b[1;31mCall signature:\u001b[0m  \u001b[0mnp\u001b[0m\u001b[1;33m.\u001b[0m\u001b[0mlinspace\u001b[0m\u001b[1;33m(\u001b[0m\u001b[1;33m*\u001b[0m\u001b[0margs\u001b[0m\u001b[1;33m,\u001b[0m \u001b[1;33m**\u001b[0m\u001b[0mkwargs\u001b[0m\u001b[1;33m)\u001b[0m\u001b[1;33m\u001b[0m\u001b[1;33m\u001b[0m\u001b[0m\n",
       "\u001b[1;31mType:\u001b[0m            _ArrayFunctionDispatcher\n",
       "\u001b[1;31mString form:\u001b[0m     <function linspace at 0x00000117DD4BBBA0>\n",
       "\u001b[1;31mFile:\u001b[0m            c:\\users\\lenovo\\desktop\\coding\\python learning\\lib\\site-packages\\numpy\\_core\\function_base.py\n",
       "\u001b[1;31mDocstring:\u001b[0m      \n",
       "Return evenly spaced numbers over a specified interval.\n",
       "\n",
       "Returns `num` evenly spaced samples, calculated over the\n",
       "interval [`start`, `stop`].\n",
       "\n",
       "The endpoint of the interval can optionally be excluded.\n",
       "\n",
       ".. versionchanged:: 1.16.0\n",
       "    Non-scalar `start` and `stop` are now supported.\n",
       "\n",
       ".. versionchanged:: 1.20.0\n",
       "    Values are rounded towards ``-inf`` instead of ``0`` when an\n",
       "    integer ``dtype`` is specified. The old behavior can\n",
       "    still be obtained with ``np.linspace(start, stop, num).astype(int)``\n",
       "\n",
       "Parameters\n",
       "----------\n",
       "start : array_like\n",
       "    The starting value of the sequence.\n",
       "stop : array_like\n",
       "    The end value of the sequence, unless `endpoint` is set to False.\n",
       "    In that case, the sequence consists of all but the last of ``num + 1``\n",
       "    evenly spaced samples, so that `stop` is excluded.  Note that the step\n",
       "    size changes when `endpoint` is False.\n",
       "num : int, optional\n",
       "    Number of samples to generate. Default is 50. Must be non-negative.\n",
       "endpoint : bool, optional\n",
       "    If True, `stop` is the last sample. Otherwise, it is not included.\n",
       "    Default is True.\n",
       "retstep : bool, optional\n",
       "    If True, return (`samples`, `step`), where `step` is the spacing\n",
       "    between samples.\n",
       "dtype : dtype, optional\n",
       "    The type of the output array.  If `dtype` is not given, the data type\n",
       "    is inferred from `start` and `stop`. The inferred dtype will never be\n",
       "    an integer; `float` is chosen even if the arguments would produce an\n",
       "    array of integers.\n",
       "\n",
       "    .. versionadded:: 1.9.0\n",
       "axis : int, optional\n",
       "    The axis in the result to store the samples.  Relevant only if start\n",
       "    or stop are array-like.  By default (0), the samples will be along a\n",
       "    new axis inserted at the beginning. Use -1 to get an axis at the end.\n",
       "\n",
       "    .. versionadded:: 1.16.0\n",
       "device : str, optional\n",
       "    The device on which to place the created array. Default: None.\n",
       "    For Array-API interoperability only, so must be ``\"cpu\"`` if passed.\n",
       "\n",
       "    .. versionadded:: 2.0.0\n",
       "\n",
       "Returns\n",
       "-------\n",
       "samples : ndarray\n",
       "    There are `num` equally spaced samples in the closed interval\n",
       "    ``[start, stop]`` or the half-open interval ``[start, stop)``\n",
       "    (depending on whether `endpoint` is True or False).\n",
       "step : float, optional\n",
       "    Only returned if `retstep` is True\n",
       "\n",
       "    Size of spacing between samples.\n",
       "\n",
       "\n",
       "See Also\n",
       "--------\n",
       "arange : Similar to `linspace`, but uses a step size (instead of the\n",
       "         number of samples).\n",
       "geomspace : Similar to `linspace`, but with numbers spaced evenly on a log\n",
       "            scale (a geometric progression).\n",
       "logspace : Similar to `geomspace`, but with the end points specified as\n",
       "           logarithms.\n",
       ":ref:`how-to-partition`\n",
       "\n",
       "Examples\n",
       "--------\n",
       ">>> np.linspace(2.0, 3.0, num=5)\n",
       "array([2.  , 2.25, 2.5 , 2.75, 3.  ])\n",
       ">>> np.linspace(2.0, 3.0, num=5, endpoint=False)\n",
       "array([2. ,  2.2,  2.4,  2.6,  2.8])\n",
       ">>> np.linspace(2.0, 3.0, num=5, retstep=True)\n",
       "(array([2.  ,  2.25,  2.5 ,  2.75,  3.  ]), 0.25)\n",
       "\n",
       "Graphical illustration:\n",
       "\n",
       ">>> import matplotlib.pyplot as plt\n",
       ">>> N = 8\n",
       ">>> y = np.zeros(N)\n",
       ">>> x1 = np.linspace(0, 10, N, endpoint=True)\n",
       ">>> x2 = np.linspace(0, 10, N, endpoint=False)\n",
       ">>> plt.plot(x1, y, 'o')\n",
       "[<matplotlib.lines.Line2D object at 0x...>]\n",
       ">>> plt.plot(x2, y + 0.5, 'o')\n",
       "[<matplotlib.lines.Line2D object at 0x...>]\n",
       ">>> plt.ylim([-0.5, 1])\n",
       "(-0.5, 1)\n",
       ">>> plt.show()\n",
       "\u001b[1;31mClass docstring:\u001b[0m\n",
       "Class to wrap functions with checks for __array_function__ overrides.\n",
       "\n",
       "All arguments are required, and can only be passed by position.\n",
       "\n",
       "Parameters\n",
       "----------\n",
       "dispatcher : function or None\n",
       "    The dispatcher function that returns a single sequence-like object\n",
       "    of all arguments relevant.  It must have the same signature (except\n",
       "    the default values) as the actual implementation.\n",
       "    If ``None``, this is a ``like=`` dispatcher and the\n",
       "    ``_ArrayFunctionDispatcher`` must be called with ``like`` as the\n",
       "    first (additional and positional) argument.\n",
       "implementation : function\n",
       "    Function that implements the operation on NumPy arrays without\n",
       "    overrides.  Arguments passed calling the ``_ArrayFunctionDispatcher``\n",
       "    will be forwarded to this (and the ``dispatcher``) as if using\n",
       "    ``*args, **kwargs``.\n",
       "\n",
       "Attributes\n",
       "----------\n",
       "_implementation : function\n",
       "    The original implementation passed in."
      ]
     },
     "metadata": {},
     "output_type": "display_data"
    }
   ],
   "source": [
    "np.linspace?"
   ]
  },
  {
   "cell_type": "code",
   "execution_count": 7,
   "id": "0145f40d-2db2-485c-a4b0-f3456392e6bc",
   "metadata": {},
   "outputs": [
    {
     "data": {
      "text/plain": [
       "array([15.        , 15.26315789, 15.52631579, 15.78947368, 16.05263158,\n",
       "       16.31578947, 16.57894737, 16.84210526, 17.10526316, 17.36842105,\n",
       "       17.63157895, 17.89473684, 18.15789474, 18.42105263, 18.68421053,\n",
       "       18.94736842, 19.21052632, 19.47368421, 19.73684211, 20.        ])"
      ]
     },
     "execution_count": 7,
     "metadata": {},
     "output_type": "execute_result"
    }
   ],
   "source": [
    "np.linspace(15,20,20)"
   ]
  },
  {
   "cell_type": "code",
   "execution_count": 8,
   "id": "0b5520fc-2ac2-48c3-9937-d6e2fe1f9d2e",
   "metadata": {},
   "outputs": [
    {
     "data": {
      "text/plain": [
       "array([0.3947217 , 0.75416326, 0.72784804])"
      ]
     },
     "execution_count": 8,
     "metadata": {},
     "output_type": "execute_result"
    }
   ],
   "source": [
    "np.random.random(3)"
   ]
  },
  {
   "cell_type": "code",
   "execution_count": 9,
   "id": "8667463a-b87e-4c65-a174-ae4a3f8bf74d",
   "metadata": {},
   "outputs": [
    {
     "data": {
      "text/plain": [
       "array([[0.40371239, 0.17641985],\n",
       "       [0.84796934, 0.91106541]])"
      ]
     },
     "execution_count": 9,
     "metadata": {},
     "output_type": "execute_result"
    }
   ],
   "source": [
    "np.random.random((2,2))"
   ]
  },
  {
   "cell_type": "code",
   "execution_count": 10,
   "id": "2ec0fe55-6f23-4266-89f1-9d3f90a68bd6",
   "metadata": {},
   "outputs": [
    {
     "data": {
      "text/plain": [
       "array([-0.43759339,  0.01328672,  0.67212557,  0.98330052, -0.31816186,\n",
       "       -0.21297163, -0.68637005,  1.0806162 , -0.44544022, -0.23101853])"
      ]
     },
     "execution_count": 10,
     "metadata": {},
     "output_type": "execute_result"
    }
   ],
   "source": [
    "np.random.normal(0,1,10)"
   ]
  },
  {
   "cell_type": "code",
   "execution_count": 11,
   "id": "b2fbf96d-df3a-47fa-8e91-ef2bf314b8ed",
   "metadata": {},
   "outputs": [
    {
     "data": {
      "text/plain": [
       "array([[ 0.21527372, -0.92185191],\n",
       "       [-0.80387134,  0.19672401]])"
      ]
     },
     "execution_count": 11,
     "metadata": {},
     "output_type": "execute_result"
    }
   ],
   "source": [
    "np.random.normal(0,1,(2,2))"
   ]
  },
  {
   "cell_type": "code",
   "execution_count": 12,
   "id": "6d6b5795-fcd8-4a57-b224-025f1097990e",
   "metadata": {},
   "outputs": [
    {
     "data": {
      "text/plain": [
       "\u001b[1;31mSignature:\u001b[0m      \u001b[0mnp\u001b[0m\u001b[1;33m.\u001b[0m\u001b[0mrandom\u001b[0m\u001b[1;33m.\u001b[0m\u001b[0mseed\u001b[0m\u001b[1;33m(\u001b[0m\u001b[0mseed\u001b[0m\u001b[1;33m=\u001b[0m\u001b[1;32mNone\u001b[0m\u001b[1;33m)\u001b[0m\u001b[1;33m\u001b[0m\u001b[1;33m\u001b[0m\u001b[0m\n",
       "\u001b[1;31mCall signature:\u001b[0m \u001b[0mnp\u001b[0m\u001b[1;33m.\u001b[0m\u001b[0mrandom\u001b[0m\u001b[1;33m.\u001b[0m\u001b[0mseed\u001b[0m\u001b[1;33m(\u001b[0m\u001b[1;33m*\u001b[0m\u001b[0margs\u001b[0m\u001b[1;33m,\u001b[0m \u001b[1;33m**\u001b[0m\u001b[0mkwargs\u001b[0m\u001b[1;33m)\u001b[0m\u001b[1;33m\u001b[0m\u001b[1;33m\u001b[0m\u001b[0m\n",
       "\u001b[1;31mType:\u001b[0m           cython_function_or_method\n",
       "\u001b[1;31mString form:\u001b[0m    <cyfunction seed at 0x00000117DD634930>\n",
       "\u001b[1;31mDocstring:\u001b[0m     \n",
       "seed(seed=None)\n",
       "\n",
       "Reseed the singleton RandomState instance.\n",
       "\n",
       "Notes\n",
       "-----\n",
       "This is a convenience, legacy function that exists to support\n",
       "older code that uses the singleton RandomState. Best practice\n",
       "is to use a dedicated ``Generator`` instance rather than\n",
       "the random variate generation methods exposed directly in\n",
       "the random module.\n",
       "\n",
       "See Also\n",
       "--------\n",
       "numpy.random.Generator"
      ]
     },
     "metadata": {},
     "output_type": "display_data"
    }
   ],
   "source": [
    "np.random.seed?"
   ]
  },
  {
   "cell_type": "code",
   "execution_count": 13,
   "id": "4cb3b130-0184-43e1-9098-f74e564fd15a",
   "metadata": {},
   "outputs": [
    {
     "data": {
      "text/plain": [
       "array([0.51639863, 0.57066759, 0.02847423, 0.17152166, 0.68527698,\n",
       "       0.83389686])"
      ]
     },
     "execution_count": 13,
     "metadata": {},
     "output_type": "execute_result"
    }
   ],
   "source": [
    "np.random.seed(101)\n",
    "np.random.random(6)"
   ]
  },
  {
   "cell_type": "code",
   "execution_count": 14,
   "id": "493081fe-3e1b-4c9a-a83d-a45469b439db",
   "metadata": {},
   "outputs": [
    {
     "data": {
      "text/plain": [
       "\u001b[1;31mSignature:\u001b[0m \u001b[0mnp\u001b[0m\u001b[1;33m.\u001b[0m\u001b[0mrandom\u001b[0m\u001b[1;33m.\u001b[0m\u001b[0mrandint\u001b[0m\u001b[1;33m(\u001b[0m\u001b[0mlow\u001b[0m\u001b[1;33m,\u001b[0m \u001b[0mhigh\u001b[0m\u001b[1;33m=\u001b[0m\u001b[1;32mNone\u001b[0m\u001b[1;33m,\u001b[0m \u001b[0msize\u001b[0m\u001b[1;33m=\u001b[0m\u001b[1;32mNone\u001b[0m\u001b[1;33m,\u001b[0m \u001b[0mdtype\u001b[0m\u001b[1;33m=\u001b[0m\u001b[1;33m<\u001b[0m\u001b[1;32mclass\u001b[0m \u001b[1;34m'int'\u001b[0m\u001b[1;33m>\u001b[0m\u001b[1;33m)\u001b[0m\u001b[1;33m\u001b[0m\u001b[1;33m\u001b[0m\u001b[0m\n",
       "\u001b[1;31mDocstring:\u001b[0m\n",
       "randint(low, high=None, size=None, dtype=int)\n",
       "\n",
       "Return random integers from `low` (inclusive) to `high` (exclusive).\n",
       "\n",
       "Return random integers from the \"discrete uniform\" distribution of\n",
       "the specified dtype in the \"half-open\" interval [`low`, `high`). If\n",
       "`high` is None (the default), then results are from [0, `low`).\n",
       "\n",
       ".. note::\n",
       "    New code should use the `~numpy.random.Generator.integers`\n",
       "    method of a `~numpy.random.Generator` instance instead;\n",
       "    please see the :ref:`random-quick-start`.\n",
       "\n",
       "Parameters\n",
       "----------\n",
       "low : int or array-like of ints\n",
       "    Lowest (signed) integers to be drawn from the distribution (unless\n",
       "    ``high=None``, in which case this parameter is one above the\n",
       "    *highest* such integer).\n",
       "high : int or array-like of ints, optional\n",
       "    If provided, one above the largest (signed) integer to be drawn\n",
       "    from the distribution (see above for behavior if ``high=None``).\n",
       "    If array-like, must contain integer values\n",
       "size : int or tuple of ints, optional\n",
       "    Output shape.  If the given shape is, e.g., ``(m, n, k)``, then\n",
       "    ``m * n * k`` samples are drawn.  Default is None, in which case a\n",
       "    single value is returned.\n",
       "dtype : dtype, optional\n",
       "    Desired dtype of the result. Byteorder must be native.\n",
       "    The default value is long.\n",
       "\n",
       "    .. versionadded:: 1.11.0\n",
       "\n",
       "    .. warning::\n",
       "      This function defaults to the C-long dtype, which is 32bit on windows\n",
       "      and otherwise 64bit on 64bit platforms (and 32bit on 32bit ones).\n",
       "      Since NumPy 2.0, NumPy's default integer is 32bit on 32bit platforms\n",
       "      and 64bit on 64bit platforms.  Which corresponds to `np.intp`.\n",
       "      (`dtype=int` is not the same as in most NumPy functions.)\n",
       "\n",
       "Returns\n",
       "-------\n",
       "out : int or ndarray of ints\n",
       "    `size`-shaped array of random integers from the appropriate\n",
       "    distribution, or a single such random int if `size` not provided.\n",
       "\n",
       "See Also\n",
       "--------\n",
       "random_integers : similar to `randint`, only for the closed\n",
       "    interval [`low`, `high`], and 1 is the lowest value if `high` is\n",
       "    omitted.\n",
       "random.Generator.integers: which should be used for new code.\n",
       "\n",
       "Examples\n",
       "--------\n",
       ">>> np.random.randint(2, size=10)\n",
       "array([1, 0, 0, 0, 1, 1, 0, 0, 1, 0]) # random\n",
       ">>> np.random.randint(1, size=10)\n",
       "array([0, 0, 0, 0, 0, 0, 0, 0, 0, 0])\n",
       "\n",
       "Generate a 2 x 4 array of ints between 0 and 4, inclusive:\n",
       "\n",
       ">>> np.random.randint(5, size=(2, 4))\n",
       "array([[4, 0, 2, 1], # random\n",
       "       [3, 2, 2, 0]])\n",
       "\n",
       "Generate a 1 x 3 array with 3 different upper bounds\n",
       "\n",
       ">>> np.random.randint(1, [3, 5, 10])\n",
       "array([2, 2, 9]) # random\n",
       "\n",
       "Generate a 1 by 3 array with 3 different lower bounds\n",
       "\n",
       ">>> np.random.randint([1, 5, 7], 10)\n",
       "array([9, 8, 7]) # random\n",
       "\n",
       "Generate a 2 by 4 array using broadcasting with dtype of uint8\n",
       "\n",
       ">>> np.random.randint([1, 3, 5, 7], [[10], [20]], dtype=np.uint8)\n",
       "array([[ 8,  6,  9,  7], # random\n",
       "       [ 1, 16,  9, 12]], dtype=uint8)\n",
       "\u001b[1;31mType:\u001b[0m      method"
      ]
     },
     "metadata": {},
     "output_type": "display_data"
    }
   ],
   "source": [
    "np.random.randint?"
   ]
  },
  {
   "cell_type": "code",
   "execution_count": 15,
   "id": "feb00833-84eb-4837-a074-476847b6ee63",
   "metadata": {},
   "outputs": [
    {
     "data": {
      "text/plain": [
       "array([54, 90, 78, 50, 96, 55, 62, 79, 90, 99, 69, 97, 58, 79, 84, 94, 58,\n",
       "       69, 60, 62, 81, 93, 73, 50, 91, 59, 97, 58, 86, 69, 85, 78, 57, 60,\n",
       "       89, 88], dtype=int32)"
      ]
     },
     "execution_count": 15,
     "metadata": {},
     "output_type": "execute_result"
    }
   ],
   "source": [
    "np.random.randint(50,100,36)"
   ]
  },
  {
   "cell_type": "code",
   "execution_count": 16,
   "id": "0d4c1bd7-53c6-4e74-9430-14c2d93f9106",
   "metadata": {},
   "outputs": [
    {
     "data": {
      "text/plain": [
       "\u001b[1;31mSignature:\u001b[0m \u001b[0mnp\u001b[0m\u001b[1;33m.\u001b[0m\u001b[0mrandom\u001b[0m\u001b[1;33m.\u001b[0m\u001b[0mrandn\u001b[0m\u001b[1;33m(\u001b[0m\u001b[1;33m*\u001b[0m\u001b[0margs\u001b[0m\u001b[1;33m)\u001b[0m\u001b[1;33m\u001b[0m\u001b[1;33m\u001b[0m\u001b[0m\n",
       "\u001b[1;31mDocstring:\u001b[0m\n",
       "randn(d0, d1, ..., dn)\n",
       "\n",
       "Return a sample (or samples) from the \"standard normal\" distribution.\n",
       "\n",
       ".. note::\n",
       "    This is a convenience function for users porting code from Matlab,\n",
       "    and wraps `standard_normal`. That function takes a\n",
       "    tuple to specify the size of the output, which is consistent with\n",
       "    other NumPy functions like `numpy.zeros` and `numpy.ones`.\n",
       "\n",
       ".. note::\n",
       "    New code should use the\n",
       "    `~numpy.random.Generator.standard_normal`\n",
       "    method of a `~numpy.random.Generator` instance instead;\n",
       "    please see the :ref:`random-quick-start`.\n",
       "\n",
       "If positive int_like arguments are provided, `randn` generates an array\n",
       "of shape ``(d0, d1, ..., dn)``, filled\n",
       "with random floats sampled from a univariate \"normal\" (Gaussian)\n",
       "distribution of mean 0 and variance 1. A single float randomly sampled\n",
       "from the distribution is returned if no argument is provided.\n",
       "\n",
       "Parameters\n",
       "----------\n",
       "d0, d1, ..., dn : int, optional\n",
       "    The dimensions of the returned array, must be non-negative.\n",
       "    If no argument is given a single Python float is returned.\n",
       "\n",
       "Returns\n",
       "-------\n",
       "Z : ndarray or float\n",
       "    A ``(d0, d1, ..., dn)``-shaped array of floating-point samples from\n",
       "    the standard normal distribution, or a single such float if\n",
       "    no parameters were supplied.\n",
       "\n",
       "See Also\n",
       "--------\n",
       "standard_normal : Similar, but takes a tuple as its argument.\n",
       "normal : Also accepts mu and sigma arguments.\n",
       "random.Generator.standard_normal: which should be used for new code.\n",
       "\n",
       "Notes\n",
       "-----\n",
       "For random samples from the normal distribution with mean ``mu`` and\n",
       "standard deviation ``sigma``, use::\n",
       "\n",
       "    sigma * np.random.randn(...) + mu\n",
       "\n",
       "Examples\n",
       "--------\n",
       ">>> np.random.randn()\n",
       "2.1923875335537315  # random\n",
       "\n",
       "Two-by-four array of samples from the normal distribution with\n",
       "mean 3 and standard deviation 2.5:\n",
       "\n",
       ">>> 3 + 2.5 * np.random.randn(2, 4)\n",
       "array([[-4.49401501,  4.00950034, -1.81814867,  7.29718677],   # random\n",
       "       [ 0.39924804,  4.68456316,  4.99394529,  4.84057254]])  # random\n",
       "\u001b[1;31mType:\u001b[0m      method"
      ]
     },
     "metadata": {},
     "output_type": "display_data"
    }
   ],
   "source": [
    "np.random.randn?"
   ]
  },
  {
   "cell_type": "code",
   "execution_count": 17,
   "id": "76034154-dda6-4df1-819e-8c6fb8d47e31",
   "metadata": {},
   "outputs": [],
   "source": [
    "arr= np.random.randint(0,100,20)"
   ]
  },
  {
   "cell_type": "code",
   "execution_count": 18,
   "id": "d6f2e826-5485-4361-bebd-77b6d89b09d9",
   "metadata": {},
   "outputs": [
    {
     "data": {
      "text/plain": [
       "array([73, 52, 18, 71, 15, 44,  0, 12, 17, 75, 79, 97, 93, 24, 36, 63, 19,\n",
       "       35, 30, 10], dtype=int32)"
      ]
     },
     "execution_count": 18,
     "metadata": {},
     "output_type": "execute_result"
    }
   ],
   "source": [
    "arr"
   ]
  },
  {
   "cell_type": "code",
   "execution_count": 19,
   "id": "513855db-1bce-404b-9d2e-73699a7eadb6",
   "metadata": {},
   "outputs": [
    {
     "data": {
      "text/plain": [
       "1"
      ]
     },
     "execution_count": 19,
     "metadata": {},
     "output_type": "execute_result"
    }
   ],
   "source": [
    "arr.ndim"
   ]
  },
  {
   "cell_type": "code",
   "execution_count": 20,
   "id": "347e14f6-821c-40a0-b2d1-0c399b80d046",
   "metadata": {},
   "outputs": [
    {
     "data": {
      "text/plain": [
       "20"
      ]
     },
     "execution_count": 20,
     "metadata": {},
     "output_type": "execute_result"
    }
   ],
   "source": [
    "arr.size"
   ]
  },
  {
   "cell_type": "code",
   "execution_count": 21,
   "id": "4115b853-f6bb-434e-b177-6bc37ef598fc",
   "metadata": {},
   "outputs": [
    {
     "data": {
      "text/plain": [
       "(20,)"
      ]
     },
     "execution_count": 21,
     "metadata": {},
     "output_type": "execute_result"
    }
   ],
   "source": [
    "arr.shape"
   ]
  },
  {
   "cell_type": "code",
   "execution_count": 22,
   "id": "d01a4f2b-29f5-4e74-a74f-b11a556624b8",
   "metadata": {},
   "outputs": [
    {
     "data": {
      "text/plain": [
       "dtype('int32')"
      ]
     },
     "execution_count": 22,
     "metadata": {},
     "output_type": "execute_result"
    }
   ],
   "source": [
    "arr.dtype"
   ]
  },
  {
   "cell_type": "code",
   "execution_count": 23,
   "id": "9c38646f-21c9-4aa3-b9fe-e9558cc87bff",
   "metadata": {},
   "outputs": [],
   "source": [
    "arr1=np.random.randint(0,40,10)"
   ]
  },
  {
   "cell_type": "code",
   "execution_count": 24,
   "id": "075e29e4-b03d-404a-89e4-0a06facfbae6",
   "metadata": {},
   "outputs": [
    {
     "data": {
      "text/plain": [
       "array([39, 20, 27,  8, 22, 26, 23, 37, 22,  9], dtype=int32)"
      ]
     },
     "execution_count": 24,
     "metadata": {},
     "output_type": "execute_result"
    }
   ],
   "source": [
    "arr1"
   ]
  },
  {
   "cell_type": "code",
   "execution_count": 25,
   "id": "4a98dfd0-e8ab-45c8-af61-867bc90b1e96",
   "metadata": {},
   "outputs": [
    {
     "data": {
      "text/plain": [
       "np.int32(39)"
      ]
     },
     "execution_count": 25,
     "metadata": {},
     "output_type": "execute_result"
    }
   ],
   "source": [
    "arr1[0]"
   ]
  },
  {
   "cell_type": "code",
   "execution_count": 26,
   "id": "655e3e04-8994-440c-afef-87d29b341ea9",
   "metadata": {},
   "outputs": [
    {
     "data": {
      "text/plain": [
       "np.int32(9)"
      ]
     },
     "execution_count": 26,
     "metadata": {},
     "output_type": "execute_result"
    }
   ],
   "source": [
    "arr1[-1]"
   ]
  },
  {
   "cell_type": "code",
   "execution_count": 27,
   "id": "e81d0e73-586a-420b-95bd-53e9f2784de6",
   "metadata": {},
   "outputs": [
    {
     "data": {
      "text/plain": [
       "array([39, 20, 27,  8], dtype=int32)"
      ]
     },
     "execution_count": 27,
     "metadata": {},
     "output_type": "execute_result"
    }
   ],
   "source": [
    "arr1[:4]"
   ]
  },
  {
   "cell_type": "code",
   "execution_count": 28,
   "id": "40372036-7e9a-41be-8692-91409cfb02f4",
   "metadata": {},
   "outputs": [
    {
     "data": {
      "text/plain": [
       "array([22, 26, 23, 37, 22,  9], dtype=int32)"
      ]
     },
     "execution_count": 28,
     "metadata": {},
     "output_type": "execute_result"
    }
   ],
   "source": [
    "arr1[4:]"
   ]
  },
  {
   "cell_type": "code",
   "execution_count": 29,
   "id": "3ffea62d-2f0d-4d6b-9782-bf7425757720",
   "metadata": {},
   "outputs": [
    {
     "data": {
      "text/plain": [
       "array([22, 26, 23], dtype=int32)"
      ]
     },
     "execution_count": 29,
     "metadata": {},
     "output_type": "execute_result"
    }
   ],
   "source": [
    "arr1[4:7]"
   ]
  },
  {
   "cell_type": "code",
   "execution_count": 30,
   "id": "8e867531-cde7-4b45-89fd-f0301a7932c6",
   "metadata": {},
   "outputs": [],
   "source": [
    "arr1[5]=73252"
   ]
  },
  {
   "cell_type": "code",
   "execution_count": 31,
   "id": "7425d82e-4102-42d8-832a-d3f852293c90",
   "metadata": {},
   "outputs": [
    {
     "data": {
      "text/plain": [
       "array([   39,    20,    27,     8,    22, 73252,    23,    37,    22,\n",
       "           9], dtype=int32)"
      ]
     },
     "execution_count": 31,
     "metadata": {},
     "output_type": "execute_result"
    }
   ],
   "source": [
    "arr1"
   ]
  },
  {
   "cell_type": "code",
   "execution_count": 32,
   "id": "98d481b7-02ce-4578-9d80-790b418bcfbb",
   "metadata": {},
   "outputs": [],
   "source": [
    "a1=np.random.randint(0,18,(4,4))"
   ]
  },
  {
   "cell_type": "code",
   "execution_count": 33,
   "id": "c7dfa0a9-0cae-4f79-82d7-b3d5cbbdc19a",
   "metadata": {},
   "outputs": [
    {
     "data": {
      "text/plain": [
       "array([[13,  2, 15, 11],\n",
       "       [10, 17,  3,  3],\n",
       "       [15, 14,  5,  5],\n",
       "       [ 6,  7,  5, 14]], dtype=int32)"
      ]
     },
     "execution_count": 33,
     "metadata": {},
     "output_type": "execute_result"
    }
   ],
   "source": [
    "a1"
   ]
  },
  {
   "cell_type": "code",
   "execution_count": 34,
   "id": "ca9eda4b-caf2-4920-afd9-47efd6b3c4c9",
   "metadata": {},
   "outputs": [
    {
     "data": {
      "text/plain": [
       "array([ 2, 15, 11], dtype=int32)"
      ]
     },
     "execution_count": 34,
     "metadata": {},
     "output_type": "execute_result"
    }
   ],
   "source": [
    "a1[0,1:4]"
   ]
  },
  {
   "cell_type": "code",
   "execution_count": 35,
   "id": "03e654f1-49ab-4264-95eb-c753feefa3de",
   "metadata": {},
   "outputs": [
    {
     "data": {
      "text/plain": [
       "np.int32(2)"
      ]
     },
     "execution_count": 35,
     "metadata": {},
     "output_type": "execute_result"
    }
   ],
   "source": [
    "a1[0,1]"
   ]
  },
  {
   "cell_type": "code",
   "execution_count": 36,
   "id": "a9526f4b-ecb8-4490-a69c-951cd5071834",
   "metadata": {},
   "outputs": [
    {
     "data": {
      "text/plain": [
       "array([[ 2, 15],\n",
       "       [17,  3],\n",
       "       [14,  5]], dtype=int32)"
      ]
     },
     "execution_count": 36,
     "metadata": {},
     "output_type": "execute_result"
    }
   ],
   "source": [
    "a1[0:3,1:3]"
   ]
  },
  {
   "cell_type": "code",
   "execution_count": 37,
   "id": "65731005-fcc9-4c3d-af82-0231f1a92894",
   "metadata": {},
   "outputs": [
    {
     "data": {
      "text/plain": [
       "array([[ 2, 15],\n",
       "       [17,  3],\n",
       "       [14,  5]], dtype=int32)"
      ]
     },
     "execution_count": 37,
     "metadata": {},
     "output_type": "execute_result"
    }
   ],
   "source": [
    "a1[0:3,1:3]"
   ]
  },
  {
   "cell_type": "code",
   "execution_count": 38,
   "id": "2a8f218e-3904-4fdc-a733-a82a24f3df56",
   "metadata": {},
   "outputs": [
    {
     "data": {
      "text/plain": [
       "array([[14,  5,  7,  6],\n",
       "       [ 5,  5, 14, 15],\n",
       "       [ 3,  3, 17, 10],\n",
       "       [11, 15,  2, 13]], dtype=int32)"
      ]
     },
     "execution_count": 38,
     "metadata": {},
     "output_type": "execute_result"
    }
   ],
   "source": [
    "a1[::-1,::-1]"
   ]
  },
  {
   "cell_type": "code",
   "execution_count": 2,
   "id": "1e1fc734-564c-414d-ac96-23c748a04030",
   "metadata": {},
   "outputs": [],
   "source": [
    "arr=np.array([1,2,3,4,5,6,7,8,9])"
   ]
  },
  {
   "cell_type": "code",
   "execution_count": 3,
   "id": "62931ea1-aa20-429c-8961-05a2b34e0708",
   "metadata": {},
   "outputs": [
    {
     "data": {
      "text/plain": [
       "array([1, 2, 3, 4, 5, 6, 7, 8, 9])"
      ]
     },
     "execution_count": 3,
     "metadata": {},
     "output_type": "execute_result"
    }
   ],
   "source": [
    "arr"
   ]
  },
  {
   "cell_type": "code",
   "execution_count": 7,
   "id": "f9031cf7-0b70-426f-853d-4b709c7f8d62",
   "metadata": {},
   "outputs": [],
   "source": [
    "arr2=np.array([[1,2,3],[4,5,6],[7,8,9]])"
   ]
  },
  {
   "cell_type": "code",
   "execution_count": 8,
   "id": "03934b92-6683-4577-b0b8-945711afb656",
   "metadata": {},
   "outputs": [
    {
     "data": {
      "text/plain": [
       "array([[1, 2, 3],\n",
       "       [4, 5, 6],\n",
       "       [7, 8, 9]])"
      ]
     },
     "execution_count": 8,
     "metadata": {},
     "output_type": "execute_result"
    }
   ],
   "source": [
    "arr2"
   ]
  },
  {
   "cell_type": "markdown",
   "id": "0d2b80f8-4e2e-4ce5-80bc-4ca6300e6ace",
   "metadata": {},
   "source": [
    "#shallow copy"
   ]
  },
  {
   "cell_type": "code",
   "execution_count": 9,
   "id": "ae617601-9f64-4bd1-8dd8-85eb214226cf",
   "metadata": {},
   "outputs": [],
   "source": [
    "a=arr2[1:3,1:3]"
   ]
  },
  {
   "cell_type": "code",
   "execution_count": 10,
   "id": "94395f4e-f338-4c23-8596-1a921b7a40b0",
   "metadata": {},
   "outputs": [
    {
     "data": {
      "text/plain": [
       "array([[5, 6],\n",
       "       [8, 9]])"
      ]
     },
     "execution_count": 10,
     "metadata": {},
     "output_type": "execute_result"
    }
   ],
   "source": [
    "a"
   ]
  },
  {
   "cell_type": "code",
   "execution_count": 11,
   "id": "fb13ed22-52f6-4b31-9baf-2a5fa8fd9c2d",
   "metadata": {},
   "outputs": [],
   "source": [
    "a[1,1]=19"
   ]
  },
  {
   "cell_type": "code",
   "execution_count": 12,
   "id": "524de752-4689-405b-bb4c-0e40c1c4ad52",
   "metadata": {},
   "outputs": [
    {
     "data": {
      "text/plain": [
       "array([[ 5,  6],\n",
       "       [ 8, 19]])"
      ]
     },
     "execution_count": 12,
     "metadata": {},
     "output_type": "execute_result"
    }
   ],
   "source": [
    "a"
   ]
  },
  {
   "cell_type": "code",
   "execution_count": 13,
   "id": "4ed1b0e8-39e7-4249-aae7-4d00aa569102",
   "metadata": {},
   "outputs": [
    {
     "data": {
      "text/plain": [
       "array([[ 1,  2,  3],\n",
       "       [ 4,  5, 16],\n",
       "       [ 7,  8, 19]])"
      ]
     },
     "execution_count": 13,
     "metadata": {},
     "output_type": "execute_result"
    }
   ],
   "source": [
    "arr2[1,2]=16\n",
    "arr2"
   ]
  },
  {
   "cell_type": "code",
   "execution_count": 14,
   "id": "fcf0a8c9-887c-42fc-ac4a-5c73177a2835",
   "metadata": {},
   "outputs": [
    {
     "data": {
      "text/plain": [
       "array([[ 5, 16],\n",
       "       [ 8, 19]])"
      ]
     },
     "execution_count": 14,
     "metadata": {},
     "output_type": "execute_result"
    }
   ],
   "source": [
    "a"
   ]
  },
  {
   "cell_type": "markdown",
   "id": "bab64423-e813-4e8a-bc05-9859c705e821",
   "metadata": {},
   "source": [
    "#deepcopy"
   ]
  },
  {
   "cell_type": "code",
   "execution_count": 16,
   "id": "d3bff8d8-ec8f-4026-864f-988006cac9b1",
   "metadata": {},
   "outputs": [
    {
     "data": {
      "text/plain": [
       "array([[1, 2],\n",
       "       [4, 5]])"
      ]
     },
     "execution_count": 16,
     "metadata": {},
     "output_type": "execute_result"
    }
   ],
   "source": [
    "da=arr2[:2,:2].copy()\n",
    "da"
   ]
  },
  {
   "cell_type": "code",
   "execution_count": 17,
   "id": "a1dd768e-c6ea-4bb3-99a1-98c91d0b54b9",
   "metadata": {},
   "outputs": [
    {
     "data": {
      "text/plain": [
       "array([[11,  2,  3],\n",
       "       [ 4,  5, 16],\n",
       "       [ 7,  8, 19]])"
      ]
     },
     "execution_count": 17,
     "metadata": {},
     "output_type": "execute_result"
    }
   ],
   "source": [
    "arr2[0,0]=11\n",
    "arr2"
   ]
  },
  {
   "cell_type": "code",
   "execution_count": 18,
   "id": "36f3ee48-71f8-477a-bde6-2ca10e24634e",
   "metadata": {},
   "outputs": [
    {
     "data": {
      "text/plain": [
       "array([[1, 2],\n",
       "       [4, 5]])"
      ]
     },
     "execution_count": 18,
     "metadata": {},
     "output_type": "execute_result"
    }
   ],
   "source": [
    "da"
   ]
  },
  {
   "cell_type": "code",
   "execution_count": 19,
   "id": "307ef516-26ce-45ae-a42f-c550ce5d31ef",
   "metadata": {},
   "outputs": [
    {
     "data": {
      "text/plain": [
       "array([[ 1,  2],\n",
       "       [ 4, 15]])"
      ]
     },
     "execution_count": 19,
     "metadata": {},
     "output_type": "execute_result"
    }
   ],
   "source": [
    "da[1,1]=15\n",
    "da"
   ]
  },
  {
   "cell_type": "code",
   "execution_count": 20,
   "id": "e45d0e38-d392-4812-9cb3-0a1b2ff29a6e",
   "metadata": {},
   "outputs": [
    {
     "data": {
      "text/plain": [
       "array([[11,  2,  3],\n",
       "       [ 4,  5, 16],\n",
       "       [ 7,  8, 19]])"
      ]
     },
     "execution_count": 20,
     "metadata": {},
     "output_type": "execute_result"
    }
   ],
   "source": [
    "arr2"
   ]
  },
  {
   "cell_type": "code",
   "execution_count": 22,
   "id": "a732fcf2-7b02-4867-83dc-83fed6766d85",
   "metadata": {},
   "outputs": [
    {
     "data": {
      "text/plain": [
       "array([[ 1,  2,  3,  4,  5],\n",
       "       [ 6,  7,  8,  9, 10],\n",
       "       [11, 12, 13, 14, 15],\n",
       "       [16, 17, 18, 19, 20],\n",
       "       [21, 22, 23, 24, 25]])"
      ]
     },
     "execution_count": 22,
     "metadata": {},
     "output_type": "execute_result"
    }
   ],
   "source": [
    "ar=np.array(range(1,26)).reshape(5,5)\n",
    "ar"
   ]
  },
  {
   "cell_type": "code",
   "execution_count": 23,
   "id": "f4b9d1ed-b8f5-43a0-b55a-25d2e8016cca",
   "metadata": {},
   "outputs": [
    {
     "data": {
      "text/plain": [
       "array([[1, 2, 3],\n",
       "       [4, 5, 6],\n",
       "       [7, 8, 9]])"
      ]
     },
     "execution_count": 23,
     "metadata": {},
     "output_type": "execute_result"
    }
   ],
   "source": [
    "\n",
    "ar2=np.array(range(1,10)).reshape(3,3)\n",
    "ar2"
   ]
  },
  {
   "cell_type": "code",
   "execution_count": 24,
   "id": "9f5c7c86-9af9-4b84-a8b6-b4b2a777b743",
   "metadata": {},
   "outputs": [
    {
     "data": {
      "text/plain": [
       "array([[1],\n",
       "       [2],\n",
       "       [3]])"
      ]
     },
     "execution_count": 24,
     "metadata": {},
     "output_type": "execute_result"
    }
   ],
   "source": [
    "ar2[0,:].reshape(3,1)"
   ]
  },
  {
   "cell_type": "code",
   "execution_count": 25,
   "id": "8b140b17-ce0a-4eec-b84c-84e5290ff933",
   "metadata": {},
   "outputs": [],
   "source": [
    "t=np.array([1,2,3,4])"
   ]
  },
  {
   "cell_type": "code",
   "execution_count": 27,
   "id": "5e298ec2-08b1-4dd9-85c7-0e59a52dc024",
   "metadata": {},
   "outputs": [
    {
     "data": {
      "text/plain": [
       "array([[1, 2],\n",
       "       [3, 4]])"
      ]
     },
     "execution_count": 27,
     "metadata": {},
     "output_type": "execute_result"
    }
   ],
   "source": [
    "n=t.reshape(2,2)\n",
    "n"
   ]
  },
  {
   "cell_type": "code",
   "execution_count": 28,
   "id": "e10f15ce-f157-4994-b42c-7bf3108bdd21",
   "metadata": {},
   "outputs": [
    {
     "data": {
      "text/plain": [
       "array([[1, 2, 3, 4]])"
      ]
     },
     "execution_count": 28,
     "metadata": {},
     "output_type": "execute_result"
    }
   ],
   "source": [
    "n.reshape(1,4)"
   ]
  },
  {
   "cell_type": "code",
   "execution_count": 29,
   "id": "5763635b-96ae-4524-9c8a-c2472347c0cc",
   "metadata": {},
   "outputs": [
    {
     "data": {
      "text/plain": [
       "array([1, 2, 3, 4])"
      ]
     },
     "execution_count": 29,
     "metadata": {},
     "output_type": "execute_result"
    }
   ],
   "source": [
    "n.ravel() # to convert multi dimenstional array into 1D"
   ]
  },
  {
   "cell_type": "code",
   "execution_count": 30,
   "id": "0725f4ea-b07c-4ed0-82e0-9c93aa92fb7f",
   "metadata": {},
   "outputs": [
    {
     "data": {
      "text/plain": [
       "\u001b[1;31mDocstring:\u001b[0m\n",
       "a.ravel([order])\n",
       "\n",
       "Return a flattened array.\n",
       "\n",
       "Refer to `numpy.ravel` for full documentation.\n",
       "\n",
       "See Also\n",
       "--------\n",
       "numpy.ravel : equivalent function\n",
       "\n",
       "ndarray.flat : a flat iterator on the array.\n",
       "\u001b[1;31mType:\u001b[0m      builtin_function_or_method"
      ]
     },
     "metadata": {},
     "output_type": "display_data"
    }
   ],
   "source": [
    "n.ravel?"
   ]
  },
  {
   "cell_type": "code",
   "execution_count": 31,
   "id": "7f0dab3f-2dc1-49cb-9c1b-ae9cfe501cae",
   "metadata": {},
   "outputs": [],
   "source": [
    "t=n.flatten() "
   ]
  },
  {
   "cell_type": "code",
   "execution_count": 32,
   "id": "7beaaf6a-c67f-402a-be2d-7354916854de",
   "metadata": {},
   "outputs": [],
   "source": [
    "t[1]=31084"
   ]
  },
  {
   "cell_type": "code",
   "execution_count": 33,
   "id": "7261452d-645a-45bf-9b3d-b6b73c12ab7b",
   "metadata": {},
   "outputs": [
    {
     "data": {
      "text/plain": [
       "array([[1, 2],\n",
       "       [3, 4]])"
      ]
     },
     "execution_count": 33,
     "metadata": {},
     "output_type": "execute_result"
    }
   ],
   "source": [
    "n"
   ]
  },
  {
   "cell_type": "code",
   "execution_count": 34,
   "id": "e3fadc81-0e2b-4374-ba1b-40d2ad46bf64",
   "metadata": {},
   "outputs": [
    {
     "data": {
      "text/plain": [
       "array([    1, 31084,     3,     4])"
      ]
     },
     "execution_count": 34,
     "metadata": {},
     "output_type": "execute_result"
    }
   ],
   "source": [
    "t\n"
   ]
  },
  {
   "cell_type": "code",
   "execution_count": 35,
   "id": "49e0f5e1-557e-4ed3-bd86-79bfec74d87d",
   "metadata": {},
   "outputs": [
    {
     "data": {
      "text/plain": [
       "array([[[11,  2,  3]],\n",
       "\n",
       "       [[ 4,  5, 16]],\n",
       "\n",
       "       [[ 7,  8, 19]]])"
      ]
     },
     "execution_count": 35,
     "metadata": {},
     "output_type": "execute_result"
    }
   ],
   "source": [
    "arr2[:,np.newaxis]"
   ]
  },
  {
   "cell_type": "markdown",
   "id": "5ce00b62-5270-4356-a53e-2cd219a8aef0",
   "metadata": {},
   "source": [
    "#concatenation,joining of two array (MD)"
   ]
  },
  {
   "cell_type": "code",
   "execution_count": 36,
   "id": "7a14bd2b-ef27-4a92-9e91-364f4923f79e",
   "metadata": {},
   "outputs": [
    {
     "data": {
      "text/plain": [
       "\u001b[1;31mCall signature:\u001b[0m  \u001b[0mnp\u001b[0m\u001b[1;33m.\u001b[0m\u001b[0mconcatenate\u001b[0m\u001b[1;33m(\u001b[0m\u001b[1;33m*\u001b[0m\u001b[0margs\u001b[0m\u001b[1;33m,\u001b[0m \u001b[1;33m**\u001b[0m\u001b[0mkwargs\u001b[0m\u001b[1;33m)\u001b[0m\u001b[1;33m\u001b[0m\u001b[1;33m\u001b[0m\u001b[0m\n",
       "\u001b[1;31mType:\u001b[0m            _ArrayFunctionDispatcher\n",
       "\u001b[1;31mString form:\u001b[0m     <built-in function concatenate>\n",
       "\u001b[1;31mDocstring:\u001b[0m      \n",
       "concatenate(\n",
       "    (a1, a2, ...), \n",
       "    axis=0, \n",
       "    out=None, \n",
       "    dtype=None, \n",
       "    casting=\"same_kind\"\n",
       ")\n",
       "\n",
       "Join a sequence of arrays along an existing axis.\n",
       "\n",
       "Parameters\n",
       "----------\n",
       "a1, a2, ... : sequence of array_like\n",
       "    The arrays must have the same shape, except in the dimension\n",
       "    corresponding to `axis` (the first, by default).\n",
       "axis : int, optional\n",
       "    The axis along which the arrays will be joined.  If axis is None,\n",
       "    arrays are flattened before use.  Default is 0.\n",
       "out : ndarray, optional\n",
       "    If provided, the destination to place the result. The shape must be\n",
       "    correct, matching that of what concatenate would have returned if no\n",
       "    out argument were specified.\n",
       "dtype : str or dtype\n",
       "    If provided, the destination array will have this dtype. Cannot be\n",
       "    provided together with `out`.\n",
       "\n",
       "    .. versionadded:: 1.20.0\n",
       "\n",
       "casting : {'no', 'equiv', 'safe', 'same_kind', 'unsafe'}, optional\n",
       "    Controls what kind of data casting may occur. Defaults to 'same_kind'.\n",
       "    For a description of the options, please see :term:`casting`.\n",
       "    \n",
       "    .. versionadded:: 1.20.0\n",
       "\n",
       "Returns\n",
       "-------\n",
       "res : ndarray\n",
       "    The concatenated array.\n",
       "\n",
       "See Also\n",
       "--------\n",
       "ma.concatenate : Concatenate function that preserves input masks.\n",
       "array_split : Split an array into multiple sub-arrays of equal or\n",
       "              near-equal size.\n",
       "split : Split array into a list of multiple sub-arrays of equal size.\n",
       "hsplit : Split array into multiple sub-arrays horizontally (column wise).\n",
       "vsplit : Split array into multiple sub-arrays vertically (row wise).\n",
       "dsplit : Split array into multiple sub-arrays along the 3rd axis (depth).\n",
       "stack : Stack a sequence of arrays along a new axis.\n",
       "block : Assemble arrays from blocks.\n",
       "hstack : Stack arrays in sequence horizontally (column wise).\n",
       "vstack : Stack arrays in sequence vertically (row wise).\n",
       "dstack : Stack arrays in sequence depth wise (along third dimension).\n",
       "column_stack : Stack 1-D arrays as columns into a 2-D array.\n",
       "\n",
       "Notes\n",
       "-----\n",
       "When one or more of the arrays to be concatenated is a MaskedArray,\n",
       "this function will return a MaskedArray object instead of an ndarray,\n",
       "but the input masks are *not* preserved. In cases where a MaskedArray\n",
       "is expected as input, use the ma.concatenate function from the masked\n",
       "array module instead.\n",
       "\n",
       "Examples\n",
       "--------\n",
       ">>> a = np.array([[1, 2], [3, 4]])\n",
       ">>> b = np.array([[5, 6]])\n",
       ">>> np.concatenate((a, b), axis=0)\n",
       "array([[1, 2],\n",
       "       [3, 4],\n",
       "       [5, 6]])\n",
       ">>> np.concatenate((a, b.T), axis=1)\n",
       "array([[1, 2, 5],\n",
       "       [3, 4, 6]])\n",
       ">>> np.concatenate((a, b), axis=None)\n",
       "array([1, 2, 3, 4, 5, 6])\n",
       "\n",
       "This function will not preserve masking of MaskedArray inputs.\n",
       "\n",
       ">>> a = np.ma.arange(3)\n",
       ">>> a[1] = np.ma.masked\n",
       ">>> b = np.arange(2, 5)\n",
       ">>> a\n",
       "masked_array(data=[0, --, 2],\n",
       "             mask=[False,  True, False],\n",
       "       fill_value=999999)\n",
       ">>> b\n",
       "array([2, 3, 4])\n",
       ">>> np.concatenate([a, b])\n",
       "masked_array(data=[0, 1, 2, 2, 3, 4],\n",
       "             mask=False,\n",
       "       fill_value=999999)\n",
       ">>> np.ma.concatenate([a, b])\n",
       "masked_array(data=[0, --, 2, 2, 3, 4],\n",
       "             mask=[False,  True, False, False, False, False],\n",
       "       fill_value=999999)\n",
       "\u001b[1;31mClass docstring:\u001b[0m\n",
       "Class to wrap functions with checks for __array_function__ overrides.\n",
       "\n",
       "All arguments are required, and can only be passed by position.\n",
       "\n",
       "Parameters\n",
       "----------\n",
       "dispatcher : function or None\n",
       "    The dispatcher function that returns a single sequence-like object\n",
       "    of all arguments relevant.  It must have the same signature (except\n",
       "    the default values) as the actual implementation.\n",
       "    If ``None``, this is a ``like=`` dispatcher and the\n",
       "    ``_ArrayFunctionDispatcher`` must be called with ``like`` as the\n",
       "    first (additional and positional) argument.\n",
       "implementation : function\n",
       "    Function that implements the operation on NumPy arrays without\n",
       "    overrides.  Arguments passed calling the ``_ArrayFunctionDispatcher``\n",
       "    will be forwarded to this (and the ``dispatcher``) as if using\n",
       "    ``*args, **kwargs``.\n",
       "\n",
       "Attributes\n",
       "----------\n",
       "_implementation : function\n",
       "    The original implementation passed in."
      ]
     },
     "metadata": {},
     "output_type": "display_data"
    }
   ],
   "source": [
    "np.concatenate?"
   ]
  },
  {
   "cell_type": "code",
   "execution_count": 37,
   "id": "9d2c77e0-96e7-4deb-ae40-345b4f7a3f73",
   "metadata": {},
   "outputs": [
    {
     "data": {
      "text/plain": [
       "array([[1, 2],\n",
       "       [3, 4],\n",
       "       [1, 2],\n",
       "       [3, 4]])"
      ]
     },
     "execution_count": 37,
     "metadata": {},
     "output_type": "execute_result"
    }
   ],
   "source": [
    "np.concatenate([n,n])"
   ]
  },
  {
   "cell_type": "code",
   "execution_count": 38,
   "id": "a7b02343-f20f-43b7-881c-754246835999",
   "metadata": {},
   "outputs": [
    {
     "data": {
      "text/plain": [
       "array([[1, 2, 1, 2],\n",
       "       [3, 4, 3, 4]])"
      ]
     },
     "execution_count": 38,
     "metadata": {},
     "output_type": "execute_result"
    }
   ],
   "source": [
    "np.concatenate([n,n],axis=1)#axis to specify row=0/column=1"
   ]
  },
  {
   "cell_type": "code",
   "execution_count": 39,
   "id": "17e8af7b-2d6b-437e-9de0-4af12cbbdfec",
   "metadata": {},
   "outputs": [],
   "source": [
    "x=np.array([1,2,3])\n",
    "y=np.array([[4,5,6],[7,8,9]])"
   ]
  },
  {
   "cell_type": "code",
   "execution_count": 40,
   "id": "606d1ba4-cfdf-45e0-8b17-ecbe798d7ae8",
   "metadata": {},
   "outputs": [
    {
     "data": {
      "text/plain": [
       "array([[1, 2, 3],\n",
       "       [4, 5, 6],\n",
       "       [7, 8, 9]])"
      ]
     },
     "execution_count": 40,
     "metadata": {},
     "output_type": "execute_result"
    }
   ],
   "source": [
    "np.vstack([x,y])"
   ]
  },
  {
   "cell_type": "code",
   "execution_count": 41,
   "id": "0fb890a0-2def-4a8c-bef0-154c0685f7ec",
   "metadata": {},
   "outputs": [
    {
     "data": {
      "text/plain": [
       "\u001b[1;31mSignature:\u001b[0m       \u001b[0mnp\u001b[0m\u001b[1;33m.\u001b[0m\u001b[0mvstack\u001b[0m\u001b[1;33m(\u001b[0m\u001b[0mtup\u001b[0m\u001b[1;33m,\u001b[0m \u001b[1;33m*\u001b[0m\u001b[1;33m,\u001b[0m \u001b[0mdtype\u001b[0m\u001b[1;33m=\u001b[0m\u001b[1;32mNone\u001b[0m\u001b[1;33m,\u001b[0m \u001b[0mcasting\u001b[0m\u001b[1;33m=\u001b[0m\u001b[1;34m'same_kind'\u001b[0m\u001b[1;33m)\u001b[0m\u001b[1;33m\u001b[0m\u001b[1;33m\u001b[0m\u001b[0m\n",
       "\u001b[1;31mCall signature:\u001b[0m  \u001b[0mnp\u001b[0m\u001b[1;33m.\u001b[0m\u001b[0mvstack\u001b[0m\u001b[1;33m(\u001b[0m\u001b[1;33m*\u001b[0m\u001b[0margs\u001b[0m\u001b[1;33m,\u001b[0m \u001b[1;33m**\u001b[0m\u001b[0mkwargs\u001b[0m\u001b[1;33m)\u001b[0m\u001b[1;33m\u001b[0m\u001b[1;33m\u001b[0m\u001b[0m\n",
       "\u001b[1;31mType:\u001b[0m            _ArrayFunctionDispatcher\n",
       "\u001b[1;31mString form:\u001b[0m     <function vstack at 0x00000210DD74A7A0>\n",
       "\u001b[1;31mFile:\u001b[0m            c:\\users\\lenovo\\desktop\\coding\\python learning\\lib\\site-packages\\numpy\\_core\\shape_base.py\n",
       "\u001b[1;31mDocstring:\u001b[0m      \n",
       "Stack arrays in sequence vertically (row wise).\n",
       "\n",
       "This is equivalent to concatenation along the first axis after 1-D arrays\n",
       "of shape `(N,)` have been reshaped to `(1,N)`. Rebuilds arrays divided by\n",
       "`vsplit`.\n",
       "\n",
       "This function makes most sense for arrays with up to 3 dimensions. For\n",
       "instance, for pixel-data with a height (first axis), width (second axis),\n",
       "and r/g/b channels (third axis). The functions `concatenate`, `stack` and\n",
       "`block` provide more general stacking and concatenation operations.\n",
       "\n",
       "Parameters\n",
       "----------\n",
       "tup : sequence of ndarrays\n",
       "    The arrays must have the same shape along all but the first axis.\n",
       "    1-D arrays must have the same length.\n",
       "\n",
       "dtype : str or dtype\n",
       "    If provided, the destination array will have this dtype. Cannot be\n",
       "    provided together with `out`.\n",
       "\n",
       "    .. versionadded:: 1.24\n",
       "\n",
       "casting : {'no', 'equiv', 'safe', 'same_kind', 'unsafe'}, optional\n",
       "    Controls what kind of data casting may occur. Defaults to 'same_kind'.\n",
       "\n",
       "    .. versionadded:: 1.24\n",
       "\n",
       "Returns\n",
       "-------\n",
       "stacked : ndarray\n",
       "    The array formed by stacking the given arrays, will be at least 2-D.\n",
       "\n",
       "See Also\n",
       "--------\n",
       "concatenate : Join a sequence of arrays along an existing axis.\n",
       "stack : Join a sequence of arrays along a new axis.\n",
       "block : Assemble an nd-array from nested lists of blocks.\n",
       "hstack : Stack arrays in sequence horizontally (column wise).\n",
       "dstack : Stack arrays in sequence depth wise (along third axis).\n",
       "column_stack : Stack 1-D arrays as columns into a 2-D array.\n",
       "vsplit : Split an array into multiple sub-arrays vertically (row-wise).\n",
       "\n",
       "Examples\n",
       "--------\n",
       ">>> a = np.array([1, 2, 3])\n",
       ">>> b = np.array([4, 5, 6])\n",
       ">>> np.vstack((a,b))\n",
       "array([[1, 2, 3],\n",
       "       [4, 5, 6]])\n",
       "\n",
       ">>> a = np.array([[1], [2], [3]])\n",
       ">>> b = np.array([[4], [5], [6]])\n",
       ">>> np.vstack((a,b))\n",
       "array([[1],\n",
       "       [2],\n",
       "       [3],\n",
       "       [4],\n",
       "       [5],\n",
       "       [6]])\n",
       "\u001b[1;31mClass docstring:\u001b[0m\n",
       "Class to wrap functions with checks for __array_function__ overrides.\n",
       "\n",
       "All arguments are required, and can only be passed by position.\n",
       "\n",
       "Parameters\n",
       "----------\n",
       "dispatcher : function or None\n",
       "    The dispatcher function that returns a single sequence-like object\n",
       "    of all arguments relevant.  It must have the same signature (except\n",
       "    the default values) as the actual implementation.\n",
       "    If ``None``, this is a ``like=`` dispatcher and the\n",
       "    ``_ArrayFunctionDispatcher`` must be called with ``like`` as the\n",
       "    first (additional and positional) argument.\n",
       "implementation : function\n",
       "    Function that implements the operation on NumPy arrays without\n",
       "    overrides.  Arguments passed calling the ``_ArrayFunctionDispatcher``\n",
       "    will be forwarded to this (and the ``dispatcher``) as if using\n",
       "    ``*args, **kwargs``.\n",
       "\n",
       "Attributes\n",
       "----------\n",
       "_implementation : function\n",
       "    The original implementation passed in."
      ]
     },
     "metadata": {},
     "output_type": "display_data"
    }
   ],
   "source": [
    "np.vstack?"
   ]
  },
  {
   "cell_type": "code",
   "execution_count": 42,
   "id": "fa45e19f-76b8-4e02-89b5-f43c67fca728",
   "metadata": {},
   "outputs": [
    {
     "data": {
      "text/plain": [
       "array([1, 2, 3, 4])"
      ]
     },
     "execution_count": 42,
     "metadata": {},
     "output_type": "execute_result"
    }
   ],
   "source": [
    "np.hstack((x,[4]))"
   ]
  },
  {
   "cell_type": "code",
   "execution_count": 44,
   "id": "f13c1a05-330e-419d-b641-5d373ea0a0d2",
   "metadata": {},
   "outputs": [
    {
     "data": {
      "text/plain": [
       "array([[1, 2],\n",
       "       [3, 4]])"
      ]
     },
     "execution_count": 44,
     "metadata": {},
     "output_type": "execute_result"
    }
   ],
   "source": [
    "ar=np.array(range(1,5)).reshape(2,2)\n",
    "ar"
   ]
  },
  {
   "cell_type": "code",
   "execution_count": 45,
   "id": "6088fe84-df72-4a4a-a3d1-e0ca88201359",
   "metadata": {},
   "outputs": [
    {
     "data": {
      "text/plain": [
       "array([[4, 5, 6, 1, 2],\n",
       "       [7, 8, 9, 3, 4]])"
      ]
     },
     "execution_count": 45,
     "metadata": {},
     "output_type": "execute_result"
    }
   ],
   "source": [
    "np.hstack((y,ar))"
   ]
  },
  {
   "cell_type": "code",
   "execution_count": 46,
   "id": "c10b278b-dced-4b65-af75-f6412cc8be54",
   "metadata": {},
   "outputs": [
    {
     "data": {
      "text/plain": [
       "\u001b[1;31mSignature:\u001b[0m       \u001b[0mnp\u001b[0m\u001b[1;33m.\u001b[0m\u001b[0msplit\u001b[0m\u001b[1;33m(\u001b[0m\u001b[0mary\u001b[0m\u001b[1;33m,\u001b[0m \u001b[0mindices_or_sections\u001b[0m\u001b[1;33m,\u001b[0m \u001b[0maxis\u001b[0m\u001b[1;33m=\u001b[0m\u001b[1;36m0\u001b[0m\u001b[1;33m)\u001b[0m\u001b[1;33m\u001b[0m\u001b[1;33m\u001b[0m\u001b[0m\n",
       "\u001b[1;31mCall signature:\u001b[0m  \u001b[0mnp\u001b[0m\u001b[1;33m.\u001b[0m\u001b[0msplit\u001b[0m\u001b[1;33m(\u001b[0m\u001b[1;33m*\u001b[0m\u001b[0margs\u001b[0m\u001b[1;33m,\u001b[0m \u001b[1;33m**\u001b[0m\u001b[0mkwargs\u001b[0m\u001b[1;33m)\u001b[0m\u001b[1;33m\u001b[0m\u001b[1;33m\u001b[0m\u001b[0m\n",
       "\u001b[1;31mType:\u001b[0m            _ArrayFunctionDispatcher\n",
       "\u001b[1;31mString form:\u001b[0m     <function split at 0x00000210DD8B0FE0>\n",
       "\u001b[1;31mFile:\u001b[0m            c:\\users\\lenovo\\desktop\\coding\\python learning\\lib\\site-packages\\numpy\\lib\\_shape_base_impl.py\n",
       "\u001b[1;31mDocstring:\u001b[0m      \n",
       "Split an array into multiple sub-arrays as views into `ary`.\n",
       "\n",
       "Parameters\n",
       "----------\n",
       "ary : ndarray\n",
       "    Array to be divided into sub-arrays.\n",
       "indices_or_sections : int or 1-D array\n",
       "    If `indices_or_sections` is an integer, N, the array will be divided\n",
       "    into N equal arrays along `axis`.  If such a split is not possible,\n",
       "    an error is raised.\n",
       "\n",
       "    If `indices_or_sections` is a 1-D array of sorted integers, the entries\n",
       "    indicate where along `axis` the array is split.  For example,\n",
       "    ``[2, 3]`` would, for ``axis=0``, result in\n",
       "\n",
       "    - ary[:2]\n",
       "    - ary[2:3]\n",
       "    - ary[3:]\n",
       "\n",
       "    If an index exceeds the dimension of the array along `axis`,\n",
       "    an empty sub-array is returned correspondingly.\n",
       "axis : int, optional\n",
       "    The axis along which to split, default is 0.\n",
       "\n",
       "Returns\n",
       "-------\n",
       "sub-arrays : list of ndarrays\n",
       "    A list of sub-arrays as views into `ary`.\n",
       "\n",
       "Raises\n",
       "------\n",
       "ValueError\n",
       "    If `indices_or_sections` is given as an integer, but\n",
       "    a split does not result in equal division.\n",
       "\n",
       "See Also\n",
       "--------\n",
       "array_split : Split an array into multiple sub-arrays of equal or\n",
       "              near-equal size.  Does not raise an exception if\n",
       "              an equal division cannot be made.\n",
       "hsplit : Split array into multiple sub-arrays horizontally (column-wise).\n",
       "vsplit : Split array into multiple sub-arrays vertically (row wise).\n",
       "dsplit : Split array into multiple sub-arrays along the 3rd axis (depth).\n",
       "concatenate : Join a sequence of arrays along an existing axis.\n",
       "stack : Join a sequence of arrays along a new axis.\n",
       "hstack : Stack arrays in sequence horizontally (column wise).\n",
       "vstack : Stack arrays in sequence vertically (row wise).\n",
       "dstack : Stack arrays in sequence depth wise (along third dimension).\n",
       "\n",
       "Examples\n",
       "--------\n",
       ">>> x = np.arange(9.0)\n",
       ">>> np.split(x, 3)\n",
       "[array([0.,  1.,  2.]), array([3.,  4.,  5.]), array([6.,  7.,  8.])]\n",
       "\n",
       ">>> x = np.arange(8.0)\n",
       ">>> np.split(x, [3, 5, 6, 10])\n",
       "[array([0.,  1.,  2.]),\n",
       " array([3.,  4.]),\n",
       " array([5.]),\n",
       " array([6.,  7.]),\n",
       " array([], dtype=float64)]\n",
       "\u001b[1;31mClass docstring:\u001b[0m\n",
       "Class to wrap functions with checks for __array_function__ overrides.\n",
       "\n",
       "All arguments are required, and can only be passed by position.\n",
       "\n",
       "Parameters\n",
       "----------\n",
       "dispatcher : function or None\n",
       "    The dispatcher function that returns a single sequence-like object\n",
       "    of all arguments relevant.  It must have the same signature (except\n",
       "    the default values) as the actual implementation.\n",
       "    If ``None``, this is a ``like=`` dispatcher and the\n",
       "    ``_ArrayFunctionDispatcher`` must be called with ``like`` as the\n",
       "    first (additional and positional) argument.\n",
       "implementation : function\n",
       "    Function that implements the operation on NumPy arrays without\n",
       "    overrides.  Arguments passed calling the ``_ArrayFunctionDispatcher``\n",
       "    will be forwarded to this (and the ``dispatcher``) as if using\n",
       "    ``*args, **kwargs``.\n",
       "\n",
       "Attributes\n",
       "----------\n",
       "_implementation : function\n",
       "    The original implementation passed in."
      ]
     },
     "metadata": {},
     "output_type": "display_data"
    }
   ],
   "source": [
    "np.split?"
   ]
  },
  {
   "cell_type": "code",
   "execution_count": 47,
   "id": "622399ec-420e-4d36-8a88-f274e4dbad16",
   "metadata": {},
   "outputs": [
    {
     "data": {
      "text/plain": [
       "\u001b[1;31mSignature:\u001b[0m       \u001b[0mnp\u001b[0m\u001b[1;33m.\u001b[0m\u001b[0mvsplit\u001b[0m\u001b[1;33m(\u001b[0m\u001b[0mary\u001b[0m\u001b[1;33m,\u001b[0m \u001b[0mindices_or_sections\u001b[0m\u001b[1;33m)\u001b[0m\u001b[1;33m\u001b[0m\u001b[1;33m\u001b[0m\u001b[0m\n",
       "\u001b[1;31mCall signature:\u001b[0m  \u001b[0mnp\u001b[0m\u001b[1;33m.\u001b[0m\u001b[0mvsplit\u001b[0m\u001b[1;33m(\u001b[0m\u001b[1;33m*\u001b[0m\u001b[0margs\u001b[0m\u001b[1;33m,\u001b[0m \u001b[1;33m**\u001b[0m\u001b[0mkwargs\u001b[0m\u001b[1;33m)\u001b[0m\u001b[1;33m\u001b[0m\u001b[1;33m\u001b[0m\u001b[0m\n",
       "\u001b[1;31mType:\u001b[0m            _ArrayFunctionDispatcher\n",
       "\u001b[1;31mString form:\u001b[0m     <function vsplit at 0x00000210DD8B11C0>\n",
       "\u001b[1;31mFile:\u001b[0m            c:\\users\\lenovo\\desktop\\coding\\python learning\\lib\\site-packages\\numpy\\lib\\_shape_base_impl.py\n",
       "\u001b[1;31mDocstring:\u001b[0m      \n",
       "Split an array into multiple sub-arrays vertically (row-wise).\n",
       "\n",
       "Please refer to the ``split`` documentation.  ``vsplit`` is equivalent\n",
       "to ``split`` with `axis=0` (default), the array is always split along the\n",
       "first axis regardless of the array dimension.\n",
       "\n",
       "See Also\n",
       "--------\n",
       "split : Split an array into multiple sub-arrays of equal size.\n",
       "\n",
       "Examples\n",
       "--------\n",
       ">>> x = np.arange(16.0).reshape(4, 4)\n",
       ">>> x\n",
       "array([[ 0.,   1.,   2.,   3.],\n",
       "       [ 4.,   5.,   6.,   7.],\n",
       "       [ 8.,   9.,  10.,  11.],\n",
       "       [12.,  13.,  14.,  15.]])\n",
       ">>> np.vsplit(x, 2)\n",
       "[array([[0., 1., 2., 3.],\n",
       "        [4., 5., 6., 7.]]),\n",
       " array([[ 8.,  9., 10., 11.],\n",
       "        [12., 13., 14., 15.]])]\n",
       ">>> np.vsplit(x, np.array([3, 6]))\n",
       "[array([[ 0.,  1.,  2.,  3.],\n",
       "        [ 4.,  5.,  6.,  7.],\n",
       "        [ 8.,  9., 10., 11.]]),\n",
       " array([[12., 13., 14., 15.]]),\n",
       " array([], shape=(0, 4), dtype=float64)]\n",
       "\n",
       "With a higher dimensional array the split is still along the first axis.\n",
       "\n",
       ">>> x = np.arange(8.0).reshape(2, 2, 2)\n",
       ">>> x\n",
       "array([[[0.,  1.],\n",
       "        [2.,  3.]],\n",
       "       [[4.,  5.],\n",
       "        [6.,  7.]]])\n",
       ">>> np.vsplit(x, 2)\n",
       "[array([[[0., 1.],\n",
       "         [2., 3.]]]),\n",
       " array([[[4., 5.],\n",
       "         [6., 7.]]])]\n",
       "\u001b[1;31mClass docstring:\u001b[0m\n",
       "Class to wrap functions with checks for __array_function__ overrides.\n",
       "\n",
       "All arguments are required, and can only be passed by position.\n",
       "\n",
       "Parameters\n",
       "----------\n",
       "dispatcher : function or None\n",
       "    The dispatcher function that returns a single sequence-like object\n",
       "    of all arguments relevant.  It must have the same signature (except\n",
       "    the default values) as the actual implementation.\n",
       "    If ``None``, this is a ``like=`` dispatcher and the\n",
       "    ``_ArrayFunctionDispatcher`` must be called with ``like`` as the\n",
       "    first (additional and positional) argument.\n",
       "implementation : function\n",
       "    Function that implements the operation on NumPy arrays without\n",
       "    overrides.  Arguments passed calling the ``_ArrayFunctionDispatcher``\n",
       "    will be forwarded to this (and the ``dispatcher``) as if using\n",
       "    ``*args, **kwargs``.\n",
       "\n",
       "Attributes\n",
       "----------\n",
       "_implementation : function\n",
       "    The original implementation passed in."
      ]
     },
     "metadata": {},
     "output_type": "display_data"
    }
   ],
   "source": [
    "np.vsplit?"
   ]
  },
  {
   "cell_type": "code",
   "execution_count": 48,
   "id": "f27a08a1-4b68-4759-8276-7b5c127c0b24",
   "metadata": {},
   "outputs": [
    {
     "data": {
      "text/plain": [
       "\u001b[1;31mSignature:\u001b[0m       \u001b[0mnp\u001b[0m\u001b[1;33m.\u001b[0m\u001b[0mhsplit\u001b[0m\u001b[1;33m(\u001b[0m\u001b[0mary\u001b[0m\u001b[1;33m,\u001b[0m \u001b[0mindices_or_sections\u001b[0m\u001b[1;33m)\u001b[0m\u001b[1;33m\u001b[0m\u001b[1;33m\u001b[0m\u001b[0m\n",
       "\u001b[1;31mCall signature:\u001b[0m  \u001b[0mnp\u001b[0m\u001b[1;33m.\u001b[0m\u001b[0mhsplit\u001b[0m\u001b[1;33m(\u001b[0m\u001b[1;33m*\u001b[0m\u001b[0margs\u001b[0m\u001b[1;33m,\u001b[0m \u001b[1;33m**\u001b[0m\u001b[0mkwargs\u001b[0m\u001b[1;33m)\u001b[0m\u001b[1;33m\u001b[0m\u001b[1;33m\u001b[0m\u001b[0m\n",
       "\u001b[1;31mType:\u001b[0m            _ArrayFunctionDispatcher\n",
       "\u001b[1;31mString form:\u001b[0m     <function hsplit at 0x00000210DD8B1120>\n",
       "\u001b[1;31mFile:\u001b[0m            c:\\users\\lenovo\\desktop\\coding\\python learning\\lib\\site-packages\\numpy\\lib\\_shape_base_impl.py\n",
       "\u001b[1;31mDocstring:\u001b[0m      \n",
       "Split an array into multiple sub-arrays horizontally (column-wise).\n",
       "\n",
       "Please refer to the `split` documentation.  `hsplit` is equivalent\n",
       "to `split` with ``axis=1``, the array is always split along the second\n",
       "axis except for 1-D arrays, where it is split at ``axis=0``.\n",
       "\n",
       "See Also\n",
       "--------\n",
       "split : Split an array into multiple sub-arrays of equal size.\n",
       "\n",
       "Examples\n",
       "--------\n",
       ">>> x = np.arange(16.0).reshape(4, 4)\n",
       ">>> x\n",
       "array([[ 0.,   1.,   2.,   3.],\n",
       "       [ 4.,   5.,   6.,   7.],\n",
       "       [ 8.,   9.,  10.,  11.],\n",
       "       [12.,  13.,  14.,  15.]])\n",
       ">>> np.hsplit(x, 2)\n",
       "[array([[  0.,   1.],\n",
       "       [  4.,   5.],\n",
       "       [  8.,   9.],\n",
       "       [12.,  13.]]),\n",
       " array([[  2.,   3.],\n",
       "       [  6.,   7.],\n",
       "       [10.,  11.],\n",
       "       [14.,  15.]])]\n",
       ">>> np.hsplit(x, np.array([3, 6]))\n",
       "[array([[ 0.,   1.,   2.],\n",
       "       [ 4.,   5.,   6.],\n",
       "       [ 8.,   9.,  10.],\n",
       "       [12.,  13.,  14.]]),\n",
       " array([[ 3.],\n",
       "       [ 7.],\n",
       "       [11.],\n",
       "       [15.]]),\n",
       " array([], shape=(4, 0), dtype=float64)]\n",
       "\n",
       "With a higher dimensional array the split is still along the second axis.\n",
       "\n",
       ">>> x = np.arange(8.0).reshape(2, 2, 2)\n",
       ">>> x\n",
       "array([[[0.,  1.],\n",
       "        [2.,  3.]],\n",
       "       [[4.,  5.],\n",
       "        [6.,  7.]]])\n",
       ">>> np.hsplit(x, 2)\n",
       "[array([[[0.,  1.]],\n",
       "       [[4.,  5.]]]),\n",
       " array([[[2.,  3.]],\n",
       "       [[6.,  7.]]])]\n",
       "\n",
       "With a 1-D array, the split is along axis 0.\n",
       "\n",
       ">>> x = np.array([0, 1, 2, 3, 4, 5])\n",
       ">>> np.hsplit(x, 2)\n",
       "[array([0, 1, 2]), array([3, 4, 5])]\n",
       "\u001b[1;31mClass docstring:\u001b[0m\n",
       "Class to wrap functions with checks for __array_function__ overrides.\n",
       "\n",
       "All arguments are required, and can only be passed by position.\n",
       "\n",
       "Parameters\n",
       "----------\n",
       "dispatcher : function or None\n",
       "    The dispatcher function that returns a single sequence-like object\n",
       "    of all arguments relevant.  It must have the same signature (except\n",
       "    the default values) as the actual implementation.\n",
       "    If ``None``, this is a ``like=`` dispatcher and the\n",
       "    ``_ArrayFunctionDispatcher`` must be called with ``like`` as the\n",
       "    first (additional and positional) argument.\n",
       "implementation : function\n",
       "    Function that implements the operation on NumPy arrays without\n",
       "    overrides.  Arguments passed calling the ``_ArrayFunctionDispatcher``\n",
       "    will be forwarded to this (and the ``dispatcher``) as if using\n",
       "    ``*args, **kwargs``.\n",
       "\n",
       "Attributes\n",
       "----------\n",
       "_implementation : function\n",
       "    The original implementation passed in."
      ]
     },
     "metadata": {},
     "output_type": "display_data"
    }
   ],
   "source": [
    "np.hsplit?"
   ]
  },
  {
   "cell_type": "code",
   "execution_count": 105,
   "id": "0b97053a-9308-45f0-ab5d-f74b7a180c57",
   "metadata": {},
   "outputs": [
    {
     "data": {
      "text/plain": [
       "array([1, 2, 3, 4, 5])"
      ]
     },
     "execution_count": 105,
     "metadata": {},
     "output_type": "execute_result"
    }
   ],
   "source": [
    "a=np.array(range(1,6))\n",
    "a"
   ]
  },
  {
   "cell_type": "code",
   "execution_count": 106,
   "id": "eeae0cd8-9048-4318-9fa9-e90439ef45e7",
   "metadata": {},
   "outputs": [
    {
     "data": {
      "text/plain": [
       "[array([1]), array([2]), array([3]), array([4]), array([5])]"
      ]
     },
     "execution_count": 106,
     "metadata": {},
     "output_type": "execute_result"
    }
   ],
   "source": [
    "np.split(a,5) # (a,5,axis) axis=1 verticalyy split axis=0 horizontaly split"
   ]
  },
  {
   "cell_type": "code",
   "execution_count": 107,
   "id": "aa04b34d-583d-4392-95b2-48c2bf5095d7",
   "metadata": {},
   "outputs": [
    {
     "ename": "ValueError",
     "evalue": "array split does not result in an equal division",
     "output_type": "error",
     "traceback": [
      "\u001b[1;31m---------------------------------------------------------------------------\u001b[0m",
      "\u001b[1;31mValueError\u001b[0m                                Traceback (most recent call last)",
      "Cell \u001b[1;32mIn[107], line 1\u001b[0m\n\u001b[1;32m----> 1\u001b[0m \u001b[43mnp\u001b[49m\u001b[38;5;241;43m.\u001b[39;49m\u001b[43msplit\u001b[49m\u001b[43m(\u001b[49m\u001b[43ma\u001b[49m\u001b[43m,\u001b[49m\u001b[38;5;241;43m6\u001b[39;49m\u001b[43m)\u001b[49m \u001b[38;5;66;03m#not working because\u001b[39;00m\n",
      "File \u001b[1;32m~\\AppData\\Local\\Programs\\Python\\Python312\\Lib\\site-packages\\numpy\\lib\\_shape_base_impl.py:889\u001b[0m, in \u001b[0;36msplit\u001b[1;34m(ary, indices_or_sections, axis)\u001b[0m\n\u001b[0;32m    887\u001b[0m     N \u001b[38;5;241m=\u001b[39m ary\u001b[38;5;241m.\u001b[39mshape[axis]\n\u001b[0;32m    888\u001b[0m     \u001b[38;5;28;01mif\u001b[39;00m N \u001b[38;5;241m%\u001b[39m sections:\n\u001b[1;32m--> 889\u001b[0m         \u001b[38;5;28;01mraise\u001b[39;00m \u001b[38;5;167;01mValueError\u001b[39;00m(\n\u001b[0;32m    890\u001b[0m             \u001b[38;5;124m'\u001b[39m\u001b[38;5;124marray split does not result in an equal division\u001b[39m\u001b[38;5;124m'\u001b[39m) \u001b[38;5;28;01mfrom\u001b[39;00m \u001b[38;5;28;01mNone\u001b[39;00m\n\u001b[0;32m    891\u001b[0m \u001b[38;5;28;01mreturn\u001b[39;00m array_split(ary, indices_or_sections, axis)\n",
      "\u001b[1;31mValueError\u001b[0m: array split does not result in an equal division"
     ]
    }
   ],
   "source": [
    "np.split(a,6) #not working because"
   ]
  },
  {
   "cell_type": "code",
   "execution_count": 53,
   "id": "63831cdb-03ea-426b-9cd7-4c90a59255bb",
   "metadata": {},
   "outputs": [
    {
     "data": {
      "text/plain": [
       "[array([1, 2]), array([3, 4]), array([5])]"
      ]
     },
     "execution_count": 53,
     "metadata": {},
     "output_type": "execute_result"
    }
   ],
   "source": [
    "np.split(a,[2,4]) # :2 3:4 5:"
   ]
  },
  {
   "cell_type": "code",
   "execution_count": 56,
   "id": "88d5ca6b-db77-45a5-a010-51b310cd5145",
   "metadata": {},
   "outputs": [
    {
     "data": {
      "text/plain": [
       "array([[ 1,  2,  3,  4,  5],\n",
       "       [ 6,  7,  8,  9, 10],\n",
       "       [11, 12, 13, 14, 15],\n",
       "       [16, 17, 18, 19, 20],\n",
       "       [21, 22, 23, 24, 25]])"
      ]
     },
     "execution_count": 56,
     "metadata": {},
     "output_type": "execute_result"
    }
   ],
   "source": [
    "arr=np.array(range(1,26)).reshape(5,5)\n",
    "arr"
   ]
  },
  {
   "cell_type": "code",
   "execution_count": 58,
   "id": "667d4a99-f64e-4ab3-82bc-5baaeb539a97",
   "metadata": {},
   "outputs": [
    {
     "data": {
      "text/plain": [
       "[array([[ 1,  2,  3,  4,  5],\n",
       "        [ 6,  7,  8,  9, 10]]),\n",
       " array([[11, 12, 13, 14, 15]]),\n",
       " array([[16, 17, 18, 19, 20],\n",
       "        [21, 22, 23, 24, 25]])]"
      ]
     },
     "execution_count": 58,
     "metadata": {},
     "output_type": "execute_result"
    }
   ],
   "source": [
    "np.vsplit(arr,[2,3])"
   ]
  },
  {
   "cell_type": "code",
   "execution_count": 59,
   "id": "93b3720b-d1f3-497d-96ad-731b7f9754f0",
   "metadata": {},
   "outputs": [
    {
     "data": {
      "text/plain": [
       "[array([[ 1,  2],\n",
       "        [ 6,  7],\n",
       "        [11, 12],\n",
       "        [16, 17],\n",
       "        [21, 22]]),\n",
       " array([[ 3],\n",
       "        [ 8],\n",
       "        [13],\n",
       "        [18],\n",
       "        [23]]),\n",
       " array([[ 4,  5],\n",
       "        [ 9, 10],\n",
       "        [14, 15],\n",
       "        [19, 20],\n",
       "        [24, 25]])]"
      ]
     },
     "execution_count": 59,
     "metadata": {},
     "output_type": "execute_result"
    }
   ],
   "source": [
    "np.hsplit(arr,[2,3])"
   ]
  },
  {
   "cell_type": "code",
   "execution_count": 60,
   "id": "5ae962e6-8c1e-4799-9127-f79c968673df",
   "metadata": {},
   "outputs": [
    {
     "data": {
      "text/plain": [
       "[array([[ 1],\n",
       "        [ 6],\n",
       "        [11],\n",
       "        [16],\n",
       "        [21]]),\n",
       " array([[ 2],\n",
       "        [ 7],\n",
       "        [12],\n",
       "        [17],\n",
       "        [22]]),\n",
       " array([[ 3],\n",
       "        [ 8],\n",
       "        [13],\n",
       "        [18],\n",
       "        [23]]),\n",
       " array([[ 4],\n",
       "        [ 9],\n",
       "        [14],\n",
       "        [19],\n",
       "        [24]]),\n",
       " array([[ 5],\n",
       "        [10],\n",
       "        [15],\n",
       "        [20],\n",
       "        [25]])]"
      ]
     },
     "execution_count": 60,
     "metadata": {},
     "output_type": "execute_result"
    }
   ],
   "source": [
    "np.split(arr,5,axis=1)"
   ]
  },
  {
   "cell_type": "code",
   "execution_count": 61,
   "id": "f58414a2-5468-4eb0-a283-39f30903745d",
   "metadata": {},
   "outputs": [],
   "source": [
    "#universel function = sum mean standard devition sin cos"
   ]
  },
  {
   "cell_type": "code",
   "execution_count": 62,
   "id": "9ca64322-51be-4f11-b51f-b45ad281ff5a",
   "metadata": {},
   "outputs": [
    {
     "data": {
      "text/plain": [
       "array([55, 60, 65, 70, 75])"
      ]
     },
     "execution_count": 62,
     "metadata": {},
     "output_type": "execute_result"
    }
   ],
   "source": [
    "np.sum(arr,axis=0)"
   ]
  },
  {
   "cell_type": "code",
   "execution_count": 63,
   "id": "3b2006af-37fc-4e3a-abf9-91e27247d694",
   "metadata": {},
   "outputs": [
    {
     "data": {
      "text/plain": [
       "array([ 15,  40,  65,  90, 115])"
      ]
     },
     "execution_count": 63,
     "metadata": {},
     "output_type": "execute_result"
    }
   ],
   "source": [
    "np.sum(arr,axis=1)"
   ]
  },
  {
   "cell_type": "code",
   "execution_count": 64,
   "id": "6706995c-6f01-4ead-81f6-b70ebc614af3",
   "metadata": {},
   "outputs": [
    {
     "data": {
      "text/plain": [
       "np.int64(1)"
      ]
     },
     "execution_count": 64,
     "metadata": {},
     "output_type": "execute_result"
    }
   ],
   "source": [
    "np.min(arr)"
   ]
  },
  {
   "cell_type": "code",
   "execution_count": 66,
   "id": "054498ca-0304-44ff-8fe8-d085a6949889",
   "metadata": {},
   "outputs": [
    {
     "data": {
      "text/plain": [
       "np.int64(25)"
      ]
     },
     "execution_count": 66,
     "metadata": {},
     "output_type": "execute_result"
    }
   ],
   "source": [
    "np.max(arr)"
   ]
  },
  {
   "cell_type": "code",
   "execution_count": 67,
   "id": "60d73858-e678-4571-a161-2c2e186825c4",
   "metadata": {},
   "outputs": [
    {
     "data": {
      "text/plain": [
       "np.int64(0)"
      ]
     },
     "execution_count": 67,
     "metadata": {},
     "output_type": "execute_result"
    }
   ],
   "source": [
    "np.argmin(a) # dimention of min num."
   ]
  },
  {
   "cell_type": "code",
   "execution_count": 68,
   "id": "87edc2a3-e933-49ed-9265-15f39d2843e9",
   "metadata": {},
   "outputs": [],
   "source": [
    "i=-4"
   ]
  },
  {
   "cell_type": "code",
   "execution_count": 69,
   "id": "a1752a44-3f69-4e9c-9319-18721109b6c0",
   "metadata": {},
   "outputs": [
    {
     "data": {
      "text/plain": [
       "np.int64(4)"
      ]
     },
     "execution_count": 69,
     "metadata": {},
     "output_type": "execute_result"
    }
   ],
   "source": [
    "np.absolute(i)"
   ]
  },
  {
   "cell_type": "code",
   "execution_count": 70,
   "id": "e2b27024-14fc-4795-91d1-d2d93393519c",
   "metadata": {},
   "outputs": [
    {
     "data": {
      "text/plain": [
       "np.int64(4)"
      ]
     },
     "execution_count": 70,
     "metadata": {},
     "output_type": "execute_result"
    }
   ],
   "source": [
    "np.abs(i)"
   ]
  },
  {
   "cell_type": "code",
   "execution_count": 71,
   "id": "b73ac83c-1df1-43a4-88ef-ea970a2eefd5",
   "metadata": {},
   "outputs": [],
   "source": [
    "#np.std() np.var()"
   ]
  },
  {
   "cell_type": "code",
   "execution_count": 72,
   "id": "29ab7816-202d-4dcc-8331-b273765459ea",
   "metadata": {},
   "outputs": [],
   "source": [
    "#np.prod()  # factorial"
   ]
  },
  {
   "cell_type": "markdown",
   "id": "1aab772f-5cb9-4978-bf08-7ebf23bf11f6",
   "metadata": {},
   "source": [
    "## Numpy Ex =1"
   ]
  },
  {
   "cell_type": "code",
   "execution_count": 4,
   "id": "11940d6f-aa74-4fab-b1c8-27be34e6a70a",
   "metadata": {},
   "outputs": [
    {
     "data": {
      "text/plain": [
       "array([0., 0., 0., 0., 0., 0., 0., 0., 0., 0.])"
      ]
     },
     "execution_count": 4,
     "metadata": {},
     "output_type": "execute_result"
    }
   ],
   "source": [
    "np.zeros(10)\n"
   ]
  },
  {
   "cell_type": "code",
   "execution_count": 5,
   "id": "69fb550d-9b60-4d0c-b446-a96914e49295",
   "metadata": {},
   "outputs": [
    {
     "data": {
      "text/plain": [
       "array([1., 1., 1., 1., 1., 1., 1., 1., 1., 1.])"
      ]
     },
     "execution_count": 5,
     "metadata": {},
     "output_type": "execute_result"
    }
   ],
   "source": [
    "np.ones(10)"
   ]
  },
  {
   "cell_type": "code",
   "execution_count": 6,
   "id": "04dc8638-51b7-4022-9543-bd14fc2cb8b2",
   "metadata": {},
   "outputs": [
    {
     "data": {
      "text/plain": [
       "array([10, 11, 12, 13, 14, 15, 16, 17, 18, 19, 20, 21, 22, 23, 24, 25, 26,\n",
       "       27, 28, 29, 30, 31, 32, 33, 34, 35, 36, 37, 38, 39, 40, 41, 42, 43,\n",
       "       44, 45, 46, 47, 48, 49, 50])"
      ]
     },
     "execution_count": 6,
     "metadata": {},
     "output_type": "execute_result"
    }
   ],
   "source": [
    "np.array(range(10,51))"
   ]
  },
  {
   "cell_type": "code",
   "execution_count": 7,
   "id": "bf387cf4-cf1a-4643-a068-8292fb352469",
   "metadata": {},
   "outputs": [
    {
     "data": {
      "text/plain": [
       "array([10, 12, 14, 16, 18, 20, 22, 24, 26, 28, 30, 32, 34, 36, 38, 40, 42,\n",
       "       44, 46, 48, 50])"
      ]
     },
     "execution_count": 7,
     "metadata": {},
     "output_type": "execute_result"
    }
   ],
   "source": [
    "np.array(range(10,51,2))"
   ]
  },
  {
   "cell_type": "code",
   "execution_count": 8,
   "id": "7ae56d1f-5769-4f49-8465-62aa1aae24c4",
   "metadata": {},
   "outputs": [
    {
     "data": {
      "text/plain": [
       "array([[0, 1, 2],\n",
       "       [3, 4, 5],\n",
       "       [6, 7, 8]])"
      ]
     },
     "execution_count": 8,
     "metadata": {},
     "output_type": "execute_result"
    }
   ],
   "source": [
    "np.array(range(0,9)).reshape(3,3)"
   ]
  },
  {
   "cell_type": "code",
   "execution_count": 9,
   "id": "2b51c7ec-196d-4c93-8b18-5468bc45f66c",
   "metadata": {},
   "outputs": [
    {
     "data": {
      "text/plain": [
       "array([[1., 0., 0.],\n",
       "       [0., 1., 0.],\n",
       "       [0., 0., 1.]])"
      ]
     },
     "execution_count": 9,
     "metadata": {},
     "output_type": "execute_result"
    }
   ],
   "source": [
    "np.eye(3)"
   ]
  },
  {
   "cell_type": "code",
   "execution_count": 5,
   "id": "7bcf58e8-54d3-4e01-89cf-49608aa49362",
   "metadata": {},
   "outputs": [
    {
     "data": {
      "text/plain": [
       "array([0.62514178, 0.92374067])"
      ]
     },
     "execution_count": 5,
     "metadata": {},
     "output_type": "execute_result"
    }
   ],
   "source": [
    "np.random.random(2)"
   ]
  },
  {
   "cell_type": "code",
   "execution_count": 12,
   "id": "9fe2cbd4-a665-4026-bd00-29342fca767f",
   "metadata": {},
   "outputs": [
    {
     "data": {
      "text/plain": [
       "array([-1.29738296e-01, -2.02334896e-01,  4.73858743e-01, -1.69696299e+00,\n",
       "       -1.85478469e+00, -2.05683270e+00, -8.01813452e-01, -1.57154761e+00,\n",
       "       -5.28476171e-01,  1.74729716e-01, -1.03679586e+00, -1.43517833e+00,\n",
       "        1.09630055e+00, -3.76110263e-01, -5.92303291e-01, -1.37622147e-01,\n",
       "        1.63068150e+00,  8.63963838e-01, -1.50257918e+00,  4.39109738e-01,\n",
       "        3.67163417e-01,  1.32938559e-02, -1.84731097e-03, -5.34854943e-01,\n",
       "        7.32398127e-02])"
      ]
     },
     "execution_count": 12,
     "metadata": {},
     "output_type": "execute_result"
    }
   ],
   "source": [
    "np.random.randn(25)"
   ]
  },
  {
   "cell_type": "code",
   "execution_count": 13,
   "id": "0a68c5f2-ba17-4eda-8e9a-0c3327ff4b26",
   "metadata": {},
   "outputs": [
    {
     "data": {
      "text/plain": [
       "array([[0.01, 0.02, 0.03, 0.04, 0.05, 0.06, 0.07, 0.08, 0.09, 0.1 ],\n",
       "       [0.11, 0.12, 0.13, 0.14, 0.15, 0.16, 0.17, 0.18, 0.19, 0.2 ],\n",
       "       [0.21, 0.22, 0.23, 0.24, 0.25, 0.26, 0.27, 0.28, 0.29, 0.3 ],\n",
       "       [0.31, 0.32, 0.33, 0.34, 0.35, 0.36, 0.37, 0.38, 0.39, 0.4 ],\n",
       "       [0.41, 0.42, 0.43, 0.44, 0.45, 0.46, 0.47, 0.48, 0.49, 0.5 ],\n",
       "       [0.51, 0.52, 0.53, 0.54, 0.55, 0.56, 0.57, 0.58, 0.59, 0.6 ],\n",
       "       [0.61, 0.62, 0.63, 0.64, 0.65, 0.66, 0.67, 0.68, 0.69, 0.7 ],\n",
       "       [0.71, 0.72, 0.73, 0.74, 0.75, 0.76, 0.77, 0.78, 0.79, 0.8 ],\n",
       "       [0.81, 0.82, 0.83, 0.84, 0.85, 0.86, 0.87, 0.88, 0.89, 0.9 ],\n",
       "       [0.91, 0.92, 0.93, 0.94, 0.95, 0.96, 0.97, 0.98, 0.99, 1.  ]])"
      ]
     },
     "execution_count": 13,
     "metadata": {},
     "output_type": "execute_result"
    }
   ],
   "source": [
    "np.linspace(0.01,1,100).reshape(10,10)"
   ]
  },
  {
   "cell_type": "code",
   "execution_count": 8,
   "id": "c9635c02-e32b-4114-bffb-6755a974d1e8",
   "metadata": {},
   "outputs": [
    {
     "data": {
      "text/plain": [
       "array([0.01      , 0.05061224, 0.09122449, 0.13183673, 0.17244898,\n",
       "       0.21306122, 0.25367347, 0.29428571, 0.33489796, 0.3755102 ,\n",
       "       0.41612245, 0.45673469, 0.49734694, 0.53795918, 0.57857143,\n",
       "       0.61918367, 0.65979592, 0.70040816, 0.74102041, 0.78163265,\n",
       "       0.8222449 , 0.86285714, 0.90346939, 0.94408163, 0.98469388,\n",
       "       1.02530612, 1.06591837, 1.10653061, 1.14714286, 1.1877551 ,\n",
       "       1.22836735, 1.26897959, 1.30959184, 1.35020408, 1.39081633,\n",
       "       1.43142857, 1.47204082, 1.51265306, 1.55326531, 1.59387755,\n",
       "       1.6344898 , 1.67510204, 1.71571429, 1.75632653, 1.79693878,\n",
       "       1.83755102, 1.87816327, 1.91877551, 1.95938776, 2.        ])"
      ]
     },
     "execution_count": 8,
     "metadata": {},
     "output_type": "execute_result"
    }
   ],
   "source": [
    "np.linspace(0.01,2)"
   ]
  },
  {
   "cell_type": "code",
   "execution_count": 15,
   "id": "7de5cd1f-20d5-461d-955d-d2024122821d",
   "metadata": {},
   "outputs": [],
   "source": [
    "arr=np.array(range(1,26)).reshape(5,5)"
   ]
  },
  {
   "cell_type": "code",
   "execution_count": 16,
   "id": "b169928f-b9df-453d-8ccf-b74f0524ab7a",
   "metadata": {},
   "outputs": [
    {
     "data": {
      "text/plain": [
       "array([[ 1,  2,  3,  4,  5],\n",
       "       [ 6,  7,  8,  9, 10],\n",
       "       [11, 12, 13, 14, 15],\n",
       "       [16, 17, 18, 19, 20],\n",
       "       [21, 22, 23, 24, 25]])"
      ]
     },
     "execution_count": 16,
     "metadata": {},
     "output_type": "execute_result"
    }
   ],
   "source": [
    "arr"
   ]
  },
  {
   "cell_type": "code",
   "execution_count": 17,
   "id": "1b2c40e1-d18a-4062-81ae-047481269145",
   "metadata": {},
   "outputs": [
    {
     "data": {
      "text/plain": [
       "array([[12, 13, 14, 15],\n",
       "       [17, 18, 19, 20],\n",
       "       [22, 23, 24, 25]])"
      ]
     },
     "execution_count": 17,
     "metadata": {},
     "output_type": "execute_result"
    }
   ],
   "source": [
    "arr[2:5,1:5]"
   ]
  },
  {
   "cell_type": "code",
   "execution_count": 18,
   "id": "a92a1cf7-7c67-4681-91b1-f61f9951710b",
   "metadata": {},
   "outputs": [
    {
     "data": {
      "text/plain": [
       "np.int64(20)"
      ]
     },
     "execution_count": 18,
     "metadata": {},
     "output_type": "execute_result"
    }
   ],
   "source": [
    "arr[3,4]"
   ]
  },
  {
   "cell_type": "code",
   "execution_count": 19,
   "id": "ae74ba3a-267d-4036-a8dd-bb82363c8d4f",
   "metadata": {},
   "outputs": [
    {
     "data": {
      "text/plain": [
       "array([[ 2],\n",
       "       [ 7],\n",
       "       [12]])"
      ]
     },
     "execution_count": 19,
     "metadata": {},
     "output_type": "execute_result"
    }
   ],
   "source": [
    "arr[0:3,1].reshape(3,1)"
   ]
  },
  {
   "cell_type": "code",
   "execution_count": 20,
   "id": "6616541a-b923-4d52-84bb-ecb117cb65c7",
   "metadata": {},
   "outputs": [
    {
     "data": {
      "text/plain": [
       "array([21, 22, 23, 24, 25])"
      ]
     },
     "execution_count": 20,
     "metadata": {},
     "output_type": "execute_result"
    }
   ],
   "source": [
    "arr[4]"
   ]
  },
  {
   "cell_type": "code",
   "execution_count": 21,
   "id": "a4e1fd2a-7946-43e4-9a7b-f6843d1e00f8",
   "metadata": {},
   "outputs": [
    {
     "data": {
      "text/plain": [
       "array([[16, 17, 18, 19, 20],\n",
       "       [21, 22, 23, 24, 25]])"
      ]
     },
     "execution_count": 21,
     "metadata": {},
     "output_type": "execute_result"
    }
   ],
   "source": [
    "arr[3:5]"
   ]
  },
  {
   "cell_type": "code",
   "execution_count": 22,
   "id": "45e24e2b-1ee0-47a7-b9a5-8b4b5d32fa70",
   "metadata": {},
   "outputs": [
    {
     "data": {
      "text/plain": [
       "np.int64(325)"
      ]
     },
     "execution_count": 22,
     "metadata": {},
     "output_type": "execute_result"
    }
   ],
   "source": [
    "np.sum(arr)"
   ]
  },
  {
   "cell_type": "code",
   "execution_count": 23,
   "id": "9bcb6c6a-a06e-4b70-b5b3-530d4f7c7be3",
   "metadata": {},
   "outputs": [
    {
     "data": {
      "text/plain": [
       "array([55, 60, 65, 70, 75])"
      ]
     },
     "execution_count": 23,
     "metadata": {},
     "output_type": "execute_result"
    }
   ],
   "source": [
    "np.sum(arr,axis=0)"
   ]
  },
  {
   "cell_type": "code",
   "execution_count": 29,
   "id": "7353ce86-00ee-41ca-abd1-5e436e4611ca",
   "metadata": {},
   "outputs": [
    {
     "data": {
      "text/plain": [
       "array([ 5, 10, 15, 20, 25])"
      ]
     },
     "execution_count": 29,
     "metadata": {},
     "output_type": "execute_result"
    }
   ],
   "source": [
    "np.max(arr,axis=1)"
   ]
  },
  {
   "cell_type": "code",
   "execution_count": 30,
   "id": "55f8425f-449b-4280-bd70-eca43807ddf8",
   "metadata": {},
   "outputs": [
    {
     "data": {
      "text/plain": [
       "array([ 1,  6, 11, 16, 21])"
      ]
     },
     "execution_count": 30,
     "metadata": {},
     "output_type": "execute_result"
    }
   ],
   "source": [
    "np.min(arr,axis=1)"
   ]
  },
  {
   "cell_type": "code",
   "execution_count": 31,
   "id": "e92ef94f-a0e0-4c19-a83a-a723d9fdecd5",
   "metadata": {},
   "outputs": [
    {
     "data": {
      "text/plain": [
       "array([1.41421356, 1.41421356, 1.41421356, 1.41421356, 1.41421356])"
      ]
     },
     "execution_count": 31,
     "metadata": {},
     "output_type": "execute_result"
    }
   ],
   "source": [
    "np.std(arr,axis=1)"
   ]
  },
  {
   "cell_type": "code",
   "execution_count": 32,
   "id": "7e185526-95f0-462b-84a2-ca930e6fdd25",
   "metadata": {},
   "outputs": [
    {
     "data": {
      "text/plain": [
       "array([2., 2., 2., 2., 2.])"
      ]
     },
     "execution_count": 32,
     "metadata": {},
     "output_type": "execute_result"
    }
   ],
   "source": [
    "np.var(arr,axis=1)"
   ]
  },
  {
   "cell_type": "code",
   "execution_count": 52,
   "id": "27389acc-1f19-45b0-8d54-8e699437e923",
   "metadata": {},
   "outputs": [],
   "source": [
    "array=np.zeros([4,4])"
   ]
  },
  {
   "cell_type": "code",
   "execution_count": 53,
   "id": "5a81442c-067b-4fb0-9758-f9da30c1d7c0",
   "metadata": {},
   "outputs": [
    {
     "data": {
      "text/plain": [
       "array([[0., 0., 0., 0.],\n",
       "       [0., 0., 0., 0.],\n",
       "       [0., 0., 0., 0.],\n",
       "       [0., 0., 0., 0.]])"
      ]
     },
     "execution_count": 53,
     "metadata": {},
     "output_type": "execute_result"
    }
   ],
   "source": [
    "array"
   ]
  },
  {
   "cell_type": "code",
   "execution_count": 56,
   "id": "a3d03f47-26ff-447a-8d1e-3c42aef3e373",
   "metadata": {},
   "outputs": [],
   "source": [
    "array[1:3,1:3]=1"
   ]
  },
  {
   "cell_type": "code",
   "execution_count": 57,
   "id": "21b31139-10d0-4e6e-90a6-e6a836921a6e",
   "metadata": {
    "scrolled": true
   },
   "outputs": [
    {
     "data": {
      "text/plain": [
       "array([[0., 0., 0., 0.],\n",
       "       [0., 1., 1., 0.],\n",
       "       [0., 1., 1., 0.],\n",
       "       [0., 0., 0., 0.]])"
      ]
     },
     "execution_count": 57,
     "metadata": {},
     "output_type": "execute_result"
    }
   ],
   "source": [
    "array"
   ]
  },
  {
   "cell_type": "markdown",
   "id": "08ffa871-75a9-484b-b02c-7908df4be0b6",
   "metadata": {},
   "source": [
    "## Numpy Ex = 2"
   ]
  },
  {
   "cell_type": "code",
   "execution_count": 63,
   "id": "87b1b6d5-377e-483a-9fe6-008113eee9cf",
   "metadata": {},
   "outputs": [],
   "source": [
    "d1=np.array([1,2,3,4,5])"
   ]
  },
  {
   "cell_type": "code",
   "execution_count": 64,
   "id": "7bb70552-fcc6-4412-a031-a7ffee032c62",
   "metadata": {},
   "outputs": [],
   "source": [
    "d2=np.array([[1, 2, 3], [4, 5, 6]])"
   ]
  },
  {
   "cell_type": "code",
   "execution_count": 65,
   "id": "2784b85e-e366-4ec8-bebe-f17b1a32b8c3",
   "metadata": {},
   "outputs": [],
   "source": [
    "d3=np.array([[[1, 2, 3], [4, 5, 6]], [[7, 8, 9], [10, 11, 12]]])"
   ]
  },
  {
   "cell_type": "code",
   "execution_count": 66,
   "id": "5bddf076-dd8e-4b31-a257-1ca83490058b",
   "metadata": {},
   "outputs": [
    {
     "data": {
      "text/plain": [
       "dtype('int64')"
      ]
     },
     "execution_count": 66,
     "metadata": {},
     "output_type": "execute_result"
    }
   ],
   "source": [
    "d1.dtype"
   ]
  },
  {
   "cell_type": "code",
   "execution_count": 67,
   "id": "2cb42a54-2d59-44a1-8b80-12c436ae5343",
   "metadata": {},
   "outputs": [
    {
     "data": {
      "text/plain": [
       "dtype('int64')"
      ]
     },
     "execution_count": 67,
     "metadata": {},
     "output_type": "execute_result"
    }
   ],
   "source": [
    "d2.dtype"
   ]
  },
  {
   "cell_type": "code",
   "execution_count": 68,
   "id": "ad31d4db-e711-4f2e-83c2-65b609803548",
   "metadata": {},
   "outputs": [
    {
     "data": {
      "text/plain": [
       "dtype('int64')"
      ]
     },
     "execution_count": 68,
     "metadata": {},
     "output_type": "execute_result"
    }
   ],
   "source": [
    "d3.dtype"
   ]
  },
  {
   "cell_type": "code",
   "execution_count": 72,
   "id": "6f20b456-6949-4399-8668-1a086b307483",
   "metadata": {},
   "outputs": [
    {
     "data": {
      "text/plain": [
       "1"
      ]
     },
     "execution_count": 72,
     "metadata": {},
     "output_type": "execute_result"
    }
   ],
   "source": [
    "np.ndim(d1)"
   ]
  },
  {
   "cell_type": "code",
   "execution_count": 73,
   "id": "bce3fbe8-64e4-4853-bdff-6f418b47f7ba",
   "metadata": {},
   "outputs": [
    {
     "data": {
      "text/plain": [
       "2"
      ]
     },
     "execution_count": 73,
     "metadata": {},
     "output_type": "execute_result"
    }
   ],
   "source": [
    "np.ndim(d2)"
   ]
  },
  {
   "cell_type": "code",
   "execution_count": 75,
   "id": "15e8a5aa-5d3b-4095-9a09-dee745ad027c",
   "metadata": {},
   "outputs": [
    {
     "data": {
      "text/plain": [
       "3"
      ]
     },
     "execution_count": 75,
     "metadata": {},
     "output_type": "execute_result"
    }
   ],
   "source": [
    "np.ndim(d3)"
   ]
  },
  {
   "cell_type": "code",
   "execution_count": 76,
   "id": "76328a90-4dc2-4263-aa7a-c60a038da20c",
   "metadata": {},
   "outputs": [],
   "source": [
    "ad1= np.zeros(12)"
   ]
  },
  {
   "cell_type": "code",
   "execution_count": 79,
   "id": "681258ee-dc8c-404c-b958-258c4b569620",
   "metadata": {},
   "outputs": [],
   "source": [
    "ad2= np.ones((2,2))"
   ]
  },
  {
   "cell_type": "code",
   "execution_count": 10,
   "id": "98d71550-c503-42c5-a86d-78ac849f5b73",
   "metadata": {},
   "outputs": [],
   "source": [
    "Math_Marks = np.random.randint(0, 101, size=20)"
   ]
  },
  {
   "cell_type": "code",
   "execution_count": 11,
   "id": "ef1e4c39-15d8-4b27-9596-911185411bea",
   "metadata": {},
   "outputs": [
    {
     "data": {
      "text/plain": [
       "array([ 14,  18,  20,  21,  32,  34,  39,  49,  50,  56,  58,  58,  66,\n",
       "        66,  69,  76,  88,  89,  96, 100], dtype=int32)"
      ]
     },
     "execution_count": 11,
     "metadata": {},
     "output_type": "execute_result"
    }
   ],
   "source": [
    "np.sort(Math_Marks)"
   ]
  },
  {
   "cell_type": "code",
   "execution_count": 13,
   "id": "684a80c0-1387-4682-ab40-856e1400e7f1",
   "metadata": {},
   "outputs": [
    {
     "data": {
      "text/plain": [
       "array([100,  96,  89,  88,  76,  69,  66,  66,  58,  58,  56,  50,  49,\n",
       "        39,  34,  32,  21,  20,  18,  14], dtype=int32)"
      ]
     },
     "execution_count": 13,
     "metadata": {},
     "output_type": "execute_result"
    }
   ],
   "source": [
    "np.sort(Math_Marks)[::-1]"
   ]
  },
  {
   "cell_type": "code",
   "execution_count": 84,
   "id": "dbd4edcb-6b31-4ffb-9342-83d3ba4a23f3",
   "metadata": {},
   "outputs": [],
   "source": [
    "Mark=np.copy(Math_Marks)"
   ]
  },
  {
   "cell_type": "code",
   "execution_count": 87,
   "id": "07a9e04f-e856-4c5b-a802-ca41bf177ff4",
   "metadata": {},
   "outputs": [],
   "source": [
    "Im=np.eye(5)"
   ]
  },
  {
   "cell_type": "code",
   "execution_count": 88,
   "id": "7c312478-3a55-44e0-88b5-13b89ecab0a8",
   "metadata": {},
   "outputs": [
    {
     "data": {
      "text/plain": [
       "array([[1., 0., 0., 0., 0.],\n",
       "       [0., 1., 0., 0., 0.],\n",
       "       [0., 0., 1., 0., 0.],\n",
       "       [0., 0., 0., 1., 0.],\n",
       "       [0., 0., 0., 0., 1.]])"
      ]
     },
     "execution_count": 88,
     "metadata": {},
     "output_type": "execute_result"
    }
   ],
   "source": [
    "Im"
   ]
  },
  {
   "cell_type": "code",
   "execution_count": 89,
   "id": "32ce49c7-a013-4033-bb26-7f541d8fb05d",
   "metadata": {},
   "outputs": [
    {
     "data": {
      "text/plain": [
       "array([1., 0., 0., 0., 0., 0., 1., 0., 0., 0., 0., 0., 1., 0., 0., 0., 0.,\n",
       "       0., 1., 0., 0., 0., 0., 0., 1.])"
      ]
     },
     "execution_count": 89,
     "metadata": {},
     "output_type": "execute_result"
    }
   ],
   "source": [
    "Im.flatten()"
   ]
  },
  {
   "cell_type": "code",
   "execution_count": 90,
   "id": "5b50485a-ecf9-453f-a492-e9a26956df6c",
   "metadata": {},
   "outputs": [],
   "source": [
    "a=np.array([[1, 2, 3], [4, 5, 6], [7, 8, 9]])"
   ]
  },
  {
   "cell_type": "code",
   "execution_count": 93,
   "id": "7efff86e-4b9d-46de-b806-27c966ca11af",
   "metadata": {},
   "outputs": [],
   "source": [
    " new=np.vstack([a, [10,11,12]])"
   ]
  },
  {
   "cell_type": "code",
   "execution_count": 94,
   "id": "0a2a9967-98d8-4cbd-b0f2-d51367a57159",
   "metadata": {},
   "outputs": [
    {
     "data": {
      "text/plain": [
       "array([[ 1,  2,  3],\n",
       "       [ 4,  5,  6],\n",
       "       [ 7,  8,  9],\n",
       "       [10, 11, 12]])"
      ]
     },
     "execution_count": 94,
     "metadata": {},
     "output_type": "execute_result"
    }
   ],
   "source": [
    "new"
   ]
  },
  {
   "cell_type": "code",
   "execution_count": 96,
   "id": "b8277595-174e-49c0-9ed6-db5040aa2fe3",
   "metadata": {},
   "outputs": [
    {
     "data": {
      "text/plain": [
       "[array([[1, 2, 3]]),\n",
       " array([[4, 5, 6]]),\n",
       " array([[7, 8, 9]]),\n",
       " array([[10, 11, 12]])]"
      ]
     },
     "execution_count": 96,
     "metadata": {},
     "output_type": "execute_result"
    }
   ],
   "source": [
    "np.vsplit(new, 4)"
   ]
  },
  {
   "cell_type": "code",
   "execution_count": 97,
   "id": "ea7424ef-d477-41e6-8733-2d20ee2de4cc",
   "metadata": {},
   "outputs": [
    {
     "data": {
      "text/plain": [
       "[array([[ 1],\n",
       "        [ 4],\n",
       "        [ 7],\n",
       "        [10]]),\n",
       " array([[ 2],\n",
       "        [ 5],\n",
       "        [ 8],\n",
       "        [11]]),\n",
       " array([[ 3],\n",
       "        [ 6],\n",
       "        [ 9],\n",
       "        [12]])]"
      ]
     },
     "execution_count": 97,
     "metadata": {},
     "output_type": "execute_result"
    }
   ],
   "source": [
    "np.hsplit(new,3)"
   ]
  },
  {
   "cell_type": "code",
   "execution_count": 99,
   "id": "222c2c03-ae98-4b7a-a492-5362d52288f3",
   "metadata": {},
   "outputs": [
    {
     "data": {
      "text/plain": [
       "array([1., 1., 1., 1.])"
      ]
     },
     "execution_count": 99,
     "metadata": {},
     "output_type": "execute_result"
    }
   ],
   "source": [
    "np.sum(np.eye(4),axis=0)"
   ]
  },
  {
   "cell_type": "code",
   "execution_count": 108,
   "id": "33f72099-7aad-4286-93c8-91260b2a28ab",
   "metadata": {},
   "outputs": [],
   "source": [
    "a=np.array([1.2, 3.6, 4.7, 5.1, 8.9])"
   ]
  },
  {
   "cell_type": "code",
   "execution_count": 109,
   "id": "cbed0c97-3979-4f29-8b26-96b05c82bce8",
   "metadata": {},
   "outputs": [
    {
     "data": {
      "text/plain": [
       "array([2., 4., 5., 6., 9.])"
      ]
     },
     "execution_count": 109,
     "metadata": {},
     "output_type": "execute_result"
    }
   ],
   "source": [
    "np.ceil(a)"
   ]
  },
  {
   "cell_type": "code",
   "execution_count": 110,
   "id": "451d33ed-2d87-4aa0-a437-76f4f9edfbb8",
   "metadata": {},
   "outputs": [
    {
     "data": {
      "text/plain": [
       "array([1., 3., 4., 5., 8.])"
      ]
     },
     "execution_count": 110,
     "metadata": {},
     "output_type": "execute_result"
    }
   ],
   "source": [
    "np.floor(a)"
   ]
  },
  {
   "cell_type": "code",
   "execution_count": 111,
   "id": "bba6e00e-5ff2-4075-a10b-433600f38bdf",
   "metadata": {},
   "outputs": [
    {
     "data": {
      "text/plain": [
       "array([1.2, 3.6, 4.7, 5.1, 8.9])"
      ]
     },
     "execution_count": 111,
     "metadata": {},
     "output_type": "execute_result"
    }
   ],
   "source": [
    "np.round(a, decimals=2)"
   ]
  },
  {
   "cell_type": "code",
   "execution_count": 19,
   "id": "178225fc-0e88-480b-adf5-85315bc13337",
   "metadata": {},
   "outputs": [
    {
     "data": {
      "text/plain": [
       "array([[ 1.,  0.,  0.,  0.,  0.],\n",
       "       [ 0., 25.,  0.,  0.,  0.],\n",
       "       [ 0.,  0.,  1.,  0.,  0.],\n",
       "       [ 0.,  0.,  0.,  1.,  0.],\n",
       "       [ 0.,  0.,  0.,  0.,  1.]])"
      ]
     },
     "execution_count": 19,
     "metadata": {},
     "output_type": "execute_result"
    }
   ],
   "source": [
    "arr[1,1]=25\n",
    "arr"
   ]
  },
  {
   "cell_type": "code",
   "execution_count": 15,
   "id": "30d74701-8d32-497a-93f8-f3dee1f45b77",
   "metadata": {},
   "outputs": [],
   "source": [
    "arr=np.eye(5)"
   ]
  },
  {
   "cell_type": "code",
   "execution_count": 17,
   "id": "5b7c59ea-fa13-48da-ad7c-dc927f79993b",
   "metadata": {},
   "outputs": [
    {
     "data": {
      "text/plain": [
       "array([0., 0., 0., 0., 0.])"
      ]
     },
     "execution_count": 17,
     "metadata": {},
     "output_type": "execute_result"
    }
   ],
   "source": [
    "np.min(arr,axis=0)"
   ]
  },
  {
   "cell_type": "code",
   "execution_count": 18,
   "id": "1bb7a9e1-96f4-4d1d-96d8-ccdaa5342da6",
   "metadata": {},
   "outputs": [
    {
     "data": {
      "text/plain": [
       "array([ 1., 25.,  1.,  1.,  1.])"
      ]
     },
     "execution_count": 18,
     "metadata": {},
     "output_type": "execute_result"
    }
   ],
   "source": [
    "np.max(arr,axis=0)"
   ]
  },
  {
   "cell_type": "code",
   "execution_count": 117,
   "id": "d376c9a2-1a9b-450c-9e3d-3df1cb83a25e",
   "metadata": {},
   "outputs": [
    {
     "data": {
      "text/plain": [
       "array([0.4, 0.4, 0.4, 0.4, 0.4])"
      ]
     },
     "execution_count": 117,
     "metadata": {},
     "output_type": "execute_result"
    }
   ],
   "source": [
    "np.std(arr,axis=0)"
   ]
  },
  {
   "cell_type": "code",
   "execution_count": 118,
   "id": "4dfe71fa-7b8c-48dc-ba7e-ced69e9c3e88",
   "metadata": {},
   "outputs": [
    {
     "data": {
      "text/plain": [
       "array([0.16, 0.16, 0.16, 0.16, 0.16])"
      ]
     },
     "execution_count": 118,
     "metadata": {},
     "output_type": "execute_result"
    }
   ],
   "source": [
    "np.var(arr,axis=0)"
   ]
  },
  {
   "cell_type": "code",
   "execution_count": 119,
   "id": "089474b9-69e9-4c61-bb14-20f0c8d19114",
   "metadata": {},
   "outputs": [],
   "source": [
    "null=np.zeros(10)"
   ]
  },
  {
   "cell_type": "code",
   "execution_count": 120,
   "id": "64142d0d-7bab-4bdf-a136-9d5fd7c58bfb",
   "metadata": {},
   "outputs": [],
   "source": [
    "null[5] = 200"
   ]
  },
  {
   "cell_type": "code",
   "execution_count": 121,
   "id": "24f8a51e-95e1-401d-b601-905d03982094",
   "metadata": {},
   "outputs": [
    {
     "data": {
      "text/plain": [
       "array([  0.,   0.,   0.,   0.,   0., 200.,   0.,   0.,   0.,   0.])"
      ]
     },
     "execution_count": 121,
     "metadata": {},
     "output_type": "execute_result"
    }
   ],
   "source": [
    "null"
   ]
  },
  {
   "cell_type": "code",
   "execution_count": 122,
   "id": "1baed4ef-e946-4f1c-aa6c-70a5cd84d27f",
   "metadata": {},
   "outputs": [],
   "source": [
    "seq=np.arange(100, 151)"
   ]
  },
  {
   "cell_type": "code",
   "execution_count": 123,
   "id": "d2afa4d4-7b9d-48ca-9c96-9937caf92d1e",
   "metadata": {},
   "outputs": [
    {
     "data": {
      "text/plain": [
       "array([100, 101, 102, 103, 104, 105, 106, 107, 108, 109, 110, 111, 112,\n",
       "       113, 114, 115, 116, 117, 118, 119, 120, 121, 122, 123, 124, 125,\n",
       "       126, 127, 128, 129, 130, 131, 132, 133, 134, 135, 136, 137, 138,\n",
       "       139, 140, 141, 142, 143, 144, 145, 146, 147, 148, 149, 150])"
      ]
     },
     "execution_count": 123,
     "metadata": {},
     "output_type": "execute_result"
    }
   ],
   "source": [
    "seq"
   ]
  },
  {
   "cell_type": "code",
   "execution_count": 124,
   "id": "4346fc04-ff3e-4df9-b2e8-2be0c7f2aec4",
   "metadata": {},
   "outputs": [
    {
     "data": {
      "text/plain": [
       "array([150, 149, 148, 147, 146, 145, 144, 143, 142, 141, 140, 139, 138,\n",
       "       137, 136, 135, 134, 133, 132, 131, 130, 129, 128, 127, 126, 125,\n",
       "       124, 123, 122, 121, 120, 119, 118, 117, 116, 115, 114, 113, 112,\n",
       "       111, 110, 109, 108, 107, 106, 105, 104, 103, 102, 101, 100])"
      ]
     },
     "execution_count": 124,
     "metadata": {},
     "output_type": "execute_result"
    }
   ],
   "source": [
    "seq[::-1]"
   ]
  },
  {
   "cell_type": "code",
   "execution_count": 126,
   "id": "7a7b1d06-4d41-4813-a397-25c3e1c09a5c",
   "metadata": {},
   "outputs": [
    {
     "data": {
      "text/plain": [
       "array([[ 0,  1,  2,  3,  4],\n",
       "       [ 5,  6,  7,  8,  9],\n",
       "       [10, 11, 12, 13, 14],\n",
       "       [15, 16, 17, 18, 19],\n",
       "       [20, 21, 22, 23, 24]])"
      ]
     },
     "execution_count": 126,
     "metadata": {},
     "output_type": "execute_result"
    }
   ],
   "source": [
    "np.array(range(0,25)).reshape(5,5)"
   ]
  },
  {
   "cell_type": "code",
   "execution_count": 22,
   "id": "a83affb1-4bd6-4420-99b3-7e378142e684",
   "metadata": {},
   "outputs": [],
   "source": [
    "array = np.array([1, 0, 2, 0, 0, 4, 0, 8])"
   ]
  },
  {
   "cell_type": "code",
   "execution_count": 27,
   "id": "acc21ed3-ec9d-42f8-b50b-64f58090a84f",
   "metadata": {},
   "outputs": [
    {
     "data": {
      "text/plain": [
       "array([1, 2, 4, 8])"
      ]
     },
     "execution_count": 27,
     "metadata": {},
     "output_type": "execute_result"
    }
   ],
   "source": [
    "array[np.nonzero(array)]"
   ]
  },
  {
   "cell_type": "code",
   "execution_count": 135,
   "id": "8382f486-79a7-4793-bd6a-f31e91a5f421",
   "metadata": {},
   "outputs": [],
   "source": [
    "m=np.ones((10, 10))"
   ]
  },
  {
   "cell_type": "code",
   "execution_count": 136,
   "id": "b2bff6be-2eff-43f1-9484-cbf2c1f86e68",
   "metadata": {},
   "outputs": [
    {
     "data": {
      "text/plain": [
       "array([[1., 1., 1., 1., 1., 1., 1., 1., 1., 1.],\n",
       "       [1., 1., 1., 1., 1., 1., 1., 1., 1., 1.],\n",
       "       [1., 1., 1., 1., 1., 1., 1., 1., 1., 1.],\n",
       "       [1., 1., 1., 1., 1., 1., 1., 1., 1., 1.],\n",
       "       [1., 1., 1., 1., 1., 1., 1., 1., 1., 1.],\n",
       "       [1., 1., 1., 1., 1., 1., 1., 1., 1., 1.],\n",
       "       [1., 1., 1., 1., 1., 1., 1., 1., 1., 1.],\n",
       "       [1., 1., 1., 1., 1., 1., 1., 1., 1., 1.],\n",
       "       [1., 1., 1., 1., 1., 1., 1., 1., 1., 1.],\n",
       "       [1., 1., 1., 1., 1., 1., 1., 1., 1., 1.]])"
      ]
     },
     "execution_count": 136,
     "metadata": {},
     "output_type": "execute_result"
    }
   ],
   "source": [
    "m"
   ]
  },
  {
   "cell_type": "code",
   "execution_count": 137,
   "id": "fbf5620b-17cc-43b9-8324-4af1c1f26500",
   "metadata": {},
   "outputs": [],
   "source": [
    "m[1:9,1:19]=0"
   ]
  },
  {
   "cell_type": "code",
   "execution_count": 138,
   "id": "fa68a76f-d280-4270-9f1b-b3316b7bdfc2",
   "metadata": {},
   "outputs": [
    {
     "data": {
      "text/plain": [
       "array([[1., 1., 1., 1., 1., 1., 1., 1., 1., 1.],\n",
       "       [1., 0., 0., 0., 0., 0., 0., 0., 0., 0.],\n",
       "       [1., 0., 0., 0., 0., 0., 0., 0., 0., 0.],\n",
       "       [1., 0., 0., 0., 0., 0., 0., 0., 0., 0.],\n",
       "       [1., 0., 0., 0., 0., 0., 0., 0., 0., 0.],\n",
       "       [1., 0., 0., 0., 0., 0., 0., 0., 0., 0.],\n",
       "       [1., 0., 0., 0., 0., 0., 0., 0., 0., 0.],\n",
       "       [1., 0., 0., 0., 0., 0., 0., 0., 0., 0.],\n",
       "       [1., 0., 0., 0., 0., 0., 0., 0., 0., 0.],\n",
       "       [1., 1., 1., 1., 1., 1., 1., 1., 1., 1.]])"
      ]
     },
     "execution_count": 138,
     "metadata": {},
     "output_type": "execute_result"
    }
   ],
   "source": [
    "m"
   ]
  },
  {
   "cell_type": "code",
   "execution_count": 8,
   "id": "3641be72-37d4-414b-bb27-517675b12154",
   "metadata": {},
   "outputs": [],
   "source": [
    "checkerboard = np.zeros((8, 8), dtype=int)"
   ]
  },
  {
   "cell_type": "code",
   "execution_count": 9,
   "id": "72dc4740-4e4c-4af3-8bfb-e5f761830bac",
   "metadata": {},
   "outputs": [],
   "source": [
    "checkerboard[1::2, ::2] = 1  \n",
    "checkerboard[::2, 1::2] = 1"
   ]
  },
  {
   "cell_type": "code",
   "execution_count": 10,
   "id": "0e0f34ca-bea2-4e26-b1b9-fa8d08a4b119",
   "metadata": {},
   "outputs": [
    {
     "data": {
      "text/plain": [
       "array([[0, 1, 0, 1, 0, 1, 0, 1],\n",
       "       [1, 0, 1, 0, 1, 0, 1, 0],\n",
       "       [0, 1, 0, 1, 0, 1, 0, 1],\n",
       "       [1, 0, 1, 0, 1, 0, 1, 0],\n",
       "       [0, 1, 0, 1, 0, 1, 0, 1],\n",
       "       [1, 0, 1, 0, 1, 0, 1, 0],\n",
       "       [0, 1, 0, 1, 0, 1, 0, 1],\n",
       "       [1, 0, 1, 0, 1, 0, 1, 0]])"
      ]
     },
     "execution_count": 10,
     "metadata": {},
     "output_type": "execute_result"
    }
   ],
   "source": [
    "checkerboard\n"
   ]
  },
  {
   "cell_type": "code",
   "execution_count": 150,
   "id": "eb149dad-8ad2-4b87-adef-d88f7abc1db0",
   "metadata": {},
   "outputs": [],
   "source": [
    "m1=np.array(range(0,9)).reshape(3,3)"
   ]
  },
  {
   "cell_type": "code",
   "execution_count": 3,
   "id": "51566e2c-985f-4372-8e75-386c95111e53",
   "metadata": {},
   "outputs": [],
   "source": [
    "matrix1 = np.random.randint(0, 10, size=(3, 3))\n",
    "matrix2 = np.random.randint(0, 10, size=(3, 3))"
   ]
  },
  {
   "cell_type": "code",
   "execution_count": 4,
   "id": "59eed15c-d4da-489d-9d6c-23c4757fa41d",
   "metadata": {},
   "outputs": [
    {
     "data": {
      "text/plain": [
       "array([[10, 15,  7],\n",
       "       [16,  7,  7],\n",
       "       [ 9, 11,  2]], dtype=int32)"
      ]
     },
     "execution_count": 4,
     "metadata": {},
     "output_type": "execute_result"
    }
   ],
   "source": [
    "matrix1 + matrix2"
   ]
  },
  {
   "cell_type": "code",
   "execution_count": 154,
   "id": "d95683e3-fae2-4aa1-847d-9a22a239d118",
   "metadata": {},
   "outputs": [
    {
     "data": {
      "text/plain": [
       "array([[ 6, -3, -1],\n",
       "       [ 0, -6,  5],\n",
       "       [-1, -9,  2]], dtype=int32)"
      ]
     },
     "execution_count": 154,
     "metadata": {},
     "output_type": "execute_result"
    }
   ],
   "source": [
    "matrix1 - matrix2"
   ]
  },
  {
   "cell_type": "code",
   "execution_count": 5,
   "id": "9c4dfa93-1978-4357-9a6d-d209a506b7eb",
   "metadata": {},
   "outputs": [
    {
     "data": {
      "text/plain": [
       "array([[21, 54, 12],\n",
       "       [63,  6, 10],\n",
       "       [18, 28,  1]], dtype=int32)"
      ]
     },
     "execution_count": 5,
     "metadata": {},
     "output_type": "execute_result"
    }
   ],
   "source": [
    "np.multiply(matrix1 , matrix2)"
   ]
  },
  {
   "cell_type": "code",
   "execution_count": 6,
   "id": "d327217d-819f-4325-b063-77224896bfc9",
   "metadata": {},
   "outputs": [
    {
     "data": {
      "text/plain": [
       "array([[ 84, 111,  61],\n",
       "       [ 36,  77,  35],\n",
       "       [ 84, 100,  60]], dtype=int32)"
      ]
     },
     "execution_count": 6,
     "metadata": {},
     "output_type": "execute_result"
    }
   ],
   "source": [
    "np.matmul(matrix1,matrix2)"
   ]
  },
  {
   "cell_type": "code",
   "execution_count": 7,
   "id": "c3f11175-5b70-4436-84d4-568b92010944",
   "metadata": {},
   "outputs": [
    {
     "data": {
      "text/plain": [
       "array([[21, 54, 12],\n",
       "       [63,  6, 10],\n",
       "       [18, 28,  1]], dtype=int32)"
      ]
     },
     "execution_count": 7,
     "metadata": {},
     "output_type": "execute_result"
    }
   ],
   "source": [
    "matrix1*matrix2"
   ]
  },
  {
   "cell_type": "code",
   "execution_count": 11,
   "id": "b25a9998-c092-4263-9c4b-f50acc0039ae",
   "metadata": {},
   "outputs": [],
   "source": [
    "#--------------------------------------------------------"
   ]
  },
  {
   "cell_type": "code",
   "execution_count": null,
   "id": "2db98db8-d138-41e9-afb9-29737d9bf200",
   "metadata": {},
   "outputs": [],
   "source": [
    "#1) ciel floot round\n"
   ]
  },
  {
   "cell_type": "code",
   "execution_count": 13,
   "id": "eb3fe272-6ee8-497e-91d4-b67bc5289197",
   "metadata": {},
   "outputs": [
    {
     "data": {
      "text/plain": [
       "array([0.46025312, 0.47662354, 0.74267244, 0.31173693, 0.48070818,\n",
       "       0.88311287, 0.93729269, 0.29421498, 0.37072908, 0.44176606])"
      ]
     },
     "execution_count": 13,
     "metadata": {},
     "output_type": "execute_result"
    }
   ],
   "source": [
    "ar1=np.random.rand(10)\n",
    "ar1"
   ]
  },
  {
   "cell_type": "code",
   "execution_count": 34,
   "id": "d42bba73-ea04-4fd2-981f-a4c7b26c1e6e",
   "metadata": {},
   "outputs": [
    {
     "data": {
      "text/plain": [
       "array([ 1.16875267e+00, -4.53002442e-01,  2.71059112e+00,  1.90660689e-01,\n",
       "       -9.04571213e-03, -1.32364526e+00, -1.32551835e+00, -7.99558567e-01,\n",
       "       -3.02493980e-01, -9.74929910e-01,  1.59010254e+00, -5.53541858e-02,\n",
       "        1.10830386e+00, -7.80877557e-01, -1.09063183e+00,  5.27187890e-02,\n",
       "        6.53554043e-01, -4.12443960e-01, -2.68114092e+00, -8.75591250e-01,\n",
       "       -5.90215160e-01,  7.98093162e-01,  6.74153448e-01, -2.42418966e-01,\n",
       "       -5.46652197e-01, -1.03324346e+00,  2.18021324e-01,  8.04011213e-01,\n",
       "        3.08619824e-01, -4.63005859e-02, -1.55434729e-01, -4.01979647e-01,\n",
       "        6.88164570e-01, -5.15912397e-01, -6.03654625e-01, -8.68206356e-01,\n",
       "       -5.31230821e-01,  1.94376320e-01,  3.03307691e-01, -7.55891579e-01,\n",
       "        3.66914883e-01, -3.24375884e-01,  1.43981128e+00,  1.11956065e+00,\n",
       "        7.85040552e-01,  4.24665567e-01, -1.02789377e+00,  1.07164926e+00,\n",
       "       -5.85161609e-01, -9.74256530e-01,  1.26217782e+00,  9.21356327e-01,\n",
       "        1.25005353e-01,  6.66703193e-01, -1.27539699e+00,  5.83340455e-02,\n",
       "       -1.27885098e+00,  1.32064957e+00, -1.51854574e-01, -8.11788037e-01,\n",
       "        1.65601873e+00,  2.60503945e+00, -5.83492235e-01,  3.01284502e-01,\n",
       "       -1.66559074e+00,  7.65661401e-01, -1.45170192e+00, -5.21894573e-01,\n",
       "        8.04568756e-01,  1.12860932e+00,  1.27495258e-01, -1.81615032e+00,\n",
       "       -6.49782354e-01,  8.43623024e-01,  1.56504857e-01,  1.12387669e+00,\n",
       "        1.35262134e-01,  1.46563388e+00,  4.92476810e-01, -8.79577778e-01,\n",
       "        7.70354563e-01,  1.31521446e-01,  5.18743600e-01,  8.47749982e-01,\n",
       "       -2.89248182e-01,  1.74236510e+00, -3.73719585e-01,  1.34735799e+00,\n",
       "        8.83894840e-03, -1.28827439e-01,  3.39517306e-01, -1.56576684e+00,\n",
       "        4.59653874e-02,  2.05570786e+00,  1.13531393e-01,  1.80087481e+00,\n",
       "       -2.93977732e-01,  7.76706761e-01, -3.84385678e-01,  1.59506690e+00,\n",
       "        8.35719427e-01, -7.22435795e-01,  1.36762494e+00,  7.03876150e-01,\n",
       "       -8.09157892e-01,  3.31779300e-01,  7.16473214e-01, -8.72072328e-01,\n",
       "       -5.45400304e-01, -2.01832953e-01,  6.02449198e-01, -3.54071261e-01,\n",
       "       -1.05097746e+00,  3.34397678e-01,  7.78811536e-01,  5.51176245e-01,\n",
       "        7.66896290e-01, -1.53707601e+00,  1.55270857e+00,  5.12918472e-01,\n",
       "        2.59522252e-01,  1.63583968e+00,  5.74273825e-01,  2.59398745e-01,\n",
       "        1.15539054e+00, -1.67879929e+00, -1.67512771e-02,  7.34357641e-01,\n",
       "       -6.60841001e-01,  1.18559160e+00, -1.76646249e+00, -4.74738385e-01,\n",
       "        1.51970180e-01, -2.11522872e+00, -2.82315772e-01, -4.58341189e-02,\n",
       "       -7.48841901e-01,  5.89366438e-01,  2.57944198e-01,  1.34003276e+00,\n",
       "       -7.14713427e-01, -1.19248553e-01,  4.36099781e-01, -2.78306559e-01,\n",
       "        1.38043147e+00,  4.85140870e-01, -6.40521028e-01, -3.69943976e-01,\n",
       "        8.14244943e-01, -9.87079862e-01,  1.26418599e+00, -7.91057013e-01,\n",
       "       -7.61163011e-02,  3.49870294e-02, -9.00962164e-01, -2.68326251e-01,\n",
       "       -4.85232993e-01,  1.25939904e-01,  1.02870201e-02,  8.07359929e-02,\n",
       "       -1.47519147e-01, -1.88891236e-02,  9.62067006e-01,  2.40742661e-01,\n",
       "       -7.03240360e-01,  6.73571263e-01, -8.21186944e-01, -3.92264509e-01,\n",
       "       -1.82001429e+00, -1.52954674e+00,  3.30206534e-01, -1.84403172e-01,\n",
       "        3.68586705e-01, -1.15322715e+00,  8.06604213e-01, -4.42279265e-01,\n",
       "       -2.15913704e+00,  1.43877883e-02, -5.62679290e-02, -7.29517442e-01,\n",
       "       -2.97479255e-01,  4.81547903e-02,  2.06466558e-01,  8.08700785e-01,\n",
       "        1.23462312e+00, -1.30787918e+00, -5.81738968e-01, -3.37328800e-01,\n",
       "       -1.32993135e+00,  1.49350392e+00, -2.51064115e+00, -4.90803759e-01,\n",
       "       -2.75047686e-01, -9.06541640e-01, -6.98199504e-01, -1.03174114e+00,\n",
       "       -1.05580430e+00,  7.61168593e-01,  3.60435416e-03, -3.81399733e-01,\n",
       "       -1.44160381e+00,  2.75880467e-01, -8.65704942e-01, -1.71227050e+00,\n",
       "        5.31560797e-01, -2.45767040e-01,  3.21925415e-02, -3.44173168e-01,\n",
       "       -6.93732993e-01,  7.88022073e-01, -9.96477263e-03, -1.35159031e+00,\n",
       "       -2.66377486e-02, -2.46280267e+00, -3.67466787e-01, -9.20765586e-01,\n",
       "       -5.15760635e-01,  7.89306715e-01,  8.85953616e-01, -7.28029062e-02,\n",
       "       -1.86364709e-01,  1.05161319e+00,  9.78330279e-02, -4.33370407e-01,\n",
       "        9.02740945e-01,  1.68938119e+00, -6.78343033e-01,  1.26670025e-01,\n",
       "       -5.41805608e-01, -1.73441930e+00, -6.09529868e-01, -5.80293074e-01,\n",
       "       -1.90456285e+00, -6.71689314e-01,  1.03240795e-01,  1.10331370e+00,\n",
       "       -4.78004968e-01, -1.12813218e+00, -1.29053474e+00, -1.51838084e-01,\n",
       "        1.45373364e+00, -4.95948628e-01, -1.72469075e+00, -1.62697593e+00,\n",
       "        2.52993372e-01, -1.69661615e+00, -8.06118638e-01, -2.14320924e-01,\n",
       "       -5.03266033e-01, -5.08545043e-01,  8.77561603e-02,  1.96278679e-01,\n",
       "       -1.42005527e+00, -6.30182967e-01,  3.50830343e-01,  2.54098581e-01,\n",
       "        6.57923368e-01, -3.11578828e+00, -3.46253876e-01,  1.20678022e+00,\n",
       "        3.01093873e-01, -2.91346936e-01,  4.39951045e-01,  5.36713768e-01,\n",
       "        2.15216352e+00,  4.87482369e-01,  8.72448455e-01, -2.06415859e-01,\n",
       "       -1.11036155e+00,  1.17669508e+00,  9.88552584e-01,  3.15176150e-01,\n",
       "       -3.33527409e-01, -2.48212926e-01,  7.21451986e-01, -1.45505265e+00,\n",
       "       -1.33368776e-02, -1.66999765e-01,  4.62707740e-01,  2.62883760e+00,\n",
       "        2.69664280e-01, -1.10644327e+00,  1.22838962e+00, -1.14166921e+00,\n",
       "       -2.30217811e+00,  6.19957387e-01, -8.53725986e-01,  1.78243461e+00,\n",
       "        8.45028365e-01,  1.64015194e+00,  1.35966563e+00, -1.19120034e+00,\n",
       "        1.02672371e+00, -3.00348916e-01,  1.12915945e+00,  7.50848715e-01,\n",
       "        5.05989454e-01,  6.06154667e-01,  5.78552253e-01,  3.84156081e-01,\n",
       "        8.78218262e-01,  9.48670899e-01, -3.35836557e-01,  1.27304490e+00,\n",
       "        1.16172826e+00, -1.41413932e+00, -4.85145194e-01,  7.95361503e-01,\n",
       "        3.25823885e-02, -5.91308861e-02,  5.68558188e-01,  7.49897337e-01,\n",
       "        5.22580484e-01,  4.08197390e-01, -2.62477213e+00,  3.95235648e-02,\n",
       "        2.21675840e-01, -6.81363226e-02,  1.68159844e+00,  6.42622188e-01,\n",
       "       -4.92778322e-01,  1.86385532e-01,  4.16386309e-01,  4.99981071e-01,\n",
       "        1.90864855e-01,  1.60820991e+00, -2.05267528e+00, -9.67610733e-01,\n",
       "        4.45814842e-01,  1.54486698e+00, -1.06525331e+00,  2.85764025e-01,\n",
       "        5.96875308e-02, -1.51902459e+00,  7.31896450e-01,  1.93758146e-01,\n",
       "       -3.45687120e-02,  6.68936925e-01,  9.34957239e-01,  2.02360486e+00,\n",
       "        8.67071976e-01, -9.03183288e-02, -3.38919028e-02, -3.42585856e-01,\n",
       "       -2.00206483e+00,  1.34364051e-01, -1.03702737e+00, -1.56531057e+00,\n",
       "       -6.87099728e-02,  1.63084327e+00,  1.29149471e+00,  5.47909650e-01,\n",
       "        8.81596127e-01, -3.49113160e-01,  6.73657555e-01, -1.70636331e+00,\n",
       "        4.81719896e-01, -7.10485830e-01,  1.06926656e+00,  2.28168624e+00,\n",
       "       -9.77814891e-01,  2.48164313e-01, -2.20693718e-01,  1.08117729e+00,\n",
       "        2.61906836e-01, -2.60705058e-01, -1.03195707e+00,  2.65756461e+00,\n",
       "       -2.38234064e-01, -9.04962212e-01, -1.17329787e-01,  1.64250769e+00,\n",
       "        9.69433977e-01, -1.36544937e+00,  1.03194540e+00, -8.54915800e-01,\n",
       "       -1.47533490e-01,  1.97982203e-02,  8.42261520e-01, -6.05543124e-01,\n",
       "       -1.05260075e+00, -4.24996015e-01,  5.71295430e-01,  1.73671193e+00,\n",
       "       -4.93158417e-01,  1.20119735e+00,  2.17699715e+00, -9.84500466e-01,\n",
       "       -2.08510877e-01, -2.06645210e+00,  1.58280757e+00,  2.18314189e+00,\n",
       "        5.62138208e-01, -1.18815241e+00,  4.95034885e-01,  1.01136450e+00,\n",
       "       -6.54981458e-01, -1.60016418e+00,  9.98337927e-01,  1.56141152e+00,\n",
       "        1.11975784e-01, -3.61765798e-01,  1.17037480e+00, -4.99144593e-01,\n",
       "        3.12074962e-01, -5.69195141e-01,  5.38767973e-01, -1.32486237e+00,\n",
       "       -2.12953818e-01, -4.50590088e-01, -2.05080613e+00,  1.06350714e+00,\n",
       "        3.67490876e-01, -2.43780322e-01, -4.42540560e-01, -5.63633248e-01,\n",
       "       -7.02856388e-01,  1.08979735e+00, -1.30657441e+00, -8.98463516e-01,\n",
       "       -7.97386817e-01,  1.45648209e-01,  1.43851676e+00,  2.55485152e-01,\n",
       "       -8.14145719e-01,  8.77627289e-01,  1.29081042e+00, -4.21140432e-01,\n",
       "        6.08548290e-01, -2.74007633e-01, -2.96923361e-01, -1.33939041e+00,\n",
       "       -1.53454402e+00,  1.52558637e+00,  8.59342039e-01, -5.70321909e-02,\n",
       "       -5.94839372e-01,  1.79135187e+00,  7.57091383e-02, -3.70222903e-01,\n",
       "        1.66905653e-01,  1.70455483e-01, -7.99061693e-01, -4.25316946e-01,\n",
       "       -1.10445979e+00, -1.25186787e+00,  1.78977140e+00,  1.84830012e-01,\n",
       "        3.96681105e-01,  2.80197880e-01,  2.37514652e+00,  9.35841431e-01,\n",
       "        1.03691988e+00, -3.38182378e-01, -3.81607458e-01, -6.19698833e-01,\n",
       "        9.46217460e-01,  1.86345717e-01, -5.62107610e-01,  3.43046359e-01,\n",
       "        4.52059335e-01,  2.35430134e-01,  5.37918590e-01,  6.14788868e-01,\n",
       "        1.24752683e+00,  9.36395216e-01,  5.89081837e-02, -1.24969520e-01,\n",
       "       -1.56568478e+00, -4.43866173e-01,  3.12308823e-01, -5.07951294e-01,\n",
       "        6.21303011e-01,  6.58199980e-01, -5.61316003e-01,  1.32799701e-01,\n",
       "       -1.73556625e+00, -1.72391283e+00, -6.26759860e-01, -7.35247522e-01,\n",
       "        1.98516958e+00, -7.35575145e-01, -3.86282396e-01,  4.70898240e-01,\n",
       "       -4.03959938e-01, -1.47504110e-01, -7.47501611e-01, -2.71310096e-03,\n",
       "        6.09658753e-02, -1.27108654e+00, -2.18566453e+00,  1.81029154e-01,\n",
       "        6.06414008e-01,  8.24282415e-02,  1.47179326e+00, -1.25398393e+00,\n",
       "       -6.17723019e-01, -6.73792988e-01,  5.47706209e-01, -6.19734894e-01,\n",
       "       -9.88754514e-01, -6.12405038e-01, -7.49542344e-01,  2.79027703e+00,\n",
       "        1.13619197e+00,  4.48061789e-01,  1.54117353e+00, -1.08030066e-02,\n",
       "       -3.33306317e-01,  1.60506707e+00, -4.60071926e-01, -5.04355731e-01,\n",
       "       -2.48227485e+00,  1.58019568e+00,  7.58964052e-01,  3.69876251e-01,\n",
       "       -1.56186387e+00, -1.75176640e+00, -5.28652602e-01,  5.38644105e-01,\n",
       "       -2.42201234e-01,  1.39239507e-01, -7.05806852e-01,  9.75803455e-01,\n",
       "        4.75244410e-02, -3.69986669e-01,  2.24756122e+00, -1.11957436e+00,\n",
       "       -1.14964911e+00, -1.05566463e+00, -9.15684198e-01,  9.96552828e-01,\n",
       "       -1.85510400e-01, -6.29897569e-01, -1.15309549e+00, -5.21648736e-01,\n",
       "       -9.30790773e-01, -4.04035713e-01, -9.26483966e-01, -8.67851231e-01,\n",
       "       -8.92209455e-02, -3.37145410e-01,  1.66977840e+00, -3.51646550e-01,\n",
       "        2.36099861e+00,  7.30240820e-01, -2.37182009e-01, -6.47151909e-02,\n",
       "       -1.96315506e+00, -3.29524684e-01,  7.32858176e-01, -1.06454998e-01,\n",
       "       -1.41070139e+00,  2.46784576e+00, -1.00682453e+00,  5.75104069e-01,\n",
       "        8.55515015e-01, -4.68416404e-01,  4.86183862e-01, -3.06136503e-01,\n",
       "       -3.15000459e-01,  1.53320548e+00,  2.86738147e+00,  2.17205075e-01,\n",
       "        3.33353079e-01,  3.81542061e-01, -1.11519701e+00,  8.31596947e-02,\n",
       "       -1.63294414e+00, -1.97658830e+00,  5.45143296e-01, -1.21367107e+00,\n",
       "       -1.59504028e+00,  4.89516752e-01, -5.44769345e-01, -8.39849093e-01,\n",
       "       -3.12728720e-01, -4.83492697e-01,  7.03629680e-01,  5.33962784e-01,\n",
       "        9.80956292e-01, -1.07802826e+00,  5.81410512e-01, -1.93828832e+00,\n",
       "        1.62529401e+00,  3.15508794e-01, -6.81560054e-01, -2.27246194e-01,\n",
       "       -1.11322450e-01, -1.87184483e+00,  2.14160868e+00,  1.23567021e+00,\n",
       "        5.90371357e-01, -1.83224267e-02, -1.02483320e+00, -4.73670147e-01,\n",
       "        1.80638885e+00,  1.70838835e+00,  7.42821602e-01,  7.20248945e-01,\n",
       "       -1.11973559e+00,  1.45759272e+00,  9.34079331e-02,  6.36993837e-01,\n",
       "        3.67582169e-01,  5.21438087e-01,  7.68184642e-01, -5.70230314e-01,\n",
       "       -1.91077555e+00,  9.32419166e-02,  1.95464179e-01, -4.75692403e-02,\n",
       "       -1.08336466e+00,  5.37077426e-01, -1.31411618e+00,  9.43325536e-01,\n",
       "       -6.17338591e-02,  2.20344056e+00, -1.66148580e+00,  1.14414605e+00,\n",
       "        5.70412262e-01,  3.09656448e+00,  1.54205534e+00, -7.76355458e-01,\n",
       "       -1.24615492e+00, -1.55826067e+00, -1.56878445e+00,  5.33945042e-01,\n",
       "        1.30296744e+00, -2.81899656e-01,  7.18878568e-01, -2.01070188e+00,\n",
       "       -2.65336029e-01, -3.47202978e-01, -1.11319224e+00, -1.04212385e+00,\n",
       "        1.26296408e-01,  9.62398222e-01, -4.72231681e-01, -3.12735933e-01,\n",
       "       -5.82443924e-01,  2.03639705e+00,  6.24229023e-01,  9.96836451e-01,\n",
       "       -3.98137823e-01,  1.12991907e+00, -1.06979407e+00,  3.34789808e-01,\n",
       "        8.82314130e-01,  9.03539378e-01, -8.68295165e-01,  1.67475904e-01,\n",
       "        1.56509925e+00, -1.82485360e+00, -1.90349767e-01, -3.34887572e-02,\n",
       "        9.58957604e-01, -3.67279266e+00, -8.75964157e-01,  1.28482981e-01,\n",
       "        7.78024975e-01,  2.77858877e-01, -9.51693896e-02, -1.71469447e+00,\n",
       "       -1.79569751e+00, -2.13400355e+00, -6.33010310e-01,  1.11629265e+00,\n",
       "       -1.27626651e-01, -7.34735152e-01,  1.21311063e-01,  3.71148831e-01,\n",
       "        1.38233677e+00, -6.40756647e-01,  7.32892280e-02, -8.15241466e-01,\n",
       "        3.81863415e-01,  2.25605080e-01, -1.24262265e+00, -1.04533610e-01,\n",
       "       -2.47888950e+00, -8.43035484e-01,  7.81128574e-02, -1.22495117e-01,\n",
       "        8.51062526e-01, -1.35274141e+00,  1.85502894e-01,  4.40176487e-01,\n",
       "        2.42179045e-01, -4.88065828e-01,  8.31323168e-01, -5.75212789e-01,\n",
       "        2.24240405e+00,  1.65855274e-01,  5.68630113e-01,  5.55025703e-01,\n",
       "       -5.09616383e-01, -4.17741557e-01,  1.07936939e-02,  1.96132842e-01,\n",
       "        1.30786307e+00, -1.47581419e-01,  1.43157230e+00,  2.82513838e-02,\n",
       "       -1.97019449e-01,  1.11607408e-03, -8.58045478e-01,  1.82625535e+00,\n",
       "        7.10542276e-01, -1.82819306e-01, -2.58806220e-01,  7.49276508e-01,\n",
       "        8.70848296e-02, -1.22804674e+00, -1.30181839e-01,  2.74958162e-01,\n",
       "        4.87813605e-01,  1.12672201e+00,  3.51259582e-01,  5.10774136e-01,\n",
       "        2.36144917e-01,  1.19682822e+00,  1.65688905e+00, -9.45480325e-01,\n",
       "       -1.82305442e+00,  9.19299534e-01,  3.71504109e-01,  3.98185302e-01,\n",
       "        3.02893429e-01,  9.66998976e-01, -2.83467940e-01,  6.89796746e-02,\n",
       "        1.98801335e+00, -1.48732821e+00, -3.59044930e-01,  1.00354913e-01,\n",
       "       -7.65401893e-02,  1.10103797e-01,  1.24668029e+00, -9.16576628e-01,\n",
       "       -8.72651772e-01,  1.13989733e-01,  8.66911547e-01,  1.46989062e+00,\n",
       "        1.84841211e+00,  2.37161265e-01, -9.75765019e-01, -1.87828502e+00,\n",
       "       -1.45411296e+00,  1.04050426e+00, -1.35906437e+00,  9.55203093e-01,\n",
       "        7.56720952e-01, -3.26762236e-01, -8.45833278e-01, -1.84361802e-01,\n",
       "       -1.46240922e+00, -6.79840250e-01,  3.54614944e-01, -2.85103253e-01,\n",
       "        2.62994755e+00,  1.10785583e+00, -1.71358292e-01, -3.76892121e-02,\n",
       "       -7.86822394e-01, -9.19955013e-01, -2.16656501e-01,  4.67023743e-02,\n",
       "        1.36111184e+00, -5.00946837e-01, -7.83734338e-01, -1.49208044e+00,\n",
       "       -7.59052707e-02, -3.56497704e-01,  3.70650928e-01,  9.88269969e-01,\n",
       "       -2.91297371e+00, -5.32216262e-01, -1.67377611e+00,  3.07162771e-01,\n",
       "       -7.54173071e-01,  1.03107560e+00,  1.50933105e-01, -1.36407121e+00,\n",
       "        2.44582881e+00,  1.81227534e+00, -5.80420660e-01, -2.17683937e+00,\n",
       "       -4.53207398e-01, -2.43780010e-01,  1.35443615e-01,  1.65187719e+00,\n",
       "        6.33670774e-01, -9.14090382e-02, -1.25103339e+00,  3.34439008e-01,\n",
       "        3.45333187e-01, -7.32316024e-01,  5.50914665e-01, -8.86349382e-02,\n",
       "       -1.47124200e+00,  1.77756911e+00,  4.78147107e-01, -9.58319088e-01,\n",
       "       -6.59162183e-01, -1.25869403e+00,  3.71781794e-01, -1.62109638e+00,\n",
       "        6.79234050e-01, -2.53644466e+00,  1.38520835e+00,  1.07938053e-01,\n",
       "        5.00992777e-01, -1.65647338e+00, -2.17103924e+00,  9.78212681e-01,\n",
       "       -8.83275840e-01, -4.49806474e-01, -7.88425063e-01,  2.33811235e-01,\n",
       "        4.04320862e-01,  5.09849551e-01,  4.81916705e-01,  1.18728598e+00,\n",
       "       -8.08000986e-01, -7.51487634e-01, -2.29858327e-01, -4.93848650e-01,\n",
       "        7.30230077e-01, -3.29963999e-01, -8.37992294e-01, -1.29322904e+00,\n",
       "        1.17962269e+00,  3.11956468e-01,  1.02930958e+00, -8.03678541e-01,\n",
       "       -8.14408874e-01,  5.44831108e-01,  6.54062130e-01, -1.75081117e+00,\n",
       "        2.12115891e+00, -6.22308684e-01, -7.97202964e-01,  4.34881541e-02,\n",
       "       -9.47969979e-02, -7.21194602e-01, -1.44138215e+00, -2.63677956e-01,\n",
       "       -1.22527014e+00,  1.02766398e-01,  7.31117699e-02, -1.79456826e+00,\n",
       "       -1.20927064e+00,  3.30326344e-01,  1.61049723e+00, -2.27034531e-01,\n",
       "       -1.43127013e-01, -1.24677925e+00,  1.02865633e+00, -1.11836469e+00,\n",
       "        1.34260194e+00,  2.06287127e+00, -9.69448340e-01,  9.02252131e-01,\n",
       "        1.92935607e-01, -3.99821128e-01,  2.15010130e+00,  6.85506982e-01,\n",
       "        2.16202619e+00,  4.11405900e-01, -3.32289185e-01, -5.63060656e-01,\n",
       "       -1.65957814e-01,  9.65503605e-01, -1.41530065e+00,  6.65328466e-01,\n",
       "       -2.04800379e-01,  9.51696897e-01, -9.62666121e-01,  1.16675845e+00,\n",
       "        1.23934656e+00, -1.08743512e+00, -6.27069583e-01, -1.70110620e+00,\n",
       "        3.71639111e-03,  3.44265196e-01, -5.72900957e-01, -7.15401275e-01,\n",
       "        9.20636167e-01,  6.48580666e-01, -1.69018037e+00, -1.28250603e+00,\n",
       "       -4.56219492e-01,  1.75577609e-01, -1.11455633e-01, -9.27000631e-01,\n",
       "        2.11618194e+00, -1.27706889e+00, -1.54261612e+00, -1.47040958e+00,\n",
       "        1.10901255e+00,  1.18502868e+00,  1.17990157e+00,  1.08288943e+00,\n",
       "        6.94530755e-01,  1.01757220e+00,  2.54361532e+00, -1.54231728e+00,\n",
       "        1.10798566e+00,  7.38632087e-01,  5.71964854e-01,  4.20237936e-01,\n",
       "        3.08532914e+00,  1.44051800e+00,  7.92403923e-01, -4.71853917e-01,\n",
       "       -9.16475092e-01, -3.02852250e-01,  1.34410372e+00, -1.71892655e+00,\n",
       "        4.79161463e-01, -1.19067176e+00,  4.70901388e-01,  1.91195348e+00,\n",
       "       -1.06104472e+00,  3.50580514e-01, -1.47963471e+00,  7.53709248e-01,\n",
       "        4.35202704e-01, -1.28868645e+00, -6.30726084e-01, -1.83963392e+00,\n",
       "        4.62765938e-01,  7.10474827e-01,  8.79718904e-02, -5.39925683e-01,\n",
       "       -1.13582526e-01, -1.07616545e+00, -2.60560522e+00,  9.87048981e-01,\n",
       "       -5.98132351e-01,  1.56135134e-01,  9.81268262e-01,  4.20473824e-01,\n",
       "        5.67376129e-01,  1.91452907e-01,  4.67358801e-01, -8.91056287e-01,\n",
       "       -8.20222528e-01,  8.82138139e-01,  3.31687423e-01,  1.52341209e-01,\n",
       "       -2.39270285e-01,  2.01700275e+00,  2.63596449e-01,  1.35657080e+00,\n",
       "       -1.14317163e+00, -4.84812633e-01, -2.40578608e+00,  6.51649671e-01,\n",
       "       -1.01590438e-01,  8.27931089e-01,  2.97682919e-02,  3.51462206e-01,\n",
       "        5.29008511e-01,  4.31652213e-01,  1.91736218e-01, -1.57666878e-01,\n",
       "       -9.35182653e-01,  4.74202342e-01, -3.89039811e-01,  1.12922540e-01,\n",
       "        1.43122093e-01, -7.15973447e-01, -2.95487649e+00,  7.93593370e-01,\n",
       "       -3.57572843e-01,  5.14866710e-01,  2.56563469e-01,  1.06413415e+00,\n",
       "       -2.03751064e-01,  1.49683465e+00,  5.77462064e-01, -1.44427648e-01,\n",
       "        6.26545027e-01, -1.47323589e-01,  1.62104559e+00, -8.84668051e-01,\n",
       "        4.29237261e-01,  7.67707156e-01, -3.84030321e-01,  7.87398918e-01,\n",
       "       -5.82006736e-01,  4.34849451e-01,  9.43555056e-01,  9.31634864e-01,\n",
       "       -6.86667169e-01, -1.19492008e+00, -3.95485762e-01,  1.34725889e-02])"
      ]
     },
     "execution_count": 34,
     "metadata": {},
     "output_type": "execute_result"
    }
   ],
   "source": [
    "ar2=np.random.randn(1000)\n",
    "ar2"
   ]
  },
  {
   "cell_type": "code",
   "execution_count": 35,
   "id": "29367dd6-7ff6-4869-b8e9-1dedb1a264a3",
   "metadata": {},
   "outputs": [
    {
     "data": {
      "text/plain": [
       "np.float64(0.5399109886039454)"
      ]
     },
     "execution_count": 35,
     "metadata": {},
     "output_type": "execute_result"
    }
   ],
   "source": [
    "ar1.mean()"
   ]
  },
  {
   "cell_type": "code",
   "execution_count": 36,
   "id": "71ed46df-885c-45a6-afdf-8d3b3e36e97c",
   "metadata": {},
   "outputs": [
    {
     "data": {
      "text/plain": [
       "np.float64(0.21939746642066507)"
      ]
     },
     "execution_count": 36,
     "metadata": {},
     "output_type": "execute_result"
    }
   ],
   "source": [
    "ar1.std()"
   ]
  },
  {
   "cell_type": "code",
   "execution_count": 37,
   "id": "4f2a7cb1-6a51-4c98-869a-686bcd94d70a",
   "metadata": {},
   "outputs": [
    {
     "data": {
      "text/plain": [
       "np.float64(0.0016959582125941912)"
      ]
     },
     "execution_count": 37,
     "metadata": {},
     "output_type": "execute_result"
    }
   ],
   "source": [
    "ar2.mean()"
   ]
  },
  {
   "cell_type": "code",
   "execution_count": 38,
   "id": "83211fc3-da94-4e69-96c1-03321bc28271",
   "metadata": {},
   "outputs": [
    {
     "data": {
      "text/plain": [
       "np.float64(1.0265610941065697)"
      ]
     },
     "execution_count": 38,
     "metadata": {},
     "output_type": "execute_result"
    }
   ],
   "source": [
    "ar2.std()"
   ]
  },
  {
   "cell_type": "code",
   "execution_count": 25,
   "id": "e29d6712-20e9-4dbe-859c-6574ba26edf6",
   "metadata": {},
   "outputs": [
    {
     "ename": "AttributeError",
     "evalue": "module 'numpy' has no attribute 'ciel'",
     "output_type": "error",
     "traceback": [
      "\u001b[1;31m---------------------------------------------------------------------------\u001b[0m",
      "\u001b[1;31mAttributeError\u001b[0m                            Traceback (most recent call last)",
      "Cell \u001b[1;32mIn[25], line 1\u001b[0m\n\u001b[1;32m----> 1\u001b[0m \u001b[43mnp\u001b[49m\u001b[38;5;241;43m.\u001b[39;49m\u001b[43mciel\u001b[49m(ar1)\n",
      "File \u001b[1;32m~\\AppData\\Local\\Programs\\Python\\Python312\\Lib\\site-packages\\numpy\\__init__.py:428\u001b[0m, in \u001b[0;36m__getattr__\u001b[1;34m(attr)\u001b[0m\n\u001b[0;32m    425\u001b[0m     \u001b[38;5;28;01mimport\u001b[39;00m \u001b[38;5;21;01mnumpy\u001b[39;00m\u001b[38;5;21;01m.\u001b[39;00m\u001b[38;5;21;01mchar\u001b[39;00m \u001b[38;5;28;01mas\u001b[39;00m \u001b[38;5;21;01mchar\u001b[39;00m\n\u001b[0;32m    426\u001b[0m     \u001b[38;5;28;01mreturn\u001b[39;00m char\u001b[38;5;241m.\u001b[39mchararray\n\u001b[1;32m--> 428\u001b[0m \u001b[38;5;28;01mraise\u001b[39;00m \u001b[38;5;167;01mAttributeError\u001b[39;00m(\u001b[38;5;124m\"\u001b[39m\u001b[38;5;124mmodule \u001b[39m\u001b[38;5;132;01m{!r}\u001b[39;00m\u001b[38;5;124m has no attribute \u001b[39m\u001b[38;5;124m\"\u001b[39m\n\u001b[0;32m    429\u001b[0m                      \u001b[38;5;124m\"\u001b[39m\u001b[38;5;132;01m{!r}\u001b[39;00m\u001b[38;5;124m\"\u001b[39m\u001b[38;5;241m.\u001b[39mformat(\u001b[38;5;18m__name__\u001b[39m, attr))\n",
      "\u001b[1;31mAttributeError\u001b[0m: module 'numpy' has no attribute 'ciel'"
     ]
    }
   ],
   "source": [
    "np.ciel(ar1)"
   ]
  },
  {
   "cell_type": "code",
   "execution_count": 30,
   "id": "9c184c3c-e7b9-4a8d-8c4b-a60f2644d98c",
   "metadata": {},
   "outputs": [
    {
     "data": {
      "text/plain": [
       "array([1., 1., 1., 1., 1., 1., 1., 1., 1., 1.])"
      ]
     },
     "execution_count": 30,
     "metadata": {},
     "output_type": "execute_result"
    }
   ],
   "source": [
    "np.ceil(ar1)"
   ]
  },
  {
   "cell_type": "code",
   "execution_count": 32,
   "id": "17a343e6-55d6-4cc8-9aa8-91b782bd4a40",
   "metadata": {},
   "outputs": [
    {
     "data": {
      "text/plain": [
       "array([0., 0., 0., 0., 0., 0., 0., 0., 0., 0.])"
      ]
     },
     "execution_count": 32,
     "metadata": {},
     "output_type": "execute_result"
    }
   ],
   "source": [
    "np.floor(ar1)"
   ]
  },
  {
   "cell_type": "code",
   "execution_count": 33,
   "id": "5090a95f-798f-49c8-801a-6cc86d7584fe",
   "metadata": {},
   "outputs": [
    {
     "data": {
      "text/plain": [
       "array([0.46, 0.48, 0.74, 0.31, 0.48, 0.88, 0.94, 0.29, 0.37, 0.44])"
      ]
     },
     "execution_count": 33,
     "metadata": {},
     "output_type": "execute_result"
    }
   ],
   "source": [
    "np.round(ar1,2)"
   ]
  },
  {
   "cell_type": "code",
   "execution_count": 43,
   "id": "fe39c4ed-fc25-449c-9990-ba89666941f7",
   "metadata": {},
   "outputs": [
    {
     "data": {
      "text/plain": [
       "array([[5, 6, 7],\n",
       "       [6, 7, 8],\n",
       "       [7, 8, 9]])"
      ]
     },
     "execution_count": 43,
     "metadata": {},
     "output_type": "execute_result"
    }
   ],
   "source": [
    "x=np.array([1,2,3])\n",
    "y=np.array([4,5,6])\n",
    "x[:,np.newaxis]+y"
   ]
  },
  {
   "cell_type": "code",
   "execution_count": null,
   "id": "f9913f38-1327-4b76-97e9-9b1926b246fb",
   "metadata": {},
   "outputs": [],
   "source": []
  }
 ],
 "metadata": {
  "kernelspec": {
   "display_name": "Python 3 (ipykernel)",
   "language": "python",
   "name": "python3"
  },
  "language_info": {
   "codemirror_mode": {
    "name": "ipython",
    "version": 3
   },
   "file_extension": ".py",
   "mimetype": "text/x-python",
   "name": "python",
   "nbconvert_exporter": "python",
   "pygments_lexer": "ipython3",
   "version": "3.12.5"
  }
 },
 "nbformat": 4,
 "nbformat_minor": 5
}
