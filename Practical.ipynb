{
 "cells": [
  {
   "cell_type": "code",
   "execution_count": 1,
   "id": "b355e367-bc0d-457e-b52c-4944f21d14d1",
   "metadata": {},
   "outputs": [],
   "source": [
    "import pandas as pd\n",
    "import numpy as np\n"
   ]
  },
  {
   "cell_type": "code",
   "execution_count": 2,
   "id": "76e4bda9-5bad-4492-8134-ad46a92d3118",
   "metadata": {},
   "outputs": [],
   "source": [
    "series = pd.Series([5, 10, np.nan, 20, 15])"
   ]
  },
  {
   "cell_type": "code",
   "execution_count": 3,
   "id": "a2ca823c-4e20-4e6f-95bb-a676481422c5",
   "metadata": {},
   "outputs": [
    {
     "data": {
      "text/plain": [
       "50.0"
      ]
     },
     "execution_count": 3,
     "metadata": {},
     "output_type": "execute_result"
    }
   ],
   "source": [
    "series.sum()\n"
   ]
  },
  {
   "cell_type": "code",
   "execution_count": 4,
   "id": "fe80d2f0-db81-4c57-8755-eb2505ac14cb",
   "metadata": {},
   "outputs": [
    {
     "data": {
      "text/plain": [
       "12.5"
      ]
     },
     "execution_count": 4,
     "metadata": {},
     "output_type": "execute_result"
    }
   ],
   "source": [
    "series.mean()"
   ]
  },
  {
   "cell_type": "code",
   "execution_count": 5,
   "id": "e98cebf8-1b80-4f4d-b35a-6301ca8b97bc",
   "metadata": {},
   "outputs": [
    {
     "data": {
      "text/plain": [
       "5.0"
      ]
     },
     "execution_count": 5,
     "metadata": {},
     "output_type": "execute_result"
    }
   ],
   "source": [
    "series.min()"
   ]
  },
  {
   "cell_type": "code",
   "execution_count": 6,
   "id": "e8fa504b-fdd0-4a5b-bdb8-bfef82c4b807",
   "metadata": {},
   "outputs": [
    {
     "data": {
      "text/plain": [
       "20.0"
      ]
     },
     "execution_count": 6,
     "metadata": {},
     "output_type": "execute_result"
    }
   ],
   "source": [
    "series.max()"
   ]
  },
  {
   "cell_type": "code",
   "execution_count": 7,
   "id": "9bc24311-10fe-4d43-8883-273f97faa484",
   "metadata": {},
   "outputs": [
    {
     "data": {
      "text/plain": [
       "0    False\n",
       "1    False\n",
       "2     True\n",
       "3    False\n",
       "4    False\n",
       "dtype: bool"
      ]
     },
     "execution_count": 7,
     "metadata": {},
     "output_type": "execute_result"
    }
   ],
   "source": [
    "series.isnull()"
   ]
  },
  {
   "cell_type": "code",
   "execution_count": 8,
   "id": "01379fa9-61d7-4b5a-ba87-061dbae92779",
   "metadata": {},
   "outputs": [
    {
     "data": {
      "text/plain": [
       "0     True\n",
       "1     True\n",
       "2    False\n",
       "3     True\n",
       "4     True\n",
       "dtype: bool"
      ]
     },
     "execution_count": 8,
     "metadata": {},
     "output_type": "execute_result"
    }
   ],
   "source": [
    "series.notnull()"
   ]
  },
  {
   "cell_type": "code",
   "execution_count": 9,
   "id": "ad6b8e5d-5b50-4309-9dea-9b1525aa8f0f",
   "metadata": {},
   "outputs": [],
   "source": [
    "df = pd.DataFrame({'A': [1, np.nan, 3, 4], 'B': [np.nan, 2, 3, 4]})"
   ]
  },
  {
   "cell_type": "code",
   "execution_count": 10,
   "id": "1920c30f-8c2c-458b-bb8d-ddc0db42fb17",
   "metadata": {},
   "outputs": [
    {
     "data": {
      "text/html": [
       "<div>\n",
       "<style scoped>\n",
       "    .dataframe tbody tr th:only-of-type {\n",
       "        vertical-align: middle;\n",
       "    }\n",
       "\n",
       "    .dataframe tbody tr th {\n",
       "        vertical-align: top;\n",
       "    }\n",
       "\n",
       "    .dataframe thead th {\n",
       "        text-align: right;\n",
       "    }\n",
       "</style>\n",
       "<table border=\"1\" class=\"dataframe\">\n",
       "  <thead>\n",
       "    <tr style=\"text-align: right;\">\n",
       "      <th></th>\n",
       "    </tr>\n",
       "  </thead>\n",
       "  <tbody>\n",
       "    <tr>\n",
       "      <th>0</th>\n",
       "    </tr>\n",
       "    <tr>\n",
       "      <th>1</th>\n",
       "    </tr>\n",
       "    <tr>\n",
       "      <th>2</th>\n",
       "    </tr>\n",
       "    <tr>\n",
       "      <th>3</th>\n",
       "    </tr>\n",
       "  </tbody>\n",
       "</table>\n",
       "</div>"
      ],
      "text/plain": [
       "Empty DataFrame\n",
       "Columns: []\n",
       "Index: [0, 1, 2, 3]"
      ]
     },
     "execution_count": 10,
     "metadata": {},
     "output_type": "execute_result"
    }
   ],
   "source": [
    "df.dropna(axis=1)"
   ]
  },
  {
   "cell_type": "code",
   "execution_count": 11,
   "id": "76ff9579-63c5-4548-9caf-550a89b66576",
   "metadata": {},
   "outputs": [],
   "source": [
    "df['C'] = [np.nan, 5, np.nan, 7]"
   ]
  },
  {
   "cell_type": "code",
   "execution_count": 12,
   "id": "58f3ead5-f92b-46e0-af89-97832cfce636",
   "metadata": {},
   "outputs": [
    {
     "data": {
      "text/html": [
       "<div>\n",
       "<style scoped>\n",
       "    .dataframe tbody tr th:only-of-type {\n",
       "        vertical-align: middle;\n",
       "    }\n",
       "\n",
       "    .dataframe tbody tr th {\n",
       "        vertical-align: top;\n",
       "    }\n",
       "\n",
       "    .dataframe thead th {\n",
       "        text-align: right;\n",
       "    }\n",
       "</style>\n",
       "<table border=\"1\" class=\"dataframe\">\n",
       "  <thead>\n",
       "    <tr style=\"text-align: right;\">\n",
       "      <th></th>\n",
       "      <th>A</th>\n",
       "      <th>B</th>\n",
       "      <th>C</th>\n",
       "    </tr>\n",
       "  </thead>\n",
       "  <tbody>\n",
       "    <tr>\n",
       "      <th>0</th>\n",
       "      <td>1.0</td>\n",
       "      <td>NaN</td>\n",
       "      <td>NaN</td>\n",
       "    </tr>\n",
       "    <tr>\n",
       "      <th>1</th>\n",
       "      <td>1.0</td>\n",
       "      <td>2.0</td>\n",
       "      <td>5.0</td>\n",
       "    </tr>\n",
       "    <tr>\n",
       "      <th>2</th>\n",
       "      <td>3.0</td>\n",
       "      <td>3.0</td>\n",
       "      <td>5.0</td>\n",
       "    </tr>\n",
       "    <tr>\n",
       "      <th>3</th>\n",
       "      <td>4.0</td>\n",
       "      <td>4.0</td>\n",
       "      <td>7.0</td>\n",
       "    </tr>\n",
       "  </tbody>\n",
       "</table>\n",
       "</div>"
      ],
      "text/plain": [
       "     A    B    C\n",
       "0  1.0  NaN  NaN\n",
       "1  1.0  2.0  5.0\n",
       "2  3.0  3.0  5.0\n",
       "3  4.0  4.0  7.0"
      ]
     },
     "execution_count": 12,
     "metadata": {},
     "output_type": "execute_result"
    }
   ],
   "source": [
    "df.ffill(axis=0)"
   ]
  },
  {
   "cell_type": "code",
   "execution_count": null,
   "id": "9733a0ca-ac4c-4295-a54a-38db4ec25af3",
   "metadata": {},
   "outputs": [],
   "source": []
  },
  {
   "cell_type": "code",
   "execution_count": 13,
   "id": "94b5f4ba-23a9-4e1a-8655-560386ead33e",
   "metadata": {},
   "outputs": [
    {
     "data": {
      "text/html": [
       "<div>\n",
       "<style scoped>\n",
       "    .dataframe tbody tr th:only-of-type {\n",
       "        vertical-align: middle;\n",
       "    }\n",
       "\n",
       "    .dataframe tbody tr th {\n",
       "        vertical-align: top;\n",
       "    }\n",
       "\n",
       "    .dataframe thead th {\n",
       "        text-align: right;\n",
       "    }\n",
       "</style>\n",
       "<table border=\"1\" class=\"dataframe\">\n",
       "  <thead>\n",
       "    <tr style=\"text-align: right;\">\n",
       "      <th></th>\n",
       "      <th>A</th>\n",
       "      <th>B</th>\n",
       "      <th>C</th>\n",
       "    </tr>\n",
       "  </thead>\n",
       "  <tbody>\n",
       "    <tr>\n",
       "      <th>0</th>\n",
       "      <td>1.0</td>\n",
       "      <td>NaN</td>\n",
       "      <td>NaN</td>\n",
       "    </tr>\n",
       "    <tr>\n",
       "      <th>1</th>\n",
       "      <td>2.0</td>\n",
       "      <td>2.0</td>\n",
       "      <td>5.0</td>\n",
       "    </tr>\n",
       "    <tr>\n",
       "      <th>2</th>\n",
       "      <td>3.0</td>\n",
       "      <td>3.0</td>\n",
       "      <td>NaN</td>\n",
       "    </tr>\n",
       "    <tr>\n",
       "      <th>3</th>\n",
       "      <td>4.0</td>\n",
       "      <td>4.0</td>\n",
       "      <td>7.0</td>\n",
       "    </tr>\n",
       "  </tbody>\n",
       "</table>\n",
       "</div>"
      ],
      "text/plain": [
       "     A    B    C\n",
       "0  1.0  NaN  NaN\n",
       "1  2.0  2.0  5.0\n",
       "2  3.0  3.0  NaN\n",
       "3  4.0  4.0  7.0"
      ]
     },
     "execution_count": 13,
     "metadata": {},
     "output_type": "execute_result"
    }
   ],
   "source": [
    "df.bfill(axis=1)"
   ]
  },
  {
   "cell_type": "code",
   "execution_count": 7,
   "id": "a182ac03-ce9d-4b1e-a299-20e30a31013d",
   "metadata": {},
   "outputs": [],
   "source": [
    "val=np.array([1,np.nan,3])"
   ]
  },
  {
   "cell_type": "code",
   "execution_count": 8,
   "id": "e1f65ea9-eec8-4f2a-b937-9089eed9f359",
   "metadata": {},
   "outputs": [
    {
     "data": {
      "text/plain": [
       "4.0"
      ]
     },
     "execution_count": 8,
     "metadata": {},
     "output_type": "execute_result"
    }
   ],
   "source": [
    "np.nansum(val)"
   ]
  },
  {
   "cell_type": "code",
   "execution_count": 10,
   "id": "2cf3003a-17d2-4448-82ba-a88c958b7c98",
   "metadata": {},
   "outputs": [
    {
     "data": {
      "text/plain": [
       "numpy.ndarray"
      ]
     },
     "execution_count": 10,
     "metadata": {},
     "output_type": "execute_result"
    }
   ],
   "source": [
    "type(val)"
   ]
  },
  {
   "cell_type": "code",
   "execution_count": 1,
   "id": "59a62ecd-4d2a-458b-a32c-4cb2384cac4f",
   "metadata": {},
   "outputs": [
    {
     "name": "stdout",
     "output_type": "stream",
     "text": [
      "  Region Salesperson Product  Sales\n",
      "0  North       Alice       A    200\n",
      "1  South         Bob       B    120\n",
      "2  North     Charlie       A    340\n",
      "3   East       David       C    560\n",
      "4   West         Eve       B    220\n",
      "5   East       Frank       A    300\n",
      "6  South       Grace       C    150\n",
      "7   West      Hannah       C    500\n",
      "8  North         Ian       B    250\n",
      "9   East        Jack       A    100\n"
     ]
    }
   ],
   "source": [
    "import pandas as pd\n",
    "\n",
    "# Sample data\n",
    "data = {\n",
    "    'Region': ['North', 'South', 'North', 'East', 'West', 'East', 'South', 'West', 'North', 'East'],\n",
    "    'Salesperson': ['Alice', 'Bob', 'Charlie', 'David', 'Eve', 'Frank', 'Grace', 'Hannah', 'Ian', 'Jack'],\n",
    "    'Product': ['A', 'B', 'A', 'C', 'B', 'A', 'C', 'C', 'B', 'A'],\n",
    "    'Sales': [200, 120, 340, 560, 220, 300, 150, 500, 250, 100]\n",
    "}\n",
    "\n",
    "df = pd.DataFrame(data)\n",
    "print(df)\n"
   ]
  },
  {
   "cell_type": "code",
   "execution_count": 2,
   "id": "0e6e8c15-7386-4958-a2f8-3fb8fc2cbd90",
   "metadata": {},
   "outputs": [
    {
     "name": "stdout",
     "output_type": "stream",
     "text": [
      "  Region Product  sum   mean\n",
      "0   East       A  400  200.0\n",
      "1   East       C  560  560.0\n",
      "2  North       A  540  270.0\n",
      "3  North       B  250  250.0\n",
      "4  South       B  120  120.0\n",
      "5  South       C  150  150.0\n",
      "6   West       B  220  220.0\n",
      "7   West       C  500  500.0\n"
     ]
    }
   ],
   "source": [
    "# Aggregating by 'Region' and 'Product'\n",
    "region_product_agg = df.groupby(['Region', 'Product'])['Sales'].agg(['sum', 'mean']).reset_index()\n",
    "print(region_product_agg)\n"
   ]
  },
  {
   "cell_type": "code",
   "execution_count": 3,
   "id": "83794409-c02e-4ba4-8de8-5cbcd7a6ee6e",
   "metadata": {},
   "outputs": [
    {
     "name": "stdout",
     "output_type": "stream",
     "text": [
      "  Region Salesperson Product  Sales Sales_Class\n",
      "0  North       Alice       A    200         Low\n",
      "1  South         Bob       B    120         Low\n",
      "2  North     Charlie       A    340        High\n",
      "3   East       David       C    560        High\n",
      "4   West         Eve       B    220         Low\n",
      "5   East       Frank       A    300         Low\n",
      "6  South       Grace       C    150         Low\n",
      "7   West      Hannah       C    500        High\n",
      "8  North         Ian       B    250         Low\n",
      "9   East        Jack       A    100         Low\n"
     ]
    }
   ],
   "source": [
    "\n",
    "# Define a custom function for classification\n",
    "def sales_classification(sales):\n",
    "    return 'High' if sales > 300 else 'Low'\n",
    "\n",
    "# Apply function to each 'Sales' value\n",
    "df['Sales_Class'] = df['Sales'].apply(sales_classification)\n",
    "print(df)\n"
   ]
  },
  {
   "cell_type": "code",
   "execution_count": null,
   "id": "b9aed40c-ed69-4f34-9999-d8709905cad9",
   "metadata": {},
   "outputs": [],
   "source": []
  }
 ],
 "metadata": {
  "kernelspec": {
   "display_name": "Python 3 (ipykernel)",
   "language": "python",
   "name": "python3"
  },
  "language_info": {
   "codemirror_mode": {
    "name": "ipython",
    "version": 3
   },
   "file_extension": ".py",
   "mimetype": "text/x-python",
   "name": "python",
   "nbconvert_exporter": "python",
   "pygments_lexer": "ipython3",
   "version": "3.12.5"
  }
 },
 "nbformat": 4,
 "nbformat_minor": 5
}
