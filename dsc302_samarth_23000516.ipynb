{
 "cells": [
  {
   "cell_type": "code",
   "execution_count": 1,
   "metadata": {},
   "outputs": [
    {
     "name": "stdout",
     "output_type": "stream",
     "text": [
      "2401\n"
     ]
    }
   ],
   "source": [
    "print(7**4)"
   ]
  },
  {
   "cell_type": "code",
   "execution_count": 2,
   "metadata": {},
   "outputs": [
    {
     "data": {
      "text/plain": [
       "1"
      ]
     },
     "execution_count": 2,
     "metadata": {},
     "output_type": "execute_result"
    }
   ],
   "source": [
    "print(7//4)\n"
   ]
  },
  {
   "cell_type": "code",
   "execution_count": 9,
   "metadata": {},
   "outputs": [
    {
     "name": "stdout",
     "output_type": "stream",
     "text": [
      "['Hi', 'there', 'Sam!']\n"
     ]
    }
   ],
   "source": [
    "s=\"Hi there Sam!\"\n",
    "a=s.split(\" \")\n",
    "print(a)"
   ]
  },
  {
   "cell_type": "code",
   "execution_count": 12,
   "metadata": {},
   "outputs": [
    {
     "name": "stdout",
     "output_type": "stream",
     "text": [
      "12742 Kilometer\n"
     ]
    }
   ],
   "source": [
    "diameter=12742\n",
    "print(\"{} Kilometer\".format(diameter))"
   ]
  },
  {
   "cell_type": "code",
   "execution_count": 17,
   "metadata": {},
   "outputs": [
    {
     "name": "stdout",
     "output_type": "stream",
     "text": [
      "hello\n"
     ]
    }
   ],
   "source": [
    "lst=[1,2,[3,4],[5,[100,200,[\"hello\"]],23,11],1,7]\n",
    "print(lst[3][1][2][0])"
   ]
  },
  {
   "cell_type": "code",
   "execution_count": 19,
   "metadata": {},
   "outputs": [
    {
     "name": "stdout",
     "output_type": "stream",
     "text": [
      "hello\n"
     ]
    }
   ],
   "source": [
    "d={'k1':[1,2,3,{'tricky':['oh','man','inception',{'target':[1,2,3,'hello']}]}]}\n",
    "print(d['k1'][3]['tricky'][3]['target'][3])"
   ]
  },
  {
   "cell_type": "code",
   "execution_count": 22,
   "metadata": {},
   "outputs": [
    {
     "name": "stdout",
     "output_type": "stream",
     "text": [
      "nuv.ac.in\n"
     ]
    }
   ],
   "source": [
    "def function(email):\n",
    "    print(email.split(\"@\")[1])\n",
    "    \n",
    "function(\"sam@nuv.ac.in\")"
   ]
  },
  {
   "cell_type": "code",
   "execution_count": null,
   "metadata": {},
   "outputs": [
    {
     "name": "stdout",
     "output_type": "stream",
     "text": [
      "True\n"
     ]
    }
   ],
   "source": [
    "def function(dog):\n",
    "    if(\"dog\" in dog.lower()):\n",
    "        return (True)\n",
    "    else:\n",
    "        return(False)\n",
    "print(function(\"there is Dog\"))"
   ]
  },
  {
   "cell_type": "code",
   "execution_count": null,
   "metadata": {},
   "outputs": [
    {
     "name": "stdout",
     "output_type": "stream",
     "text": [
      "True\n",
      "False\n",
      "True\n"
     ]
    }
   ],
   "source": [
    "s = [\"sqwf\",\"tehd\",\"sgteyf\",\"sss\"]\n",
    "x= lambda n:n[0]==\"s\"\n",
    "for i in range(0,len(s)):\n",
    "    if(x(s[i])):\n",
    "        print(s[i])"
   ]
  },
  {
   "cell_type": "markdown",
   "metadata": {},
   "source": [
    "from datetime import date\n",
    "speed=82\n",
    "D=\"2024-07-09\"\n",
    "current_date = date.today()\n",
    "if(D==str(current_date)):\n",
    "   speed+=5\n",
    "T=[\"No ticket\",\"Small ticket\",\"Big ticket\"]\n",
    "if(speed<=60):\n",
    "   print(T[0])\n",
    "elif(speed>=61 and speed<=80):\n",
    "   print(T[1])\n",
    "elif(speed>=81):\n",
    "   print(T[2])"
   ]
  },
  {
   "cell_type": "code",
   "execution_count": null,
   "metadata": {},
   "outputs": [],
   "source": [
    "#input\n",
    "roll_no=1\n",
    "name=\"samarth\"\n",
    "M_P=\"70%\"\n",
    "M_M=\"80%\"\n",
    "M_C=\"30%\"\n",
    "\n",
    "m_p=int(M_P.replace(\"%\",\"\"))\n",
    "m_m=int(M_M.replace(\"%\",\"\"))\n",
    "m_c=int(M_C.replace(\"%\",\"\"))\n",
    "\n",
    "for i in m_p,m_m,m_c:\n",
    "    if(i>40 and i<=49):\n",
    "        if(i==m_p):\n",
    "          R_P=\"PASS CLASS\"\n",
    "        elif(i==m_m):\n",
    "           R_M=\"PASS CLASS\"\n",
    "        else:\n",
    "           R_C=\"PASS CLASS\"\n",
    "    elif(i>50 and i<=60):\n",
    "        if(i==m_p):\n",
    "          R_P=\"SECOND CLASS\"\n",
    "        elif(i==m_m):\n",
    "           R_M=\"SECOND CLASS\"\n",
    "        else:\n",
    "           R_C=\"SECOND CLASS\"\n",
    "    elif(i>60 and i<=70):\n",
    "        if(i==m_p):\n",
    "          R_P=\"FIRST CLASS\"\n",
    "        elif(i==m_m):\n",
    "           R_M=\"FIRST CLASS\"\n",
    "        else:\n",
    "           R_C=\"FIRST CLASS\"\n",
    "    elif(i>70):\n",
    "        if(i==m_p):\n",
    "          R_P=\"DISTINCTION\"\n",
    "        elif(i==m_m):\n",
    "           R_M=\"DISTINCTION\"\n",
    "        else:\n",
    "           R_C=\"DISTINCTION\"\n",
    "    else:\n",
    "        if(i==m_p):\n",
    "          R_P=\"Fail\"\n",
    "        elif(i==m_m):\n",
    "           R_M=\"Fail\"\n",
    "        else:\n",
    "           R_C=\"Fail\"\n",
    "       \n",
    "print(roll_no,name,\"in Physic\",R_P,\", in Maths\",R_M,\" and in Chemistry\",R_C)"
   ]
  },
  {
   "cell_type": "code",
   "execution_count": null,
   "metadata": {},
   "outputs": [],
   "source": [
    "empid=int(input(\"Enter empid :\"))\n",
    "name=input(\"Enter name :\")\n",
    "basic_salary=int(input(\"Enter basic salary :\"))\n",
    "E_in_year=int(input(\"Enter No. of experiece :\"))\n",
    "\n",
    "hra=35*basic_salary/100\n",
    "da=58*basic_salary/100\n",
    "pf=9.5*basic_salary/100\n",
    "\n",
    "if (E_in_year>=30):\n",
    "    bonus=59*basic_salary/100\n",
    "elif(E_in_year>=23):\n",
    "    bonus=51*basic_salary/100\n",
    "elif(E_in_year>=15):\n",
    "    bonus=45*basic_salary/100\n",
    "elif(E_in_year>=7):\n",
    "    bonus=33*basic_salary/100\n",
    "elif(E_in_year<7):\n",
    "    bonus=16*basic_salary/100\n",
    "    \n",
    "net_salary=basic_salary+da+hra-pf+bonus\n",
    "print(\"Net salary :\",net_salary)"
   ]
  }
 ],
 "metadata": {
  "kernelspec": {
   "display_name": "Python 3",
   "language": "python",
   "name": "python3"
  },
  "language_info": {
   "codemirror_mode": {
    "name": "ipython",
    "version": 3
   },
   "file_extension": ".py",
   "mimetype": "text/x-python",
   "name": "python",
   "nbconvert_exporter": "python",
   "pygments_lexer": "ipython3",
   "version": "3.7.3"
  }
 },
 "nbformat": 4,
 "nbformat_minor": 2
}
